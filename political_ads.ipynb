{
 "cells": [
  {
   "cell_type": "code",
   "execution_count": 2,
   "metadata": {
    "collapsed": true
   },
   "outputs": [],
   "source": [
    "import pandas as pd\n",
    "import numpy as np"
   ]
  },
  {
   "cell_type": "code",
   "execution_count": 5,
   "metadata": {
    "collapsed": false
   },
   "outputs": [],
   "source": [
    "dataset=pd.read_csv('datasets/PoliticalAdsExperiment.txt',sep=\"\\t\")"
   ]
  },
  {
   "cell_type": "code",
   "execution_count": 18,
   "metadata": {
    "collapsed": false
   },
   "outputs": [
    {
     "data": {
      "text/plain": [
       "AdvertisementID                                          PolAd_TedCruz_3ypn4\n",
       "AdvertisementDetailsURL      https://archive.org/details/PolAd_TedCruz_3ypn4\n",
       "FrameSecond                                                               11\n",
       "ImageZIPURL                https://archive.org/download/PoliticalAdsExper...\n",
       "ImageZIPFilename                                  PolAd_TedCruz_3ypn4-11.jpg\n",
       "ImageOnlinePreviewURL      https://archive.org/download/PoliticalAdsExper...\n",
       "JSON                       { \"responses\": [ { \"labelAnnotations\": [ { \"mi...\n",
       "Name: 10000, dtype: object"
      ]
     },
     "execution_count": 18,
     "metadata": {},
     "output_type": "execute_result"
    }
   ],
   "source": [
    "dataset"
   ]
  }
 ],
 "metadata": {
  "kernelspec": {
   "display_name": "Python 2",
   "language": "python",
   "name": "python2"
  },
  "language_info": {
   "codemirror_mode": {
    "name": "ipython",
    "version": 2
   },
   "file_extension": ".py",
   "mimetype": "text/x-python",
   "name": "python",
   "nbconvert_exporter": "python",
   "pygments_lexer": "ipython2",
   "version": "2.7.6"
  }
 },
 "nbformat": 4,
 "nbformat_minor": 0
}
