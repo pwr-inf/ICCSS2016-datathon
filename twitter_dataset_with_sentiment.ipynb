{
 "cells": [
  {
   "cell_type": "code",
   "execution_count": 67,
   "metadata": {
    "collapsed": false
   },
   "outputs": [],
   "source": [
    "import pandas as pd\n",
    "import numpy as np\n",
    "import json\n",
    "from polyglot.text import Text\n",
    "from polyglot.downloader import downloader\n",
    "from textblob import TextBlob\n",
    "import nltk\n",
    "import timestring\n",
    "from datetime import datetime\n",
    "import plotly.plotly as py\n",
    "import plotly.graph_objs as go\n",
    "import scipy as sp\n",
    "import itertools\n",
    "from ttp import ttp\n",
    "import pickle"
   ]
  },
  {
   "cell_type": "code",
   "execution_count": 2,
   "metadata": {
    "collapsed": false
   },
   "outputs": [
    {
     "name": "stderr",
     "output_type": "stream",
     "text": [
      "/usr/local/lib/python2.7/dist-packages/IPython/core/interactiveshell.py:2871: DtypeWarning:\n",
      "\n",
      "Columns (51) have mixed types. Specify dtype option on import or set low_memory=False.\n",
      "\n"
     ]
    }
   ],
   "source": [
    "tweets=pd.read_csv('datasets/pres_tweets.csv')"
   ]
  },
  {
   "cell_type": "code",
   "execution_count": 57,
   "metadata": {
    "collapsed": false
   },
   "outputs": [],
   "source": [
    "def get_entity_sentiment(e):\n",
    "    try:\n",
    "        pos=e.positive_sentiment\n",
    "        neg=e.negative_sentiment\n",
    "        return pos,neg\n",
    "    except:\n",
    "        return '',''\n",
    "def get_sentiment(t):\n",
    "    blob = TextBlob(t.decode('utf=8'))\n",
    "    return map(lambda s:s.sentiment.polarity,blob.sentences)\n",
    "def get_noun_phrases(t):\n",
    "    blob = TextBlob(t.decode('utf-8'))\n",
    "    return list(blob.noun_phrases)\n",
    "def map_entity(e):\n",
    "    pos,neg=get_entity_sentiment(e)\n",
    "    return {'tag':e.tag,'entity':\" \".join(e),'pos':pos,'neg':neg}\n",
    "def get_entites(text):\n",
    "    try:\n",
    "        polyglot_text=Text(text)\n",
    "        entities=polyglot_text.entities\n",
    "        p = ttp.Parser()\n",
    "        result = p.parse(text.decode('utf-8'))\n",
    "        sentiment=get_sentiment(text)\n",
    "        sentiment=reduce(lambda x, y: x + y, sentiment) / len(sentiment) if sentiment else 0\n",
    "        pos=sentiment if sentiment>0 else 0\n",
    "        neg=abs(sentiment) if sentiment<0 else 0\n",
    "        return list(itertools.chain(map(map_entity,entities),map(lambda u: {'tag':'twitter','entity':u,'pos':pos,'neg':neg},result.users)))\n",
    "    except Exception as e:\n",
    "        print e\n",
    "        return []\n",
    "     \n",
    "def map_to_data(tweet):\n",
    "    user_name=tweet['user']['name']\n",
    "    text=tweet['text']\n",
    "    return {'text':text,'user':user_name,'entities':get_entites(text),'sentiment':get_sentiment(text),'noun_phrases':get_noun_phrases(text)}"
   ]
  },
  {
   "cell_type": "code",
   "execution_count": 58,
   "metadata": {
    "collapsed": false
   },
   "outputs": [
    {
     "name": "stderr",
     "output_type": "stream",
     "text": [
      "WARNING:polyglot.detect.base:Detector is not able to detect the language reliably.\n",
      "WARNING:polyglot.detect.base:Detector is not able to detect the language reliably.\n",
      "WARNING:polyglot.detect.base:Detector is not able to detect the language reliably.\n",
      "WARNING:polyglot.detect.base:Detector is not able to detect the language reliably.\n",
      "WARNING:polyglot.detect.base:Detector is not able to detect the language reliably.\n",
      "WARNING:polyglot.detect.base:Detector is not able to detect the language reliably.\n",
      "WARNING:polyglot.detect.base:Detector is not able to detect the language reliably.\n",
      "WARNING:polyglot.detect.base:Detector is not able to detect the language reliably.\n"
     ]
    },
    {
     "name": "stdout",
     "output_type": "stream",
     "text": [
      "Package u'ner2.sco' not found in index\n",
      "Package u'ner2.sco' not found in index"
     ]
    },
    {
     "name": "stderr",
     "output_type": "stream",
     "text": [
      "WARNING:polyglot.detect.base:Detector is not able to detect the language reliably.\n",
      "WARNING:polyglot.detect.base:Detector is not able to detect the language reliably.\n"
     ]
    },
    {
     "name": "stdout",
     "output_type": "stream",
     "text": [
      "\n",
      "Package u'ner2.sco' not found in index"
     ]
    },
    {
     "name": "stderr",
     "output_type": "stream",
     "text": [
      "WARNING:polyglot.detect.base:Detector is not able to detect the language reliably.\n"
     ]
    },
    {
     "name": "stdout",
     "output_type": "stream",
     "text": [
      "\n",
      "Package u'ner2.sco' not found in index"
     ]
    },
    {
     "name": "stderr",
     "output_type": "stream",
     "text": [
      "WARNING:polyglot.detect.base:Detector is not able to detect the language reliably.\n",
      "WARNING:polyglot.detect.base:Detector is not able to detect the language reliably.\n",
      "WARNING:polyglot.detect.base:Detector is not able to detect the language reliably.\n",
      "WARNING:polyglot.detect.base:Detector is not able to detect the language reliably.\n",
      "WARNING:polyglot.detect.base:Detector is not able to detect the language reliably.\n",
      "WARNING:polyglot.detect.base:Detector is not able to detect the language reliably.\n",
      "WARNING:polyglot.detect.base:Detector is not able to detect the language reliably.\n",
      "WARNING:polyglot.detect.base:Detector is not able to detect the language reliably.\n",
      "WARNING:polyglot.detect.base:Detector is not able to detect the language reliably.\n"
     ]
    },
    {
     "name": "stdout",
     "output_type": "stream",
     "text": [
      "\n",
      "This resource is available in the index but not downloaded, yet. Try to run\n",
      "\n",
      "polyglot download embeddings2.ga\n",
      "This resource is available in the index but not downloaded, yet. Try to run\n",
      "\n",
      "polyglot download embeddings2.es"
     ]
    },
    {
     "name": "stderr",
     "output_type": "stream",
     "text": [
      "WARNING:polyglot.detect.base:Detector is not able to detect the language reliably.\n",
      "WARNING:polyglot.detect.base:Detector is not able to detect the language reliably.\n"
     ]
    },
    {
     "name": "stdout",
     "output_type": "stream",
     "text": [
      "\n",
      "This resource is available in the index but not downloaded, yet. Try to run\n",
      "\n",
      "polyglot download embeddings2.es"
     ]
    },
    {
     "name": "stderr",
     "output_type": "stream",
     "text": [
      "WARNING:polyglot.detect.base:Detector is not able to detect the language reliably.\n",
      "WARNING:polyglot.detect.base:Detector is not able to detect the language reliably.\n",
      "WARNING:polyglot.detect.base:Detector is not able to detect the language reliably.\n",
      "WARNING:polyglot.detect.base:Detector is not able to detect the language reliably.\n",
      "WARNING:polyglot.detect.base:Detector is not able to detect the language reliably.\n",
      "WARNING:polyglot.detect.base:Detector is not able to detect the language reliably.\n",
      "WARNING:polyglot.detect.base:Detector is not able to detect the language reliably.\n",
      "WARNING:polyglot.detect.base:Detector is not able to detect the language reliably.\n",
      "WARNING:polyglot.detect.base:Detector is not able to detect the language reliably.\n",
      "WARNING:polyglot.detect.base:Detector is not able to detect the language reliably.\n"
     ]
    },
    {
     "name": "stdout",
     "output_type": "stream",
     "text": [
      "\n",
      "Package u'ner2.sco' not found in index"
     ]
    },
    {
     "name": "stderr",
     "output_type": "stream",
     "text": [
      "WARNING:polyglot.detect.base:Detector is not able to detect the language reliably.\n",
      "WARNING:polyglot.detect.base:Detector is not able to detect the language reliably.\n"
     ]
    },
    {
     "name": "stdout",
     "output_type": "stream",
     "text": [
      "\n",
      "This resource is available in the index but not downloaded, yet. Try to run\n",
      "\n",
      "polyglot download embeddings2.es"
     ]
    },
    {
     "name": "stderr",
     "output_type": "stream",
     "text": [
      "WARNING:polyglot.detect.base:Detector is not able to detect the language reliably.\n",
      "WARNING:polyglot.detect.base:Detector is not able to detect the language reliably.\n",
      "WARNING:polyglot.detect.base:Detector is not able to detect the language reliably.\n",
      "WARNING:polyglot.detect.base:Detector is not able to detect the language reliably.\n",
      "WARNING:polyglot.detect.base:Detector is not able to detect the language reliably.\n"
     ]
    },
    {
     "name": "stdout",
     "output_type": "stream",
     "text": [
      "\n",
      "This resource is available in the index but not downloaded, yet. Try to run\n",
      "\n",
      "polyglot download embeddings2.es\n",
      "This resource is available in the index but not downloaded, yet. Try to run\n",
      "\n",
      "polyglot download embeddings2.es\n",
      "This resource is available in the index but not downloaded, yet. Try to run\n",
      "\n",
      "polyglot download embeddings2.es"
     ]
    },
    {
     "name": "stderr",
     "output_type": "stream",
     "text": [
      "WARNING:polyglot.detect.base:Detector is not able to detect the language reliably.\n",
      "WARNING:polyglot.detect.base:Detector is not able to detect the language reliably.\n",
      "WARNING:polyglot.detect.base:Detector is not able to detect the language reliably.\n",
      "WARNING:polyglot.detect.base:Detector is not able to detect the language reliably.\n",
      "WARNING:polyglot.detect.base:Detector is not able to detect the language reliably.\n"
     ]
    },
    {
     "name": "stdout",
     "output_type": "stream",
     "text": [
      "\n",
      "This resource is available in the index but not downloaded, yet. Try to run\n",
      "\n",
      "polyglot download embeddings2.es"
     ]
    },
    {
     "name": "stderr",
     "output_type": "stream",
     "text": [
      "WARNING:polyglot.detect.base:Detector is not able to detect the language reliably.\n"
     ]
    },
    {
     "name": "stdout",
     "output_type": "stream",
     "text": [
      "\n",
      "Package u'ner2.sco' not found in index"
     ]
    },
    {
     "name": "stderr",
     "output_type": "stream",
     "text": [
      "WARNING:polyglot.detect.base:Detector is not able to detect the language reliably.\n",
      "WARNING:polyglot.detect.base:Detector is not able to detect the language reliably.\n",
      "WARNING:polyglot.detect.base:Detector is not able to detect the language reliably.\n"
     ]
    },
    {
     "name": "stdout",
     "output_type": "stream",
     "text": [
      "\n",
      "This resource is available in the index but not downloaded, yet. Try to run\n",
      "\n",
      "polyglot download embeddings2.pt"
     ]
    },
    {
     "name": "stderr",
     "output_type": "stream",
     "text": [
      "WARNING:polyglot.detect.base:Detector is not able to detect the language reliably.\n",
      "WARNING:polyglot.detect.base:Detector is not able to detect the language reliably.\n",
      "WARNING:polyglot.detect.base:Detector is not able to detect the language reliably.\n",
      "WARNING:polyglot.detect.base:Detector is not able to detect the language reliably.\n"
     ]
    },
    {
     "name": "stdout",
     "output_type": "stream",
     "text": [
      "\n",
      "This resource is available in the index but not downloaded, yet. Try to run\n",
      "\n",
      "polyglot download embeddings2.es"
     ]
    },
    {
     "name": "stderr",
     "output_type": "stream",
     "text": [
      "WARNING:polyglot.detect.base:Detector is not able to detect the language reliably.\n",
      "WARNING:polyglot.detect.base:Detector is not able to detect the language reliably.\n"
     ]
    },
    {
     "name": "stdout",
     "output_type": "stream",
     "text": [
      "\n",
      "Package u'embeddings2.st' not found in index"
     ]
    },
    {
     "name": "stderr",
     "output_type": "stream",
     "text": [
      "WARNING:polyglot.detect.base:Detector is not able to detect the language reliably.\n",
      "WARNING:polyglot.detect.base:Detector is not able to detect the language reliably.\n",
      "WARNING:polyglot.detect.base:Detector is not able to detect the language reliably.\n",
      "WARNING:polyglot.detect.base:Detector is not able to detect the language reliably.\n",
      "WARNING:polyglot.detect.base:Detector is not able to detect the language reliably.\n"
     ]
    },
    {
     "name": "stdout",
     "output_type": "stream",
     "text": [
      "\n",
      "This resource is available in the index but not downloaded, yet. Try to run\n",
      "\n",
      "polyglot download embeddings2.br"
     ]
    },
    {
     "name": "stderr",
     "output_type": "stream",
     "text": [
      "WARNING:polyglot.detect.base:Detector is not able to detect the language reliably.\n",
      "WARNING:polyglot.detect.base:Detector is not able to detect the language reliably.\n",
      "WARNING:polyglot.detect.base:Detector is not able to detect the language reliably.\n"
     ]
    },
    {
     "name": "stdout",
     "output_type": "stream",
     "text": [
      "\n",
      "This resource is available in the index but not downloaded, yet. Try to run\n",
      "\n",
      "polyglot download embeddings2.es"
     ]
    },
    {
     "name": "stderr",
     "output_type": "stream",
     "text": [
      "WARNING:polyglot.detect.base:Detector is not able to detect the language reliably.\n",
      "WARNING:polyglot.detect.base:Detector is not able to detect the language reliably.\n"
     ]
    },
    {
     "name": "stdout",
     "output_type": "stream",
     "text": [
      "\n",
      "This resource is available in the index but not downloaded, yet. Try to run\n",
      "\n",
      "polyglot download embeddings2.es"
     ]
    },
    {
     "name": "stderr",
     "output_type": "stream",
     "text": [
      "WARNING:polyglot.detect.base:Detector is not able to detect the language reliably.\n"
     ]
    },
    {
     "name": "stdout",
     "output_type": "stream",
     "text": [
      "\n",
      "This resource is available in the index but not downloaded, yet. Try to run\n",
      "\n",
      "polyglot download embeddings2.es\n",
      "This resource is available in the index but not downloaded, yet. Try to run\n",
      "\n",
      "polyglot download embeddings2.es\n",
      "This resource is available in the index but not downloaded, yet. Try to run\n",
      "\n",
      "polyglot download embeddings2.es\n",
      "This resource is available in the index but not downloaded, yet. Try to run\n",
      "\n",
      "polyglot download embeddings2.es\n",
      "This resource is available in the index but not downloaded, yet. Try to run\n",
      "\n",
      "polyglot download embeddings2.es"
     ]
    },
    {
     "name": "stderr",
     "output_type": "stream",
     "text": [
      "WARNING:polyglot.detect.base:Detector is not able to detect the language reliably.\n",
      "WARNING:polyglot.detect.base:Detector is not able to detect the language reliably.\n",
      "WARNING:polyglot.detect.base:Detector is not able to detect the language reliably.\n",
      "WARNING:polyglot.detect.base:Detector is not able to detect the language reliably.\n"
     ]
    },
    {
     "name": "stdout",
     "output_type": "stream",
     "text": [
      "\n",
      "This resource is available in the index but not downloaded, yet. Try to run\n",
      "\n",
      "polyglot download embeddings2.es"
     ]
    },
    {
     "name": "stderr",
     "output_type": "stream",
     "text": [
      "WARNING:polyglot.detect.base:Detector is not able to detect the language reliably.\n",
      "WARNING:polyglot.detect.base:Detector is not able to detect the language reliably.\n",
      "WARNING:polyglot.detect.base:Detector is not able to detect the language reliably.\n"
     ]
    },
    {
     "name": "stdout",
     "output_type": "stream",
     "text": [
      "\n",
      "Package u'embeddings2.un' not found in index"
     ]
    },
    {
     "name": "stderr",
     "output_type": "stream",
     "text": [
      "WARNING:polyglot.detect.base:Detector is not able to detect the language reliably.\n",
      "WARNING:polyglot.detect.base:Detector is not able to detect the language reliably.\n",
      "WARNING:polyglot.detect.base:Detector is not able to detect the language reliably.\n"
     ]
    },
    {
     "name": "stdout",
     "output_type": "stream",
     "text": [
      "\n",
      "Package u'ner2.sco' not found in index"
     ]
    },
    {
     "name": "stderr",
     "output_type": "stream",
     "text": [
      "WARNING:polyglot.detect.base:Detector is not able to detect the language reliably.\n",
      "WARNING:polyglot.detect.base:Detector is not able to detect the language reliably.\n",
      "WARNING:polyglot.detect.base:Detector is not able to detect the language reliably.\n",
      "WARNING:polyglot.detect.base:Detector is not able to detect the language reliably.\n",
      "WARNING:polyglot.detect.base:Detector is not able to detect the language reliably.\n",
      "WARNING:polyglot.detect.base:Detector is not able to detect the language reliably.\n",
      "WARNING:polyglot.detect.base:Detector is not able to detect the language reliably.\n"
     ]
    },
    {
     "name": "stdout",
     "output_type": "stream",
     "text": [
      "\n",
      "Package u'ner2.sco' not found in index"
     ]
    },
    {
     "name": "stderr",
     "output_type": "stream",
     "text": [
      "WARNING:polyglot.detect.base:Detector is not able to detect the language reliably.\n"
     ]
    },
    {
     "name": "stdout",
     "output_type": "stream",
     "text": [
      "\n",
      "This resource is available in the index but not downloaded, yet. Try to run\n",
      "\n",
      "polyglot download embeddings2.es"
     ]
    },
    {
     "name": "stderr",
     "output_type": "stream",
     "text": [
      "WARNING:polyglot.detect.base:Detector is not able to detect the language reliably.\n",
      "WARNING:polyglot.detect.base:Detector is not able to detect the language reliably.\n",
      "WARNING:polyglot.detect.base:Detector is not able to detect the language reliably.\n",
      "WARNING:polyglot.detect.base:Detector is not able to detect the language reliably.\n"
     ]
    },
    {
     "name": "stdout",
     "output_type": "stream",
     "text": [
      "\n",
      "This resource is available in the index but not downloaded, yet. Try to run\n",
      "\n",
      "polyglot download embeddings2.ceb"
     ]
    },
    {
     "name": "stderr",
     "output_type": "stream",
     "text": [
      "WARNING:polyglot.detect.base:Detector is not able to detect the language reliably.\n",
      "WARNING:polyglot.detect.base:Detector is not able to detect the language reliably.\n"
     ]
    },
    {
     "name": "stdout",
     "output_type": "stream",
     "text": [
      "\n",
      "This resource is available in the index but not downloaded, yet. Try to run\n",
      "\n",
      "polyglot download embeddings2.es\n",
      "This resource is available in the index but not downloaded, yet. Try to run\n",
      "\n",
      "polyglot download embeddings2.es"
     ]
    },
    {
     "name": "stderr",
     "output_type": "stream",
     "text": [
      "WARNING:polyglot.detect.base:Detector is not able to detect the language reliably.\n",
      "WARNING:polyglot.detect.base:Detector is not able to detect the language reliably.\n",
      "WARNING:polyglot.detect.base:Detector is not able to detect the language reliably.\n",
      "WARNING:polyglot.detect.base:Detector is not able to detect the language reliably.\n",
      "WARNING:polyglot.detect.base:Detector is not able to detect the language reliably.\n",
      "WARNING:polyglot.detect.base:Detector is not able to detect the language reliably.\n"
     ]
    },
    {
     "name": "stdout",
     "output_type": "stream",
     "text": [
      "\n",
      "This resource is available in the index but not downloaded, yet. Try to run\n",
      "\n",
      "polyglot download embeddings2.es"
     ]
    },
    {
     "name": "stderr",
     "output_type": "stream",
     "text": [
      "WARNING:polyglot.detect.base:Detector is not able to detect the language reliably.\n"
     ]
    },
    {
     "name": "stdout",
     "output_type": "stream",
     "text": [
      "\n",
      "This resource is available in the index but not downloaded, yet. Try to run\n",
      "\n",
      "polyglot download embeddings2.es\n",
      "This resource is available in the index but not downloaded, yet. Try to run\n",
      "\n",
      "polyglot download embeddings2.es"
     ]
    },
    {
     "name": "stderr",
     "output_type": "stream",
     "text": [
      "WARNING:polyglot.detect.base:Detector is not able to detect the language reliably.\n",
      "WARNING:polyglot.detect.base:Detector is not able to detect the language reliably.\n"
     ]
    },
    {
     "name": "stdout",
     "output_type": "stream",
     "text": [
      "\n",
      "Package u'embeddings2.zzp' not found in index"
     ]
    },
    {
     "name": "stderr",
     "output_type": "stream",
     "text": [
      "WARNING:polyglot.detect.base:Detector is not able to detect the language reliably.\n"
     ]
    },
    {
     "name": "stdout",
     "output_type": "stream",
     "text": [
      "\n",
      "This resource is available in the index but not downloaded, yet. Try to run\n",
      "\n",
      "polyglot download embeddings2.es"
     ]
    },
    {
     "name": "stderr",
     "output_type": "stream",
     "text": [
      "WARNING:polyglot.detect.base:Detector is not able to detect the language reliably.\n",
      "WARNING:polyglot.detect.base:Detector is not able to detect the language reliably.\n",
      "WARNING:polyglot.detect.base:Detector is not able to detect the language reliably.\n",
      "WARNING:polyglot.detect.base:Detector is not able to detect the language reliably.\n",
      "WARNING:polyglot.detect.base:Detector is not able to detect the language reliably.\n",
      "WARNING:polyglot.detect.base:Detector is not able to detect the language reliably.\n",
      "WARNING:polyglot.detect.base:Detector is not able to detect the language reliably.\n",
      "WARNING:polyglot.detect.base:Detector is not able to detect the language reliably.\n"
     ]
    },
    {
     "name": "stdout",
     "output_type": "stream",
     "text": [
      "\n",
      "This resource is available in the index but not downloaded, yet. Try to run\n",
      "\n",
      "polyglot download embeddings2.es\n",
      "This resource is available in the index but not downloaded, yet. Try to run\n",
      "\n",
      "polyglot download embeddings2.es\n",
      "This resource is available in the index but not downloaded, yet. Try to run\n",
      "\n",
      "polyglot download embeddings2.es\n",
      "This resource is available in the index but not downloaded, yet. Try to run\n",
      "\n",
      "polyglot download embeddings2.es"
     ]
    },
    {
     "name": "stderr",
     "output_type": "stream",
     "text": [
      "WARNING:polyglot.detect.base:Detector is not able to detect the language reliably.\n",
      "WARNING:polyglot.detect.base:Detector is not able to detect the language reliably.\n",
      "WARNING:polyglot.detect.base:Detector is not able to detect the language reliably.\n",
      "WARNING:polyglot.detect.base:Detector is not able to detect the language reliably.\n",
      "WARNING:polyglot.detect.base:Detector is not able to detect the language reliably.\n",
      "WARNING:polyglot.detect.base:Detector is not able to detect the language reliably.\n"
     ]
    },
    {
     "name": "stdout",
     "output_type": "stream",
     "text": [
      "\n",
      "This resource is available in the index but not downloaded, yet. Try to run\n",
      "\n",
      "polyglot download embeddings2.es"
     ]
    },
    {
     "name": "stderr",
     "output_type": "stream",
     "text": [
      "WARNING:polyglot.detect.base:Detector is not able to detect the language reliably.\n",
      "WARNING:polyglot.detect.base:Detector is not able to detect the language reliably.\n",
      "WARNING:polyglot.detect.base:Detector is not able to detect the language reliably.\n"
     ]
    },
    {
     "name": "stdout",
     "output_type": "stream",
     "text": [
      "\n",
      "This resource is available in the index but not downloaded, yet. Try to run\n",
      "\n",
      "polyglot download embeddings2.es"
     ]
    },
    {
     "name": "stderr",
     "output_type": "stream",
     "text": [
      "WARNING:polyglot.detect.base:Detector is not able to detect the language reliably.\n",
      "WARNING:polyglot.detect.base:Detector is not able to detect the language reliably.\n"
     ]
    },
    {
     "name": "stdout",
     "output_type": "stream",
     "text": [
      "\n",
      "This resource is available in the index but not downloaded, yet. Try to run\n",
      "\n",
      "polyglot download embeddings2.es\n",
      "This resource is available in the index but not downloaded, yet. Try to run\n",
      "\n",
      "polyglot download embeddings2.es\n",
      "This resource is available in the index but not downloaded, yet. Try to run\n",
      "\n",
      "polyglot download embeddings2.es"
     ]
    },
    {
     "name": "stderr",
     "output_type": "stream",
     "text": [
      "WARNING:polyglot.detect.base:Detector is not able to detect the language reliably.\n",
      "WARNING:polyglot.detect.base:Detector is not able to detect the language reliably.\n",
      "WARNING:polyglot.detect.base:Detector is not able to detect the language reliably.\n",
      "WARNING:polyglot.detect.base:Detector is not able to detect the language reliably.\n"
     ]
    },
    {
     "name": "stdout",
     "output_type": "stream",
     "text": [
      "\n",
      "This resource is available in the index but not downloaded, yet. Try to run\n",
      "\n",
      "polyglot download embeddings2.gl"
     ]
    },
    {
     "name": "stderr",
     "output_type": "stream",
     "text": [
      "WARNING:polyglot.detect.base:Detector is not able to detect the language reliably.\n",
      "WARNING:polyglot.detect.base:Detector is not able to detect the language reliably.\n",
      "WARNING:polyglot.detect.base:Detector is not able to detect the language reliably.\n",
      "WARNING:polyglot.detect.base:Detector is not able to detect the language reliably.\n"
     ]
    },
    {
     "name": "stdout",
     "output_type": "stream",
     "text": [
      "\n",
      "This resource is available in the index but not downloaded, yet. Try to run\n",
      "\n",
      "polyglot download embeddings2.es"
     ]
    },
    {
     "name": "stderr",
     "output_type": "stream",
     "text": [
      "WARNING:polyglot.detect.base:Detector is not able to detect the language reliably.\n"
     ]
    },
    {
     "name": "stdout",
     "output_type": "stream",
     "text": [
      "\n",
      "This resource is available in the index but not downloaded, yet. Try to run\n",
      "\n",
      "polyglot download embeddings2.es\n",
      "This resource is available in the index but not downloaded, yet. Try to run\n",
      "\n",
      "polyglot download embeddings2.es"
     ]
    },
    {
     "name": "stderr",
     "output_type": "stream",
     "text": [
      "WARNING:polyglot.detect.base:Detector is not able to detect the language reliably.\n",
      "WARNING:polyglot.detect.base:Detector is not able to detect the language reliably.\n"
     ]
    },
    {
     "name": "stdout",
     "output_type": "stream",
     "text": [
      "\n",
      "This resource is available in the index but not downloaded, yet. Try to run\n",
      "\n",
      "polyglot download embeddings2.es"
     ]
    },
    {
     "name": "stderr",
     "output_type": "stream",
     "text": [
      "WARNING:polyglot.detect.base:Detector is not able to detect the language reliably.\n"
     ]
    },
    {
     "name": "stdout",
     "output_type": "stream",
     "text": [
      "\n",
      "This resource is available in the index but not downloaded, yet. Try to run\n",
      "\n",
      "polyglot download embeddings2.de\n",
      "This resource is available in the index but not downloaded, yet. Try to run\n",
      "\n",
      "polyglot download embeddings2.es"
     ]
    },
    {
     "name": "stderr",
     "output_type": "stream",
     "text": [
      "WARNING:polyglot.detect.base:Detector is not able to detect the language reliably.\n"
     ]
    },
    {
     "name": "stdout",
     "output_type": "stream",
     "text": [
      "\n",
      "This resource is available in the index but not downloaded, yet. Try to run\n",
      "\n",
      "polyglot download embeddings2.es"
     ]
    },
    {
     "name": "stderr",
     "output_type": "stream",
     "text": [
      "WARNING:polyglot.detect.base:Detector is not able to detect the language reliably.\n"
     ]
    },
    {
     "name": "stdout",
     "output_type": "stream",
     "text": [
      "\n",
      "This resource is available in the index but not downloaded, yet. Try to run\n",
      "\n",
      "polyglot download embeddings2.es"
     ]
    },
    {
     "name": "stderr",
     "output_type": "stream",
     "text": [
      "WARNING:polyglot.detect.base:Detector is not able to detect the language reliably.\n",
      "WARNING:polyglot.detect.base:Detector is not able to detect the language reliably.\n"
     ]
    },
    {
     "name": "stdout",
     "output_type": "stream",
     "text": [
      "\n",
      "Package u'embeddings2.un' not found in index\n",
      "This resource is available in the index but not downloaded, yet. Try to run\n",
      "\n",
      "polyglot download embeddings2.es\n",
      "This resource is available in the index but not downloaded, yet. Try to run\n",
      "\n",
      "polyglot download embeddings2.es\n",
      "This resource is available in the index but not downloaded, yet. Try to run\n",
      "\n",
      "polyglot download embeddings2.es\n",
      "This resource is available in the index but not downloaded, yet. Try to run\n",
      "\n",
      "polyglot download embeddings2.es\n",
      "This resource is available in the index but not downloaded, yet. Try to run\n",
      "\n",
      "polyglot download embeddings2.es\n",
      "This resource is available in the index but not downloaded, yet. Try to run\n",
      "\n",
      "polyglot download embeddings2.es"
     ]
    },
    {
     "name": "stderr",
     "output_type": "stream",
     "text": [
      "WARNING:polyglot.detect.base:Detector is not able to detect the language reliably.\n",
      "WARNING:polyglot.detect.base:Detector is not able to detect the language reliably.\n",
      "WARNING:polyglot.detect.base:Detector is not able to detect the language reliably.\n"
     ]
    },
    {
     "name": "stdout",
     "output_type": "stream",
     "text": [
      "\n",
      "This resource is available in the index but not downloaded, yet. Try to run\n",
      "\n",
      "polyglot download embeddings2.es"
     ]
    },
    {
     "name": "stderr",
     "output_type": "stream",
     "text": [
      "WARNING:polyglot.detect.base:Detector is not able to detect the language reliably.\n",
      "WARNING:polyglot.detect.base:Detector is not able to detect the language reliably.\n",
      "WARNING:polyglot.detect.base:Detector is not able to detect the language reliably.\n",
      "WARNING:polyglot.detect.base:Detector is not able to detect the language reliably.\n",
      "WARNING:polyglot.detect.base:Detector is not able to detect the language reliably.\n",
      "WARNING:polyglot.detect.base:Detector is not able to detect the language reliably.\n",
      "WARNING:polyglot.detect.base:Detector is not able to detect the language reliably.\n",
      "WARNING:polyglot.detect.base:Detector is not able to detect the language reliably.\n",
      "WARNING:polyglot.detect.base:Detector is not able to detect the language reliably.\n"
     ]
    },
    {
     "name": "stdout",
     "output_type": "stream",
     "text": [
      "\n",
      "Package u'embeddings2.zzp' not found in index"
     ]
    },
    {
     "name": "stderr",
     "output_type": "stream",
     "text": [
      "WARNING:polyglot.detect.base:Detector is not able to detect the language reliably.\n",
      "WARNING:polyglot.detect.base:Detector is not able to detect the language reliably.\n",
      "WARNING:polyglot.detect.base:Detector is not able to detect the language reliably.\n",
      "WARNING:polyglot.detect.base:Detector is not able to detect the language reliably.\n",
      "WARNING:polyglot.detect.base:Detector is not able to detect the language reliably.\n",
      "WARNING:polyglot.detect.base:Detector is not able to detect the language reliably.\n",
      "WARNING:polyglot.detect.base:Detector is not able to detect the language reliably.\n",
      "WARNING:polyglot.detect.base:Detector is not able to detect the language reliably.\n"
     ]
    },
    {
     "name": "stdout",
     "output_type": "stream",
     "text": [
      "\n",
      "This resource is available in the index but not downloaded, yet. Try to run\n",
      "\n",
      "polyglot download embeddings2.es\n",
      "This resource is available in the index but not downloaded, yet. Try to run\n",
      "\n",
      "polyglot download embeddings2.es"
     ]
    },
    {
     "name": "stderr",
     "output_type": "stream",
     "text": [
      "WARNING:polyglot.detect.base:Detector is not able to detect the language reliably.\n",
      "WARNING:polyglot.detect.base:Detector is not able to detect the language reliably.\n",
      "WARNING:polyglot.detect.base:Detector is not able to detect the language reliably.\n"
     ]
    },
    {
     "name": "stdout",
     "output_type": "stream",
     "text": [
      "\n",
      "This resource is available in the index but not downloaded, yet. Try to run\n",
      "\n",
      "polyglot download embeddings2.es"
     ]
    },
    {
     "name": "stderr",
     "output_type": "stream",
     "text": [
      "WARNING:polyglot.detect.base:Detector is not able to detect the language reliably.\n",
      "WARNING:polyglot.detect.base:Detector is not able to detect the language reliably.\n"
     ]
    },
    {
     "name": "stdout",
     "output_type": "stream",
     "text": [
      "\n",
      "This resource is available in the index but not downloaded, yet. Try to run\n",
      "\n",
      "polyglot download embeddings2.es\n",
      "This resource is available in the index but not downloaded, yet. Try to run\n",
      "\n",
      "polyglot download embeddings2.es\n",
      "This resource is available in the index but not downloaded, yet. Try to run\n",
      "\n",
      "polyglot download embeddings2.es\n",
      "This resource is available in the index but not downloaded, yet. Try to run\n",
      "\n",
      "polyglot download embeddings2.es\n",
      "This resource is available in the index but not downloaded, yet. Try to run\n",
      "\n",
      "polyglot download embeddings2.es\n",
      "This resource is available in the index but not downloaded, yet. Try to run\n",
      "\n",
      "polyglot download embeddings2.es\n",
      "This resource is available in the index but not downloaded, yet. Try to run\n",
      "\n",
      "polyglot download embeddings2.es\n",
      "This resource is available in the index but not downloaded, yet. Try to run\n",
      "\n",
      "polyglot download embeddings2.es\n",
      "This resource is available in the index but not downloaded, yet. Try to run\n",
      "\n",
      "polyglot download embeddings2.es\n",
      "This resource is available in the index but not downloaded, yet. Try to run\n",
      "\n",
      "polyglot download embeddings2.es"
     ]
    },
    {
     "name": "stderr",
     "output_type": "stream",
     "text": [
      "WARNING:polyglot.detect.base:Detector is not able to detect the language reliably.\n"
     ]
    },
    {
     "name": "stdout",
     "output_type": "stream",
     "text": [
      "\n",
      "This resource is available in the index but not downloaded, yet. Try to run\n",
      "\n",
      "polyglot download embeddings2.es\n",
      "This resource is available in the index but not downloaded, yet. Try to run\n",
      "\n",
      "polyglot download embeddings2.es\n",
      "This resource is available in the index but not downloaded, yet. Try to run\n",
      "\n",
      "polyglot download embeddings2.es\n",
      "This resource is available in the index but not downloaded, yet. Try to run\n",
      "\n",
      "polyglot download embeddings2.es\n",
      "This resource is available in the index but not downloaded, yet. Try to run\n",
      "\n",
      "polyglot download embeddings2.es\n",
      "This resource is available in the index but not downloaded, yet. Try to run\n",
      "\n",
      "polyglot download embeddings2.es\n",
      "This resource is available in the index but not downloaded, yet. Try to run\n",
      "\n",
      "polyglot download embeddings2.es\n",
      "This resource is available in the index but not downloaded, yet. Try to run\n",
      "\n",
      "polyglot download embeddings2.es"
     ]
    },
    {
     "name": "stderr",
     "output_type": "stream",
     "text": [
      "WARNING:polyglot.detect.base:Detector is not able to detect the language reliably.\n"
     ]
    },
    {
     "name": "stdout",
     "output_type": "stream",
     "text": [
      "\n",
      "This resource is available in the index but not downloaded, yet. Try to run\n",
      "\n",
      "polyglot download embeddings2.es"
     ]
    },
    {
     "name": "stderr",
     "output_type": "stream",
     "text": [
      "WARNING:polyglot.detect.base:Detector is not able to detect the language reliably.\n",
      "WARNING:polyglot.detect.base:Detector is not able to detect the language reliably.\n",
      "WARNING:polyglot.detect.base:Detector is not able to detect the language reliably.\n"
     ]
    },
    {
     "name": "stdout",
     "output_type": "stream",
     "text": [
      "\n",
      "This resource is available in the index but not downloaded, yet. Try to run\n",
      "\n",
      "polyglot download embeddings2.es"
     ]
    },
    {
     "name": "stderr",
     "output_type": "stream",
     "text": [
      "WARNING:polyglot.detect.base:Detector is not able to detect the language reliably.\n"
     ]
    },
    {
     "name": "stdout",
     "output_type": "stream",
     "text": [
      "\n",
      "This resource is available in the index but not downloaded, yet. Try to run\n",
      "\n",
      "polyglot download embeddings2.es\n",
      "This resource is available in the index but not downloaded, yet. Try to run\n",
      "\n",
      "polyglot download embeddings2.es"
     ]
    },
    {
     "name": "stderr",
     "output_type": "stream",
     "text": [
      "WARNING:polyglot.detect.base:Detector is not able to detect the language reliably.\n",
      "WARNING:polyglot.detect.base:Detector is not able to detect the language reliably.\n"
     ]
    },
    {
     "name": "stdout",
     "output_type": "stream",
     "text": [
      "\n",
      "This resource is available in the index but not downloaded, yet. Try to run\n",
      "\n",
      "polyglot download embeddings2.es\n",
      "This resource is available in the index but not downloaded, yet. Try to run\n",
      "\n",
      "polyglot download embeddings2.es\n",
      "This resource is available in the index but not downloaded, yet. Try to run\n",
      "\n",
      "polyglot download embeddings2.es\n",
      "This resource is available in the index but not downloaded, yet. Try to run\n",
      "\n",
      "polyglot download embeddings2.es\n",
      "This resource is available in the index but not downloaded, yet. Try to run\n",
      "\n",
      "polyglot download embeddings2.es\n",
      "This resource is available in the index but not downloaded, yet. Try to run\n",
      "\n",
      "polyglot download embeddings2.es"
     ]
    },
    {
     "name": "stderr",
     "output_type": "stream",
     "text": [
      "WARNING:polyglot.detect.base:Detector is not able to detect the language reliably.\n"
     ]
    },
    {
     "name": "stdout",
     "output_type": "stream",
     "text": [
      "\n",
      "This resource is available in the index but not downloaded, yet. Try to run\n",
      "\n",
      "polyglot download embeddings2.es\n",
      "This resource is available in the index but not downloaded, yet. Try to run\n",
      "\n",
      "polyglot download embeddings2.es\n",
      "This resource is available in the index but not downloaded, yet. Try to run\n",
      "\n",
      "polyglot download embeddings2.es\n",
      "This resource is available in the index but not downloaded, yet. Try to run\n",
      "\n",
      "polyglot download embeddings2.es\n",
      "This resource is available in the index but not downloaded, yet. Try to run\n",
      "\n",
      "polyglot download embeddings2.es"
     ]
    },
    {
     "name": "stderr",
     "output_type": "stream",
     "text": [
      "WARNING:polyglot.detect.base:Detector is not able to detect the language reliably.\n"
     ]
    },
    {
     "name": "stdout",
     "output_type": "stream",
     "text": [
      "\n",
      "This resource is available in the index but not downloaded, yet. Try to run\n",
      "\n",
      "polyglot download embeddings2.es\n",
      "This resource is available in the index but not downloaded, yet. Try to run\n",
      "\n",
      "polyglot download embeddings2.es"
     ]
    },
    {
     "name": "stderr",
     "output_type": "stream",
     "text": [
      "WARNING:polyglot.detect.base:Detector is not able to detect the language reliably.\n"
     ]
    },
    {
     "name": "stdout",
     "output_type": "stream",
     "text": [
      "\n",
      "This resource is available in the index but not downloaded, yet. Try to run\n",
      "\n",
      "polyglot download embeddings2.es"
     ]
    },
    {
     "name": "stderr",
     "output_type": "stream",
     "text": [
      "WARNING:polyglot.detect.base:Detector is not able to detect the language reliably.\n"
     ]
    },
    {
     "name": "stdout",
     "output_type": "stream",
     "text": [
      "\n",
      "This resource is available in the index but not downloaded, yet. Try to run\n",
      "\n",
      "polyglot download embeddings2.es"
     ]
    },
    {
     "name": "stderr",
     "output_type": "stream",
     "text": [
      "WARNING:polyglot.detect.base:Detector is not able to detect the language reliably.\n",
      "WARNING:polyglot.detect.base:Detector is not able to detect the language reliably.\n"
     ]
    },
    {
     "name": "stdout",
     "output_type": "stream",
     "text": [
      "\n",
      "This resource is available in the index but not downloaded, yet. Try to run\n",
      "\n",
      "polyglot download embeddings2.es"
     ]
    },
    {
     "name": "stderr",
     "output_type": "stream",
     "text": [
      "WARNING:polyglot.detect.base:Detector is not able to detect the language reliably.\n",
      "WARNING:polyglot.detect.base:Detector is not able to detect the language reliably.\n",
      "WARNING:polyglot.detect.base:Detector is not able to detect the language reliably.\n"
     ]
    },
    {
     "name": "stdout",
     "output_type": "stream",
     "text": [
      "\n",
      "This resource is available in the index but not downloaded, yet. Try to run\n",
      "\n",
      "polyglot download embeddings2.es\n",
      "This resource is available in the index but not downloaded, yet. Try to run\n",
      "\n",
      "polyglot download embeddings2.es\n",
      "This resource is available in the index but not downloaded, yet. Try to run\n",
      "\n",
      "polyglot download embeddings2.es\n",
      "This resource is available in the index but not downloaded, yet. Try to run\n",
      "\n",
      "polyglot download embeddings2.es\n",
      "This resource is available in the index but not downloaded, yet. Try to run\n",
      "\n",
      "polyglot download embeddings2.es\n",
      "This resource is available in the index but not downloaded, yet. Try to run\n",
      "\n",
      "polyglot download embeddings2.es\n",
      "This resource is available in the index but not downloaded, yet. Try to run\n",
      "\n",
      "polyglot download embeddings2.es\n",
      "This resource is available in the index but not downloaded, yet. Try to run\n",
      "\n",
      "polyglot download embeddings2.es"
     ]
    },
    {
     "name": "stderr",
     "output_type": "stream",
     "text": [
      "WARNING:polyglot.detect.base:Detector is not able to detect the language reliably.\n"
     ]
    },
    {
     "name": "stdout",
     "output_type": "stream",
     "text": [
      "\n",
      "This resource is available in the index but not downloaded, yet. Try to run\n",
      "\n",
      "polyglot download embeddings2.es"
     ]
    },
    {
     "name": "stderr",
     "output_type": "stream",
     "text": [
      "WARNING:polyglot.detect.base:Detector is not able to detect the language reliably.\n"
     ]
    },
    {
     "name": "stdout",
     "output_type": "stream",
     "text": [
      "\n",
      "This resource is available in the index but not downloaded, yet. Try to run\n",
      "\n",
      "polyglot download embeddings2.es"
     ]
    },
    {
     "name": "stderr",
     "output_type": "stream",
     "text": [
      "WARNING:polyglot.detect.base:Detector is not able to detect the language reliably.\n",
      "WARNING:polyglot.detect.base:Detector is not able to detect the language reliably.\n"
     ]
    },
    {
     "name": "stdout",
     "output_type": "stream",
     "text": [
      "\n",
      "This resource is available in the index but not downloaded, yet. Try to run\n",
      "\n",
      "polyglot download embeddings2.es\n",
      "This resource is available in the index but not downloaded, yet. Try to run\n",
      "\n",
      "polyglot download embeddings2.es\n",
      "This resource is available in the index but not downloaded, yet. Try to run\n",
      "\n",
      "polyglot download embeddings2.es"
     ]
    },
    {
     "name": "stderr",
     "output_type": "stream",
     "text": [
      "WARNING:polyglot.detect.base:Detector is not able to detect the language reliably.\n"
     ]
    },
    {
     "name": "stdout",
     "output_type": "stream",
     "text": [
      "\n",
      "This resource is available in the index but not downloaded, yet. Try to run\n",
      "\n",
      "polyglot download embeddings2.es"
     ]
    },
    {
     "name": "stderr",
     "output_type": "stream",
     "text": [
      "WARNING:polyglot.detect.base:Detector is not able to detect the language reliably.\n",
      "WARNING:polyglot.detect.base:Detector is not able to detect the language reliably.\n"
     ]
    },
    {
     "name": "stdout",
     "output_type": "stream",
     "text": [
      "\n",
      "This resource is available in the index but not downloaded, yet. Try to run\n",
      "\n",
      "polyglot download embeddings2.es\n",
      "This resource is available in the index but not downloaded, yet. Try to run\n",
      "\n",
      "polyglot download embeddings2.es\n",
      "This resource is available in the index but not downloaded, yet. Try to run\n",
      "\n",
      "polyglot download embeddings2.es\n",
      "This resource is available in the index but not downloaded, yet. Try to run\n",
      "\n",
      "polyglot download embeddings2.es\n",
      "This resource is available in the index but not downloaded, yet. Try to run\n",
      "\n",
      "polyglot download embeddings2.es\n",
      "This resource is available in the index but not downloaded, yet. Try to run\n",
      "\n",
      "polyglot download embeddings2.es"
     ]
    },
    {
     "name": "stderr",
     "output_type": "stream",
     "text": [
      "WARNING:polyglot.detect.base:Detector is not able to detect the language reliably.\n"
     ]
    },
    {
     "name": "stdout",
     "output_type": "stream",
     "text": [
      "\n",
      "This resource is available in the index but not downloaded, yet. Try to run\n",
      "\n",
      "polyglot download embeddings2.es"
     ]
    },
    {
     "name": "stderr",
     "output_type": "stream",
     "text": [
      "WARNING:polyglot.detect.base:Detector is not able to detect the language reliably.\n"
     ]
    },
    {
     "name": "stdout",
     "output_type": "stream",
     "text": [
      "\n",
      "This resource is available in the index but not downloaded, yet. Try to run\n",
      "\n",
      "polyglot download embeddings2.es"
     ]
    },
    {
     "name": "stderr",
     "output_type": "stream",
     "text": [
      "WARNING:polyglot.detect.base:Detector is not able to detect the language reliably.\n",
      "WARNING:polyglot.detect.base:Detector is not able to detect the language reliably.\n"
     ]
    },
    {
     "name": "stdout",
     "output_type": "stream",
     "text": [
      "\n",
      "This resource is available in the index but not downloaded, yet. Try to run\n",
      "\n",
      "polyglot download embeddings2.fr"
     ]
    },
    {
     "name": "stderr",
     "output_type": "stream",
     "text": [
      "WARNING:polyglot.detect.base:Detector is not able to detect the language reliably.\n"
     ]
    },
    {
     "name": "stdout",
     "output_type": "stream",
     "text": [
      "\n",
      "This resource is available in the index but not downloaded, yet. Try to run\n",
      "\n",
      "polyglot download embeddings2.es\n",
      "Package u'ner2.sco' not found in index"
     ]
    },
    {
     "name": "stderr",
     "output_type": "stream",
     "text": [
      "WARNING:polyglot.detect.base:Detector is not able to detect the language reliably.\n"
     ]
    },
    {
     "name": "stdout",
     "output_type": "stream",
     "text": [
      "\n",
      "This resource is available in the index but not downloaded, yet. Try to run\n",
      "\n",
      "polyglot download embeddings2.es\n",
      "This resource is available in the index but not downloaded, yet. Try to run\n",
      "\n",
      "polyglot download embeddings2.es"
     ]
    },
    {
     "name": "stderr",
     "output_type": "stream",
     "text": [
      "WARNING:polyglot.detect.base:Detector is not able to detect the language reliably.\n"
     ]
    },
    {
     "name": "stdout",
     "output_type": "stream",
     "text": [
      "\n",
      "This resource is available in the index but not downloaded, yet. Try to run\n",
      "\n",
      "polyglot download embeddings2.es\n",
      "This resource is available in the index but not downloaded, yet. Try to run\n",
      "\n",
      "polyglot download embeddings2.es\n",
      "This resource is available in the index but not downloaded, yet. Try to run\n",
      "\n",
      "polyglot download embeddings2.es\n",
      "This resource is available in the index but not downloaded, yet. Try to run\n",
      "\n",
      "polyglot download embeddings2.es\n",
      "This resource is available in the index but not downloaded, yet. Try to run\n",
      "\n",
      "polyglot download embeddings2.es"
     ]
    },
    {
     "name": "stderr",
     "output_type": "stream",
     "text": [
      "WARNING:polyglot.detect.base:Detector is not able to detect the language reliably.\n"
     ]
    },
    {
     "name": "stdout",
     "output_type": "stream",
     "text": [
      "\n",
      "This resource is available in the index but not downloaded, yet. Try to run\n",
      "\n",
      "polyglot download embeddings2.es\n",
      "This resource is available in the index but not downloaded, yet. Try to run\n",
      "\n",
      "polyglot download embeddings2.es"
     ]
    },
    {
     "name": "stderr",
     "output_type": "stream",
     "text": [
      "WARNING:polyglot.detect.base:Detector is not able to detect the language reliably.\n",
      "WARNING:polyglot.detect.base:Detector is not able to detect the language reliably.\n"
     ]
    },
    {
     "name": "stdout",
     "output_type": "stream",
     "text": [
      "\n",
      "This resource is available in the index but not downloaded, yet. Try to run\n",
      "\n",
      "polyglot download embeddings2.es"
     ]
    },
    {
     "name": "stderr",
     "output_type": "stream",
     "text": [
      "WARNING:polyglot.detect.base:Detector is not able to detect the language reliably.\n",
      "WARNING:polyglot.detect.base:Detector is not able to detect the language reliably.\n"
     ]
    },
    {
     "name": "stdout",
     "output_type": "stream",
     "text": [
      "\n",
      "This resource is available in the index but not downloaded, yet. Try to run\n",
      "\n",
      "polyglot download embeddings2.es\n",
      "This resource is available in the index but not downloaded, yet. Try to run\n",
      "\n",
      "polyglot download embeddings2.es\n",
      "This resource is available in the index but not downloaded, yet. Try to run\n",
      "\n",
      "polyglot download embeddings2.es"
     ]
    },
    {
     "name": "stderr",
     "output_type": "stream",
     "text": [
      "WARNING:polyglot.detect.base:Detector is not able to detect the language reliably.\n"
     ]
    },
    {
     "name": "stdout",
     "output_type": "stream",
     "text": [
      "\n",
      "This resource is available in the index but not downloaded, yet. Try to run\n",
      "\n",
      "polyglot download embeddings2.es"
     ]
    },
    {
     "name": "stderr",
     "output_type": "stream",
     "text": [
      "WARNING:polyglot.detect.base:Detector is not able to detect the language reliably.\n"
     ]
    },
    {
     "name": "stdout",
     "output_type": "stream",
     "text": [
      "\n",
      "This resource is available in the index but not downloaded, yet. Try to run\n",
      "\n",
      "polyglot download embeddings2.es"
     ]
    },
    {
     "name": "stderr",
     "output_type": "stream",
     "text": [
      "WARNING:polyglot.detect.base:Detector is not able to detect the language reliably.\n"
     ]
    },
    {
     "name": "stdout",
     "output_type": "stream",
     "text": [
      "\n",
      "This resource is available in the index but not downloaded, yet. Try to run\n",
      "\n",
      "polyglot download embeddings2.es"
     ]
    },
    {
     "name": "stderr",
     "output_type": "stream",
     "text": [
      "WARNING:polyglot.detect.base:Detector is not able to detect the language reliably.\n",
      "WARNING:polyglot.detect.base:Detector is not able to detect the language reliably.\n",
      "WARNING:polyglot.detect.base:Detector is not able to detect the language reliably.\n"
     ]
    },
    {
     "name": "stdout",
     "output_type": "stream",
     "text": [
      "\n",
      "This resource is available in the index but not downloaded, yet. Try to run\n",
      "\n",
      "polyglot download embeddings2.es"
     ]
    },
    {
     "name": "stderr",
     "output_type": "stream",
     "text": [
      "WARNING:polyglot.detect.base:Detector is not able to detect the language reliably.\n",
      "WARNING:polyglot.detect.base:Detector is not able to detect the language reliably.\n"
     ]
    },
    {
     "name": "stdout",
     "output_type": "stream",
     "text": [
      "\n",
      "This resource is available in the index but not downloaded, yet. Try to run\n",
      "\n",
      "polyglot download embeddings2.es\n",
      "This resource is available in the index but not downloaded, yet. Try to run\n",
      "\n",
      "polyglot download embeddings2.es\n",
      "This resource is available in the index but not downloaded, yet. Try to run\n",
      "\n",
      "polyglot download embeddings2.es\n",
      "This resource is available in the index but not downloaded, yet. Try to run\n",
      "\n",
      "polyglot download embeddings2.es\n",
      "This resource is available in the index but not downloaded, yet. Try to run\n",
      "\n",
      "polyglot download embeddings2.es\n",
      "This resource is available in the index but not downloaded, yet. Try to run\n",
      "\n",
      "polyglot download embeddings2.es\n",
      "This resource is available in the index but not downloaded, yet. Try to run\n",
      "\n",
      "polyglot download embeddings2.es"
     ]
    },
    {
     "name": "stderr",
     "output_type": "stream",
     "text": [
      "WARNING:polyglot.detect.base:Detector is not able to detect the language reliably.\n",
      "WARNING:polyglot.detect.base:Detector is not able to detect the language reliably.\n"
     ]
    },
    {
     "name": "stdout",
     "output_type": "stream",
     "text": [
      "\n",
      "Package u'embeddings2.ie' not found in index"
     ]
    },
    {
     "name": "stderr",
     "output_type": "stream",
     "text": [
      "WARNING:polyglot.detect.base:Detector is not able to detect the language reliably.\n",
      "WARNING:polyglot.detect.base:Detector is not able to detect the language reliably.\n",
      "WARNING:polyglot.detect.base:Detector is not able to detect the language reliably.\n",
      "WARNING:polyglot.detect.base:Detector is not able to detect the language reliably.\n"
     ]
    },
    {
     "name": "stdout",
     "output_type": "stream",
     "text": [
      "\n",
      "This resource is available in the index but not downloaded, yet. Try to run\n",
      "\n",
      "polyglot download embeddings2.es\n",
      "This resource is available in the index but not downloaded, yet. Try to run\n",
      "\n",
      "polyglot download embeddings2.es\n",
      "This resource is available in the index but not downloaded, yet. Try to run\n",
      "\n",
      "polyglot download embeddings2.es\n",
      "This resource is available in the index but not downloaded, yet. Try to run\n",
      "\n",
      "polyglot download embeddings2.es"
     ]
    },
    {
     "name": "stderr",
     "output_type": "stream",
     "text": [
      "WARNING:polyglot.detect.base:Detector is not able to detect the language reliably.\n",
      "WARNING:polyglot.detect.base:Detector is not able to detect the language reliably.\n"
     ]
    },
    {
     "name": "stdout",
     "output_type": "stream",
     "text": [
      "\n",
      "This resource is available in the index but not downloaded, yet. Try to run\n",
      "\n",
      "polyglot download embeddings2.es"
     ]
    },
    {
     "name": "stderr",
     "output_type": "stream",
     "text": [
      "WARNING:polyglot.detect.base:Detector is not able to detect the language reliably.\n",
      "WARNING:polyglot.detect.base:Detector is not able to detect the language reliably.\n",
      "WARNING:polyglot.detect.base:Detector is not able to detect the language reliably.\n"
     ]
    },
    {
     "name": "stdout",
     "output_type": "stream",
     "text": [
      "\n",
      "This resource is available in the index but not downloaded, yet. Try to run\n",
      "\n",
      "polyglot download embeddings2.es"
     ]
    },
    {
     "name": "stderr",
     "output_type": "stream",
     "text": [
      "WARNING:polyglot.detect.base:Detector is not able to detect the language reliably.\n"
     ]
    },
    {
     "name": "stdout",
     "output_type": "stream",
     "text": [
      "\n",
      "This resource is available in the index but not downloaded, yet. Try to run\n",
      "\n",
      "polyglot download embeddings2.es"
     ]
    },
    {
     "name": "stderr",
     "output_type": "stream",
     "text": [
      "WARNING:polyglot.detect.base:Detector is not able to detect the language reliably.\n",
      "WARNING:polyglot.detect.base:Detector is not able to detect the language reliably.\n"
     ]
    },
    {
     "name": "stdout",
     "output_type": "stream",
     "text": [
      "\n",
      "This resource is available in the index but not downloaded, yet. Try to run\n",
      "\n",
      "polyglot download embeddings2.es\n",
      "This resource is available in the index but not downloaded, yet. Try to run\n",
      "\n",
      "polyglot download embeddings2.es"
     ]
    },
    {
     "name": "stderr",
     "output_type": "stream",
     "text": [
      "WARNING:polyglot.detect.base:Detector is not able to detect the language reliably.\n"
     ]
    },
    {
     "name": "stdout",
     "output_type": "stream",
     "text": [
      "\n",
      "This resource is available in the index but not downloaded, yet. Try to run\n",
      "\n",
      "polyglot download embeddings2.es\n",
      "This resource is available in the index but not downloaded, yet. Try to run\n",
      "\n",
      "polyglot download embeddings2.es\n",
      "This resource is available in the index but not downloaded, yet. Try to run\n",
      "\n",
      "polyglot download embeddings2.es"
     ]
    },
    {
     "name": "stderr",
     "output_type": "stream",
     "text": [
      "WARNING:polyglot.detect.base:Detector is not able to detect the language reliably.\n",
      "WARNING:polyglot.detect.base:Detector is not able to detect the language reliably.\n",
      "WARNING:polyglot.detect.base:Detector is not able to detect the language reliably.\n",
      "WARNING:polyglot.detect.base:Detector is not able to detect the language reliably.\n",
      "WARNING:polyglot.detect.base:Detector is not able to detect the language reliably.\n"
     ]
    },
    {
     "name": "stdout",
     "output_type": "stream",
     "text": [
      "\n",
      "This resource is available in the index but not downloaded, yet. Try to run\n",
      "\n",
      "polyglot download embeddings2.es"
     ]
    },
    {
     "name": "stderr",
     "output_type": "stream",
     "text": [
      "WARNING:polyglot.detect.base:Detector is not able to detect the language reliably.\n",
      "WARNING:polyglot.detect.base:Detector is not able to detect the language reliably.\n"
     ]
    },
    {
     "name": "stdout",
     "output_type": "stream",
     "text": [
      "\n",
      "This resource is available in the index but not downloaded, yet. Try to run\n",
      "\n",
      "polyglot download embeddings2.es\n",
      "This resource is available in the index but not downloaded, yet. Try to run\n",
      "\n",
      "polyglot download embeddings2.es\n",
      "This resource is available in the index but not downloaded, yet. Try to run\n",
      "\n",
      "polyglot download embeddings2.es\n",
      "This resource is available in the index but not downloaded, yet. Try to run\n",
      "\n",
      "polyglot download embeddings2.es"
     ]
    },
    {
     "name": "stderr",
     "output_type": "stream",
     "text": [
      "WARNING:polyglot.detect.base:Detector is not able to detect the language reliably.\n",
      "WARNING:polyglot.detect.base:Detector is not able to detect the language reliably.\n",
      "WARNING:polyglot.detect.base:Detector is not able to detect the language reliably.\n"
     ]
    },
    {
     "name": "stdout",
     "output_type": "stream",
     "text": [
      "\n",
      "This resource is available in the index but not downloaded, yet. Try to run\n",
      "\n",
      "polyglot download embeddings2.es\n",
      "This resource is available in the index but not downloaded, yet. Try to run\n",
      "\n",
      "polyglot download embeddings2.es\n",
      "This resource is available in the index but not downloaded, yet. Try to run\n",
      "\n",
      "polyglot download embeddings2.es"
     ]
    },
    {
     "name": "stderr",
     "output_type": "stream",
     "text": [
      "WARNING:polyglot.detect.base:Detector is not able to detect the language reliably.\n"
     ]
    },
    {
     "name": "stdout",
     "output_type": "stream",
     "text": [
      "\n",
      "This resource is available in the index but not downloaded, yet. Try to run\n",
      "\n",
      "polyglot download embeddings2.es\n",
      "This resource is available in the index but not downloaded, yet. Try to run\n",
      "\n",
      "polyglot download embeddings2.es\n",
      "This resource is available in the index but not downloaded, yet. Try to run\n",
      "\n",
      "polyglot download embeddings2.es"
     ]
    },
    {
     "name": "stderr",
     "output_type": "stream",
     "text": [
      "WARNING:polyglot.detect.base:Detector is not able to detect the language reliably.\n"
     ]
    },
    {
     "name": "stdout",
     "output_type": "stream",
     "text": [
      "\n",
      "This resource is available in the index but not downloaded, yet. Try to run\n",
      "\n",
      "polyglot download embeddings2.es"
     ]
    },
    {
     "name": "stderr",
     "output_type": "stream",
     "text": [
      "WARNING:polyglot.detect.base:Detector is not able to detect the language reliably.\n",
      "WARNING:polyglot.detect.base:Detector is not able to detect the language reliably.\n",
      "WARNING:polyglot.detect.base:Detector is not able to detect the language reliably.\n",
      "WARNING:polyglot.detect.base:Detector is not able to detect the language reliably.\n",
      "WARNING:polyglot.detect.base:Detector is not able to detect the language reliably.\n"
     ]
    },
    {
     "name": "stdout",
     "output_type": "stream",
     "text": [
      "\n",
      "This resource is available in the index but not downloaded, yet. Try to run\n",
      "\n",
      "polyglot download embeddings2.es\n",
      "This resource is available in the index but not downloaded, yet. Try to run\n",
      "\n",
      "polyglot download embeddings2.es\n",
      "This resource is available in the index but not downloaded, yet. Try to run\n",
      "\n",
      "polyglot download embeddings2.es\n",
      "This resource is available in the index but not downloaded, yet. Try to run\n",
      "\n",
      "polyglot download embeddings2.es"
     ]
    },
    {
     "name": "stderr",
     "output_type": "stream",
     "text": [
      "WARNING:polyglot.detect.base:Detector is not able to detect the language reliably.\n"
     ]
    },
    {
     "name": "stdout",
     "output_type": "stream",
     "text": [
      "\n",
      "This resource is available in the index but not downloaded, yet. Try to run\n",
      "\n",
      "polyglot download embeddings2.es\n",
      "This resource is available in the index but not downloaded, yet. Try to run\n",
      "\n",
      "polyglot download embeddings2.es\n",
      "This resource is available in the index but not downloaded, yet. Try to run\n",
      "\n",
      "polyglot download embeddings2.es\n",
      "This resource is available in the index but not downloaded, yet. Try to run\n",
      "\n",
      "polyglot download embeddings2.es\n",
      "This resource is available in the index but not downloaded, yet. Try to run\n",
      "\n",
      "polyglot download embeddings2.es\n",
      "This resource is available in the index but not downloaded, yet. Try to run\n",
      "\n",
      "polyglot download embeddings2.es\n",
      "This resource is available in the index but not downloaded, yet. Try to run\n",
      "\n",
      "polyglot download embeddings2.es"
     ]
    },
    {
     "name": "stderr",
     "output_type": "stream",
     "text": [
      "WARNING:polyglot.detect.base:Detector is not able to detect the language reliably.\n"
     ]
    },
    {
     "name": "stdout",
     "output_type": "stream",
     "text": [
      "\n",
      "This resource is available in the index but not downloaded, yet. Try to run\n",
      "\n",
      "polyglot download embeddings2.es"
     ]
    },
    {
     "name": "stderr",
     "output_type": "stream",
     "text": [
      "WARNING:polyglot.detect.base:Detector is not able to detect the language reliably.\n",
      "WARNING:polyglot.detect.base:Detector is not able to detect the language reliably.\n",
      "WARNING:polyglot.detect.base:Detector is not able to detect the language reliably.\n"
     ]
    },
    {
     "name": "stdout",
     "output_type": "stream",
     "text": [
      "\n",
      "This resource is available in the index but not downloaded, yet. Try to run\n",
      "\n",
      "polyglot download embeddings2.es"
     ]
    },
    {
     "name": "stderr",
     "output_type": "stream",
     "text": [
      "WARNING:polyglot.detect.base:Detector is not able to detect the language reliably.\n"
     ]
    },
    {
     "name": "stdout",
     "output_type": "stream",
     "text": [
      "\n",
      "This resource is available in the index but not downloaded, yet. Try to run\n",
      "\n",
      "polyglot download embeddings2.es\n",
      "This resource is available in the index but not downloaded, yet. Try to run\n",
      "\n",
      "polyglot download embeddings2.es\n",
      "This resource is available in the index but not downloaded, yet. Try to run\n",
      "\n",
      "polyglot download embeddings2.es\n",
      "This resource is available in the index but not downloaded, yet. Try to run\n",
      "\n",
      "polyglot download embeddings2.es"
     ]
    },
    {
     "name": "stderr",
     "output_type": "stream",
     "text": [
      "WARNING:polyglot.detect.base:Detector is not able to detect the language reliably.\n",
      "WARNING:polyglot.detect.base:Detector is not able to detect the language reliably.\n"
     ]
    },
    {
     "name": "stdout",
     "output_type": "stream",
     "text": [
      "\n",
      "This resource is available in the index but not downloaded, yet. Try to run\n",
      "\n",
      "polyglot download embeddings2.es"
     ]
    },
    {
     "name": "stderr",
     "output_type": "stream",
     "text": [
      "WARNING:polyglot.detect.base:Detector is not able to detect the language reliably.\n",
      "WARNING:polyglot.detect.base:Detector is not able to detect the language reliably.\n"
     ]
    },
    {
     "name": "stdout",
     "output_type": "stream",
     "text": [
      "\n",
      "This resource is available in the index but not downloaded, yet. Try to run\n",
      "\n",
      "polyglot download embeddings2.es"
     ]
    },
    {
     "name": "stderr",
     "output_type": "stream",
     "text": [
      "WARNING:polyglot.detect.base:Detector is not able to detect the language reliably.\n"
     ]
    },
    {
     "name": "stdout",
     "output_type": "stream",
     "text": [
      "\n",
      "This resource is available in the index but not downloaded, yet. Try to run\n",
      "\n",
      "polyglot download embeddings2.es"
     ]
    },
    {
     "name": "stderr",
     "output_type": "stream",
     "text": [
      "WARNING:polyglot.detect.base:Detector is not able to detect the language reliably.\n"
     ]
    },
    {
     "name": "stdout",
     "output_type": "stream",
     "text": [
      "\n",
      "This resource is available in the index but not downloaded, yet. Try to run\n",
      "\n",
      "polyglot download embeddings2.es\n",
      "This resource is available in the index but not downloaded, yet. Try to run\n",
      "\n",
      "polyglot download embeddings2.es\n",
      "This resource is available in the index but not downloaded, yet. Try to run\n",
      "\n",
      "polyglot download embeddings2.es\n",
      "This resource is available in the index but not downloaded, yet. Try to run\n",
      "\n",
      "polyglot download embeddings2.es\n",
      "This resource is available in the index but not downloaded, yet. Try to run\n",
      "\n",
      "polyglot download embeddings2.es\n",
      "This resource is available in the index but not downloaded, yet. Try to run\n",
      "\n",
      "polyglot download embeddings2.es\n",
      "This resource is available in the index but not downloaded, yet. Try to run\n",
      "\n",
      "polyglot download embeddings2.es\n",
      "This resource is available in the index but not downloaded, yet. Try to run\n",
      "\n",
      "polyglot download embeddings2.es\n",
      "This resource is available in the index but not downloaded, yet. Try to run\n",
      "\n",
      "polyglot download embeddings2.vi"
     ]
    },
    {
     "name": "stderr",
     "output_type": "stream",
     "text": [
      "WARNING:polyglot.detect.base:Detector is not able to detect the language reliably.\n"
     ]
    },
    {
     "name": "stdout",
     "output_type": "stream",
     "text": [
      "\n",
      "This resource is available in the index but not downloaded, yet. Try to run\n",
      "\n",
      "polyglot download embeddings2.es\n",
      "This resource is available in the index but not downloaded, yet. Try to run\n",
      "\n",
      "polyglot download embeddings2.zh"
     ]
    },
    {
     "name": "stderr",
     "output_type": "stream",
     "text": [
      "WARNING:polyglot.detect.base:Detector is not able to detect the language reliably.\n"
     ]
    },
    {
     "name": "stdout",
     "output_type": "stream",
     "text": [
      "\n",
      "This resource is available in the index but not downloaded, yet. Try to run\n",
      "\n",
      "polyglot download embeddings2.ar\n",
      "This resource is available in the index but not downloaded, yet. Try to run\n",
      "\n",
      "polyglot download embeddings2.hi\n",
      "This resource is available in the index but not downloaded, yet. Try to run\n",
      "\n",
      "polyglot download embeddings2.tl\n",
      "This resource is available in the index but not downloaded, yet. Try to run\n",
      "\n",
      "polyglot download embeddings2.es\n",
      "This resource is available in the index but not downloaded, yet. Try to run\n",
      "\n",
      "polyglot download embeddings2.es"
     ]
    },
    {
     "name": "stderr",
     "output_type": "stream",
     "text": [
      "WARNING:polyglot.detect.base:Detector is not able to detect the language reliably.\n"
     ]
    },
    {
     "name": "stdout",
     "output_type": "stream",
     "text": [
      "\n",
      "This resource is available in the index but not downloaded, yet. Try to run\n",
      "\n",
      "polyglot download embeddings2.es"
     ]
    },
    {
     "name": "stderr",
     "output_type": "stream",
     "text": [
      "WARNING:polyglot.detect.base:Detector is not able to detect the language reliably.\n"
     ]
    },
    {
     "name": "stdout",
     "output_type": "stream",
     "text": [
      "\n",
      "This resource is available in the index but not downloaded, yet. Try to run\n",
      "\n",
      "polyglot download embeddings2.es\n",
      "This resource is available in the index but not downloaded, yet. Try to run\n",
      "\n",
      "polyglot download embeddings2.es"
     ]
    },
    {
     "name": "stderr",
     "output_type": "stream",
     "text": [
      "WARNING:polyglot.detect.base:Detector is not able to detect the language reliably.\n"
     ]
    },
    {
     "name": "stdout",
     "output_type": "stream",
     "text": [
      "\n",
      "Package u'embeddings2.un' not found in index\n",
      "This resource is available in the index but not downloaded, yet. Try to run\n",
      "\n",
      "polyglot download embeddings2.es"
     ]
    },
    {
     "name": "stderr",
     "output_type": "stream",
     "text": [
      "WARNING:polyglot.detect.base:Detector is not able to detect the language reliably.\n",
      "WARNING:polyglot.detect.base:Detector is not able to detect the language reliably.\n"
     ]
    },
    {
     "name": "stdout",
     "output_type": "stream",
     "text": [
      "\n",
      "This resource is available in the index but not downloaded, yet. Try to run\n",
      "\n",
      "polyglot download embeddings2.es"
     ]
    },
    {
     "name": "stderr",
     "output_type": "stream",
     "text": [
      "WARNING:polyglot.detect.base:Detector is not able to detect the language reliably.\n",
      "WARNING:polyglot.detect.base:Detector is not able to detect the language reliably.\n"
     ]
    },
    {
     "name": "stdout",
     "output_type": "stream",
     "text": [
      "\n",
      "This resource is available in the index but not downloaded, yet. Try to run\n",
      "\n",
      "polyglot download embeddings2.gv\n",
      "This resource is available in the index but not downloaded, yet. Try to run\n",
      "\n",
      "polyglot download embeddings2.es\n",
      "This resource is available in the index but not downloaded, yet. Try to run\n",
      "\n",
      "polyglot download embeddings2.es"
     ]
    },
    {
     "name": "stderr",
     "output_type": "stream",
     "text": [
      "WARNING:polyglot.detect.base:Detector is not able to detect the language reliably.\n"
     ]
    },
    {
     "name": "stdout",
     "output_type": "stream",
     "text": [
      "\n",
      "This resource is available in the index but not downloaded, yet. Try to run\n",
      "\n",
      "polyglot download embeddings2.es\n",
      "This resource is available in the index but not downloaded, yet. Try to run\n",
      "\n",
      "polyglot download embeddings2.es"
     ]
    },
    {
     "name": "stderr",
     "output_type": "stream",
     "text": [
      "WARNING:polyglot.detect.base:Detector is not able to detect the language reliably.\n",
      "WARNING:polyglot.detect.base:Detector is not able to detect the language reliably.\n"
     ]
    },
    {
     "name": "stdout",
     "output_type": "stream",
     "text": [
      "\n",
      "Package u'embeddings2.zzp' not found in index"
     ]
    },
    {
     "name": "stderr",
     "output_type": "stream",
     "text": [
      "WARNING:polyglot.detect.base:Detector is not able to detect the language reliably.\n",
      "WARNING:polyglot.detect.base:Detector is not able to detect the language reliably.\n"
     ]
    },
    {
     "name": "stdout",
     "output_type": "stream",
     "text": [
      "\n",
      "This resource is available in the index but not downloaded, yet. Try to run\n",
      "\n",
      "polyglot download embeddings2.es\n",
      "This resource is available in the index but not downloaded, yet. Try to run\n",
      "\n",
      "polyglot download embeddings2.es"
     ]
    },
    {
     "name": "stderr",
     "output_type": "stream",
     "text": [
      "WARNING:polyglot.detect.base:Detector is not able to detect the language reliably.\n"
     ]
    },
    {
     "name": "stdout",
     "output_type": "stream",
     "text": [
      "\n",
      "This resource is available in the index but not downloaded, yet. Try to run\n",
      "\n",
      "polyglot download embeddings2.ar"
     ]
    },
    {
     "name": "stderr",
     "output_type": "stream",
     "text": [
      "WARNING:polyglot.detect.base:Detector is not able to detect the language reliably.\n",
      "WARNING:polyglot.detect.base:Detector is not able to detect the language reliably.\n"
     ]
    },
    {
     "name": "stdout",
     "output_type": "stream",
     "text": [
      "\n",
      "This resource is available in the index but not downloaded, yet. Try to run\n",
      "\n",
      "polyglot download embeddings2.es\n",
      "This resource is available in the index but not downloaded, yet. Try to run\n",
      "\n",
      "polyglot download embeddings2.es\n",
      "This resource is available in the index but not downloaded, yet. Try to run\n",
      "\n",
      "polyglot download embeddings2.es\n",
      "This resource is available in the index but not downloaded, yet. Try to run\n",
      "\n",
      "polyglot download embeddings2.es\n",
      "This resource is available in the index but not downloaded, yet. Try to run\n",
      "\n",
      "polyglot download embeddings2.es\n",
      "This resource is available in the index but not downloaded, yet. Try to run\n",
      "\n",
      "polyglot download embeddings2.es\n",
      "This resource is available in the index but not downloaded, yet. Try to run\n",
      "\n",
      "polyglot download embeddings2.es"
     ]
    },
    {
     "name": "stderr",
     "output_type": "stream",
     "text": [
      "WARNING:polyglot.detect.base:Detector is not able to detect the language reliably.\n",
      "WARNING:polyglot.detect.base:Detector is not able to detect the language reliably.\n"
     ]
    },
    {
     "name": "stdout",
     "output_type": "stream",
     "text": [
      "\n",
      "This resource is available in the index but not downloaded, yet. Try to run\n",
      "\n",
      "polyglot download embeddings2.es"
     ]
    },
    {
     "name": "stderr",
     "output_type": "stream",
     "text": [
      "WARNING:polyglot.detect.base:Detector is not able to detect the language reliably.\n"
     ]
    },
    {
     "name": "stdout",
     "output_type": "stream",
     "text": [
      "\n",
      "This resource is available in the index but not downloaded, yet. Try to run\n",
      "\n",
      "polyglot download embeddings2.es\n",
      "This resource is available in the index but not downloaded, yet. Try to run\n",
      "\n",
      "polyglot download embeddings2.es\n",
      "This resource is available in the index but not downloaded, yet. Try to run\n",
      "\n",
      "polyglot download embeddings2.es"
     ]
    },
    {
     "name": "stderr",
     "output_type": "stream",
     "text": [
      "WARNING:polyglot.detect.base:Detector is not able to detect the language reliably.\n",
      "WARNING:polyglot.detect.base:Detector is not able to detect the language reliably.\n",
      "WARNING:polyglot.detect.base:Detector is not able to detect the language reliably.\n"
     ]
    },
    {
     "name": "stdout",
     "output_type": "stream",
     "text": [
      "\n",
      "This resource is available in the index but not downloaded, yet. Try to run\n",
      "\n",
      "polyglot download embeddings2.es"
     ]
    },
    {
     "name": "stderr",
     "output_type": "stream",
     "text": [
      "WARNING:polyglot.detect.base:Detector is not able to detect the language reliably.\n",
      "WARNING:polyglot.detect.base:Detector is not able to detect the language reliably.\n"
     ]
    },
    {
     "name": "stdout",
     "output_type": "stream",
     "text": [
      "\n",
      "This resource is available in the index but not downloaded, yet. Try to run\n",
      "\n",
      "polyglot download embeddings2.es"
     ]
    },
    {
     "name": "stderr",
     "output_type": "stream",
     "text": [
      "WARNING:polyglot.detect.base:Detector is not able to detect the language reliably.\n"
     ]
    },
    {
     "name": "stdout",
     "output_type": "stream",
     "text": [
      "\n",
      "This resource is available in the index but not downloaded, yet. Try to run\n",
      "\n",
      "polyglot download embeddings2.es\n",
      "This resource is available in the index but not downloaded, yet. Try to run\n",
      "\n",
      "polyglot download embeddings2.es\n",
      "This resource is available in the index but not downloaded, yet. Try to run\n",
      "\n",
      "polyglot download embeddings2.es"
     ]
    },
    {
     "name": "stderr",
     "output_type": "stream",
     "text": [
      "WARNING:polyglot.detect.base:Detector is not able to detect the language reliably.\n",
      "WARNING:polyglot.detect.base:Detector is not able to detect the language reliably.\n"
     ]
    },
    {
     "name": "stdout",
     "output_type": "stream",
     "text": [
      "\n",
      "This resource is available in the index but not downloaded, yet. Try to run\n",
      "\n",
      "polyglot download embeddings2.es\n",
      "This resource is available in the index but not downloaded, yet. Try to run\n",
      "\n",
      "polyglot download embeddings2.es\n",
      "This resource is available in the index but not downloaded, yet. Try to run\n",
      "\n",
      "polyglot download embeddings2.es\n",
      "This resource is available in the index but not downloaded, yet. Try to run\n",
      "\n",
      "polyglot download embeddings2.es\n",
      "This resource is available in the index but not downloaded, yet. Try to run\n",
      "\n",
      "polyglot download embeddings2.es"
     ]
    },
    {
     "name": "stderr",
     "output_type": "stream",
     "text": [
      "WARNING:polyglot.detect.base:Detector is not able to detect the language reliably.\n"
     ]
    },
    {
     "name": "stdout",
     "output_type": "stream",
     "text": [
      "\n",
      "This resource is available in the index but not downloaded, yet. Try to run\n",
      "\n",
      "polyglot download embeddings2.es\n",
      "This resource is available in the index but not downloaded, yet. Try to run\n",
      "\n",
      "polyglot download embeddings2.es\n",
      "This resource is available in the index but not downloaded, yet. Try to run\n",
      "\n",
      "polyglot download embeddings2.es"
     ]
    },
    {
     "name": "stderr",
     "output_type": "stream",
     "text": [
      "WARNING:polyglot.detect.base:Detector is not able to detect the language reliably.\n"
     ]
    },
    {
     "name": "stdout",
     "output_type": "stream",
     "text": [
      "\n",
      "This resource is available in the index but not downloaded, yet. Try to run\n",
      "\n",
      "polyglot download embeddings2.es"
     ]
    },
    {
     "name": "stderr",
     "output_type": "stream",
     "text": [
      "WARNING:polyglot.detect.base:Detector is not able to detect the language reliably.\n"
     ]
    },
    {
     "name": "stdout",
     "output_type": "stream",
     "text": [
      "\n",
      "This resource is available in the index but not downloaded, yet. Try to run\n",
      "\n",
      "polyglot download embeddings2.es\n",
      "This resource is available in the index but not downloaded, yet. Try to run\n",
      "\n",
      "polyglot download embeddings2.es\n",
      "This resource is available in the index but not downloaded, yet. Try to run\n",
      "\n",
      "polyglot download embeddings2.es\n",
      "This resource is available in the index but not downloaded, yet. Try to run\n",
      "\n",
      "polyglot download embeddings2.es"
     ]
    },
    {
     "name": "stderr",
     "output_type": "stream",
     "text": [
      "WARNING:polyglot.detect.base:Detector is not able to detect the language reliably.\n"
     ]
    },
    {
     "name": "stdout",
     "output_type": "stream",
     "text": [
      "\n",
      "This resource is available in the index but not downloaded, yet. Try to run\n",
      "\n",
      "polyglot download embeddings2.es"
     ]
    },
    {
     "name": "stderr",
     "output_type": "stream",
     "text": [
      "WARNING:polyglot.detect.base:Detector is not able to detect the language reliably.\n"
     ]
    },
    {
     "name": "stdout",
     "output_type": "stream",
     "text": [
      "\n",
      "This resource is available in the index but not downloaded, yet. Try to run\n",
      "\n",
      "polyglot download embeddings2.es\n",
      "This resource is available in the index but not downloaded, yet. Try to run\n",
      "\n",
      "polyglot download embeddings2.es\n",
      "This resource is available in the index but not downloaded, yet. Try to run\n",
      "\n",
      "polyglot download embeddings2.es"
     ]
    },
    {
     "name": "stderr",
     "output_type": "stream",
     "text": [
      "WARNING:polyglot.detect.base:Detector is not able to detect the language reliably.\n",
      "WARNING:polyglot.detect.base:Detector is not able to detect the language reliably.\n"
     ]
    },
    {
     "name": "stdout",
     "output_type": "stream",
     "text": [
      "\n",
      "This resource is available in the index but not downloaded, yet. Try to run\n",
      "\n",
      "polyglot download embeddings2.es\n",
      "This resource is available in the index but not downloaded, yet. Try to run\n",
      "\n",
      "polyglot download embeddings2.es\n",
      "This resource is available in the index but not downloaded, yet. Try to run\n",
      "\n",
      "polyglot download embeddings2.es\n",
      "This resource is available in the index but not downloaded, yet. Try to run\n",
      "\n",
      "polyglot download embeddings2.es\n",
      "This resource is available in the index but not downloaded, yet. Try to run\n",
      "\n",
      "polyglot download embeddings2.es\n",
      "This resource is available in the index but not downloaded, yet. Try to run\n",
      "\n",
      "polyglot download embeddings2.es"
     ]
    },
    {
     "name": "stderr",
     "output_type": "stream",
     "text": [
      "WARNING:polyglot.detect.base:Detector is not able to detect the language reliably.\n"
     ]
    },
    {
     "name": "stdout",
     "output_type": "stream",
     "text": [
      "\n",
      "This resource is available in the index but not downloaded, yet. Try to run\n",
      "\n",
      "polyglot download embeddings2.es"
     ]
    },
    {
     "name": "stderr",
     "output_type": "stream",
     "text": [
      "WARNING:polyglot.detect.base:Detector is not able to detect the language reliably.\n"
     ]
    },
    {
     "name": "stdout",
     "output_type": "stream",
     "text": [
      "\n",
      "This resource is available in the index but not downloaded, yet. Try to run\n",
      "\n",
      "polyglot download embeddings2.es\n",
      "This resource is available in the index but not downloaded, yet. Try to run\n",
      "\n",
      "polyglot download embeddings2.es\n",
      "This resource is available in the index but not downloaded, yet. Try to run\n",
      "\n",
      "polyglot download embeddings2.es\n",
      "This resource is available in the index but not downloaded, yet. Try to run\n",
      "\n",
      "polyglot download embeddings2.es\n",
      "This resource is available in the index but not downloaded, yet. Try to run\n",
      "\n",
      "polyglot download embeddings2.es\n",
      "This resource is available in the index but not downloaded, yet. Try to run\n",
      "\n",
      "polyglot download embeddings2.es"
     ]
    },
    {
     "name": "stderr",
     "output_type": "stream",
     "text": [
      "WARNING:polyglot.detect.base:Detector is not able to detect the language reliably.\n",
      "WARNING:polyglot.detect.base:Detector is not able to detect the language reliably.\n"
     ]
    },
    {
     "name": "stdout",
     "output_type": "stream",
     "text": [
      "\n",
      "This resource is available in the index but not downloaded, yet. Try to run\n",
      "\n",
      "polyglot download embeddings2.es\n",
      "This resource is available in the index but not downloaded, yet. Try to run\n",
      "\n",
      "polyglot download embeddings2.es\n",
      "This resource is available in the index but not downloaded, yet. Try to run\n",
      "\n",
      "polyglot download embeddings2.es\n",
      "This resource is available in the index but not downloaded, yet. Try to run\n",
      "\n",
      "polyglot download embeddings2.es\n",
      "This resource is available in the index but not downloaded, yet. Try to run\n",
      "\n",
      "polyglot download embeddings2.es"
     ]
    },
    {
     "name": "stderr",
     "output_type": "stream",
     "text": [
      "WARNING:polyglot.detect.base:Detector is not able to detect the language reliably.\n"
     ]
    },
    {
     "name": "stdout",
     "output_type": "stream",
     "text": [
      "\n",
      "This resource is available in the index but not downloaded, yet. Try to run\n",
      "\n",
      "polyglot download embeddings2.es\n",
      "This resource is available in the index but not downloaded, yet. Try to run\n",
      "\n",
      "polyglot download embeddings2.es\n",
      "This resource is available in the index but not downloaded, yet. Try to run\n",
      "\n",
      "polyglot download embeddings2.es\n",
      "This resource is available in the index but not downloaded, yet. Try to run\n",
      "\n",
      "polyglot download embeddings2.es"
     ]
    },
    {
     "name": "stderr",
     "output_type": "stream",
     "text": [
      "WARNING:polyglot.detect.base:Detector is not able to detect the language reliably.\n"
     ]
    },
    {
     "name": "stdout",
     "output_type": "stream",
     "text": [
      "\n",
      "This resource is available in the index but not downloaded, yet. Try to run\n",
      "\n",
      "polyglot download embeddings2.es\n",
      "This resource is available in the index but not downloaded, yet. Try to run\n",
      "\n",
      "polyglot download embeddings2.es\n",
      "This resource is available in the index but not downloaded, yet. Try to run\n",
      "\n",
      "polyglot download embeddings2.es"
     ]
    },
    {
     "name": "stderr",
     "output_type": "stream",
     "text": [
      "WARNING:polyglot.detect.base:Detector is not able to detect the language reliably.\n"
     ]
    },
    {
     "name": "stdout",
     "output_type": "stream",
     "text": [
      "\n",
      "This resource is available in the index but not downloaded, yet. Try to run\n",
      "\n",
      "polyglot download embeddings2.es\n",
      "This resource is available in the index but not downloaded, yet. Try to run\n",
      "\n",
      "polyglot download embeddings2.es\n",
      "This resource is available in the index but not downloaded, yet. Try to run\n",
      "\n",
      "polyglot download embeddings2.es\n",
      "This resource is available in the index but not downloaded, yet. Try to run\n",
      "\n",
      "polyglot download embeddings2.es"
     ]
    },
    {
     "name": "stderr",
     "output_type": "stream",
     "text": [
      "WARNING:polyglot.detect.base:Detector is not able to detect the language reliably.\n"
     ]
    },
    {
     "name": "stdout",
     "output_type": "stream",
     "text": [
      "\n",
      "This resource is available in the index but not downloaded, yet. Try to run\n",
      "\n",
      "polyglot download embeddings2.es"
     ]
    },
    {
     "name": "stderr",
     "output_type": "stream",
     "text": [
      "WARNING:polyglot.detect.base:Detector is not able to detect the language reliably.\n"
     ]
    },
    {
     "name": "stdout",
     "output_type": "stream",
     "text": [
      "\n",
      "This resource is available in the index but not downloaded, yet. Try to run\n",
      "\n",
      "polyglot download embeddings2.es\n",
      "This resource is available in the index but not downloaded, yet. Try to run\n",
      "\n",
      "polyglot download embeddings2.es\n",
      "This resource is available in the index but not downloaded, yet. Try to run\n",
      "\n",
      "polyglot download embeddings2.es"
     ]
    },
    {
     "name": "stderr",
     "output_type": "stream",
     "text": [
      "WARNING:polyglot.detect.base:Detector is not able to detect the language reliably.\n"
     ]
    },
    {
     "name": "stdout",
     "output_type": "stream",
     "text": [
      "\n",
      "This resource is available in the index but not downloaded, yet. Try to run\n",
      "\n",
      "polyglot download embeddings2.es\n",
      "This resource is available in the index but not downloaded, yet. Try to run\n",
      "\n",
      "polyglot download embeddings2.es\n",
      "This resource is available in the index but not downloaded, yet. Try to run\n",
      "\n",
      "polyglot download embeddings2.es\n",
      "This resource is available in the index but not downloaded, yet. Try to run\n",
      "\n",
      "polyglot download embeddings2.es\n",
      "This resource is available in the index but not downloaded, yet. Try to run\n",
      "\n",
      "polyglot download embeddings2.es\n",
      "This resource is available in the index but not downloaded, yet. Try to run\n",
      "\n",
      "polyglot download embeddings2.es"
     ]
    },
    {
     "name": "stderr",
     "output_type": "stream",
     "text": [
      "WARNING:polyglot.detect.base:Detector is not able to detect the language reliably.\n"
     ]
    },
    {
     "name": "stdout",
     "output_type": "stream",
     "text": [
      "\n",
      "This resource is available in the index but not downloaded, yet. Try to run\n",
      "\n",
      "polyglot download embeddings2.es\n",
      "This resource is available in the index but not downloaded, yet. Try to run\n",
      "\n",
      "polyglot download embeddings2.es\n",
      "This resource is available in the index but not downloaded, yet. Try to run\n",
      "\n",
      "polyglot download embeddings2.es\n",
      "This resource is available in the index but not downloaded, yet. Try to run\n",
      "\n",
      "polyglot download embeddings2.es"
     ]
    },
    {
     "name": "stderr",
     "output_type": "stream",
     "text": [
      "WARNING:polyglot.detect.base:Detector is not able to detect the language reliably.\n",
      "WARNING:polyglot.detect.base:Detector is not able to detect the language reliably.\n"
     ]
    },
    {
     "name": "stdout",
     "output_type": "stream",
     "text": [
      "\n",
      "This resource is available in the index but not downloaded, yet. Try to run\n",
      "\n",
      "polyglot download embeddings2.es\n",
      "This resource is available in the index but not downloaded, yet. Try to run\n",
      "\n",
      "polyglot download embeddings2.es\n",
      "This resource is available in the index but not downloaded, yet. Try to run\n",
      "\n",
      "polyglot download embeddings2.es\n",
      "This resource is available in the index but not downloaded, yet. Try to run\n",
      "\n",
      "polyglot download embeddings2.es\n",
      "This resource is available in the index but not downloaded, yet. Try to run\n",
      "\n",
      "polyglot download embeddings2.es\n",
      "This resource is available in the index but not downloaded, yet. Try to run\n",
      "\n",
      "polyglot download embeddings2.es"
     ]
    },
    {
     "name": "stderr",
     "output_type": "stream",
     "text": [
      "WARNING:polyglot.detect.base:Detector is not able to detect the language reliably.\n"
     ]
    },
    {
     "name": "stdout",
     "output_type": "stream",
     "text": [
      "\n",
      "This resource is available in the index but not downloaded, yet. Try to run\n",
      "\n",
      "polyglot download embeddings2.es\n",
      "This resource is available in the index but not downloaded, yet. Try to run\n",
      "\n",
      "polyglot download embeddings2.es\n",
      "This resource is available in the index but not downloaded, yet. Try to run\n",
      "\n",
      "polyglot download embeddings2.es\n",
      "This resource is available in the index but not downloaded, yet. Try to run\n",
      "\n",
      "polyglot download embeddings2.es\n",
      "This resource is available in the index but not downloaded, yet. Try to run\n",
      "\n",
      "polyglot download embeddings2.es\n",
      "This resource is available in the index but not downloaded, yet. Try to run\n",
      "\n",
      "polyglot download embeddings2.es\n",
      "This resource is available in the index but not downloaded, yet. Try to run\n",
      "\n",
      "polyglot download embeddings2.es\n",
      "This resource is available in the index but not downloaded, yet. Try to run\n",
      "\n",
      "polyglot download embeddings2.es\n",
      "This resource is available in the index but not downloaded, yet. Try to run\n",
      "\n",
      "polyglot download embeddings2.es\n",
      "This resource is available in the index but not downloaded, yet. Try to run\n",
      "\n",
      "polyglot download embeddings2.es\n",
      "This resource is available in the index but not downloaded, yet. Try to run\n",
      "\n",
      "polyglot download embeddings2.es\n",
      "This resource is available in the index but not downloaded, yet. Try to run\n",
      "\n",
      "polyglot download embeddings2.es\n",
      "This resource is available in the index but not downloaded, yet. Try to run\n",
      "\n",
      "polyglot download embeddings2.es\n",
      "This resource is available in the index but not downloaded, yet. Try to run\n",
      "\n",
      "polyglot download embeddings2.es\n",
      "This resource is available in the index but not downloaded, yet. Try to run\n",
      "\n",
      "polyglot download embeddings2.es\n",
      "This resource is available in the index but not downloaded, yet. Try to run\n",
      "\n",
      "polyglot download embeddings2.es\n",
      "This resource is available in the index but not downloaded, yet. Try to run\n",
      "\n",
      "polyglot download embeddings2.es"
     ]
    },
    {
     "name": "stderr",
     "output_type": "stream",
     "text": [
      "WARNING:polyglot.detect.base:Detector is not able to detect the language reliably.\n",
      "WARNING:polyglot.detect.base:Detector is not able to detect the language reliably.\n",
      "WARNING:polyglot.detect.base:Detector is not able to detect the language reliably.\n"
     ]
    },
    {
     "name": "stdout",
     "output_type": "stream",
     "text": [
      "\n",
      "This resource is available in the index but not downloaded, yet. Try to run\n",
      "\n",
      "polyglot download embeddings2.es"
     ]
    },
    {
     "name": "stderr",
     "output_type": "stream",
     "text": [
      "WARNING:polyglot.detect.base:Detector is not able to detect the language reliably.\n",
      "WARNING:polyglot.detect.base:Detector is not able to detect the language reliably.\n",
      "WARNING:polyglot.detect.base:Detector is not able to detect the language reliably.\n"
     ]
    },
    {
     "name": "stdout",
     "output_type": "stream",
     "text": [
      "\n",
      "This resource is available in the index but not downloaded, yet. Try to run\n",
      "\n",
      "polyglot download embeddings2.es\n",
      "This resource is available in the index but not downloaded, yet. Try to run\n",
      "\n",
      "polyglot download embeddings2.es"
     ]
    },
    {
     "name": "stderr",
     "output_type": "stream",
     "text": [
      "WARNING:polyglot.detect.base:Detector is not able to detect the language reliably.\n"
     ]
    },
    {
     "name": "stdout",
     "output_type": "stream",
     "text": [
      "\n",
      "This resource is available in the index but not downloaded, yet. Try to run\n",
      "\n",
      "polyglot download embeddings2.es\n",
      "This resource is available in the index but not downloaded, yet. Try to run\n",
      "\n",
      "polyglot download embeddings2.es\n",
      "This resource is available in the index but not downloaded, yet. Try to run\n",
      "\n",
      "polyglot download embeddings2.es"
     ]
    },
    {
     "name": "stderr",
     "output_type": "stream",
     "text": [
      "WARNING:polyglot.detect.base:Detector is not able to detect the language reliably.\n"
     ]
    },
    {
     "name": "stdout",
     "output_type": "stream",
     "text": [
      "\n",
      "This resource is available in the index but not downloaded, yet. Try to run\n",
      "\n",
      "polyglot download embeddings2.es"
     ]
    },
    {
     "name": "stderr",
     "output_type": "stream",
     "text": [
      "WARNING:polyglot.detect.base:Detector is not able to detect the language reliably.\n"
     ]
    },
    {
     "name": "stdout",
     "output_type": "stream",
     "text": [
      "\n",
      "This resource is available in the index but not downloaded, yet. Try to run\n",
      "\n",
      "polyglot download embeddings2.es\n",
      "This resource is available in the index but not downloaded, yet. Try to run\n",
      "\n",
      "polyglot download embeddings2.es\n",
      "This resource is available in the index but not downloaded, yet. Try to run\n",
      "\n",
      "polyglot download embeddings2.es"
     ]
    },
    {
     "name": "stderr",
     "output_type": "stream",
     "text": [
      "WARNING:polyglot.detect.base:Detector is not able to detect the language reliably.\n"
     ]
    },
    {
     "name": "stdout",
     "output_type": "stream",
     "text": [
      "\n",
      "This resource is available in the index but not downloaded, yet. Try to run\n",
      "\n",
      "polyglot download embeddings2.es\n",
      "This resource is available in the index but not downloaded, yet. Try to run\n",
      "\n",
      "polyglot download embeddings2.es\n",
      "This resource is available in the index but not downloaded, yet. Try to run\n",
      "\n",
      "polyglot download embeddings2.es\n",
      "This resource is available in the index but not downloaded, yet. Try to run\n",
      "\n",
      "polyglot download embeddings2.es\n"
     ]
    }
   ],
   "source": [
    "tweets['entities']=tweets['body'].map(get_entites)"
   ]
  },
  {
   "cell_type": "code",
   "execution_count": 34,
   "metadata": {
    "collapsed": false
   },
   "outputs": [],
   "source": [
    "tweets['sentiment']=tweets['body'].map(get_sentiment)"
   ]
  },
  {
   "cell_type": "code",
   "execution_count": 35,
   "metadata": {
    "collapsed": false
   },
   "outputs": [],
   "source": [
    "tweets['noun_phrases']=tweets['body'].map(get_noun_phrases)"
   ]
  },
  {
   "cell_type": "code",
   "execution_count": 36,
   "metadata": {
    "collapsed": false
   },
   "outputs": [],
   "source": [
    "tweets['mean_sentiment']=tweets['sentiment'].map(lambda s:reduce(lambda x, y: x + y, s) / len(s))\n",
    "tweets['postedTime_datetime']=tweets['postedTime'].map(lambda x:pd.to_datetime(str(timestring.Date(x))))\n",
    "tweets['postedTime_datetime']=pd.DatetimeIndex(tweets['postedTime'])\n"
   ]
  },
  {
   "cell_type": "code",
   "execution_count": 37,
   "metadata": {
    "collapsed": false
   },
   "outputs": [],
   "source": [
    "tweets['displayName']=tweets['displayName'].replace('Senator Ted Cruz','Ted Cruz')\n",
    "tweets['day']=tweets['postedTime_datetime'].map(lambda x:x.date())\n",
    "tweets['week']=tweets['day'].map(lambda x:x.isocalendar()[1])"
   ]
  },
  {
   "cell_type": "code",
   "execution_count": 38,
   "metadata": {
    "collapsed": false
   },
   "outputs": [],
   "source": [
    "tweets.to_csv('datasets/tweets_with_desc.csv')"
   ]
  },
  {
   "cell_type": "code",
   "execution_count": 39,
   "metadata": {
    "collapsed": false
   },
   "outputs": [],
   "source": []
  },
  {
   "cell_type": "code",
   "execution_count": 61,
   "metadata": {
    "collapsed": false
   },
   "outputs": [],
   "source": [
    "cands_map = {'Hillary': 'Hillary Clinton','HillaryClinton': 'Hillary Clinton', 'Hillary Clinton': 'Hillary Clinton', 'Clinton': 'Hillary Clinton', \n",
    "           'Donald Trump': 'Donald Trump', 'Donald': 'Donald Trump', 'Trump': 'Donald Trump', 'Donald J. Trump': 'Donald Trump','realDonaldTrump': 'Donald Trump',\n",
    "           'Bernie Sanders': 'Bernie Sanders','BernieSanders':'Bernie Sanders', 'Bernie': 'Bernie Sanders', 'Sanders': 'Bernie Sanders'}\n",
    "\n",
    "def check_if_candidate(x):\n",
    "    if x in cands_map:\n",
    "        return cands_map[x]\n",
    "    else:\n",
    "        return None\n",
    "\n",
    "candidate_col = 'displayName'\n",
    "candidates = []\n",
    "for rowid,tweet in tweets.iterrows():\n",
    "    cand = tweet[candidate_col]\n",
    "    cand=check_if_candidate(cand)\n",
    "    if cand:\n",
    "        for ent in tweet['entities']:\n",
    "            e = ent['entity']\n",
    "            pos=ent['pos']\n",
    "            neg=ent['neg']\n",
    "            if check_if_candidate(e):\n",
    "                candidates.append((cand, check_if_candidate(e),\"POS\" if pos>neg else 'NEU' if pos=='' else 'NEG' ))"
   ]
  },
  {
   "cell_type": "code",
   "execution_count": 63,
   "metadata": {
    "collapsed": false
   },
   "outputs": [],
   "source": [
    "candidates=pd.DataFrame(candidates)\n",
    "candidates['sum']=1\n",
    "candidatesGrouped=candidates.groupby([0,1,2]).sum()\n",
    "rows=list(candidatesGrouped.iterrows())\n",
    "denom=candidates.groupby([0]).sum()\n",
    "candidatesGrouped.reset_index(inplace=True)  \n",
    "denom.reset_index(inplace=True)\n",
    "candidatesGrouped=pd.merge(candidatesGrouped,denom,on=0)\n",
    "candidatesGrouped['percent']=candidatesGrouped['sum_x']/candidatesGrouped['sum_y']*100"
   ]
  },
  {
   "cell_type": "code",
   "execution_count": 64,
   "metadata": {
    "collapsed": false
   },
   "outputs": [
    {
     "data": {
      "text/html": [
       "<div>\n",
       "<table border=\"1\" class=\"dataframe\">\n",
       "  <thead>\n",
       "    <tr style=\"text-align: right;\">\n",
       "      <th></th>\n",
       "      <th>0</th>\n",
       "      <th>1</th>\n",
       "      <th>2</th>\n",
       "      <th>sum_x</th>\n",
       "      <th>sum_y</th>\n",
       "      <th>percent</th>\n",
       "    </tr>\n",
       "  </thead>\n",
       "  <tbody>\n",
       "    <tr>\n",
       "      <th>0</th>\n",
       "      <td>Bernie Sanders</td>\n",
       "      <td>Bernie Sanders</td>\n",
       "      <td>NEG</td>\n",
       "      <td>748</td>\n",
       "      <td>2148</td>\n",
       "      <td>34.823091</td>\n",
       "    </tr>\n",
       "    <tr>\n",
       "      <th>1</th>\n",
       "      <td>Bernie Sanders</td>\n",
       "      <td>Bernie Sanders</td>\n",
       "      <td>NEU</td>\n",
       "      <td>463</td>\n",
       "      <td>2148</td>\n",
       "      <td>21.554935</td>\n",
       "    </tr>\n",
       "    <tr>\n",
       "      <th>2</th>\n",
       "      <td>Bernie Sanders</td>\n",
       "      <td>Bernie Sanders</td>\n",
       "      <td>POS</td>\n",
       "      <td>621</td>\n",
       "      <td>2148</td>\n",
       "      <td>28.910615</td>\n",
       "    </tr>\n",
       "    <tr>\n",
       "      <th>3</th>\n",
       "      <td>Bernie Sanders</td>\n",
       "      <td>Donald Trump</td>\n",
       "      <td>NEG</td>\n",
       "      <td>34</td>\n",
       "      <td>2148</td>\n",
       "      <td>1.582868</td>\n",
       "    </tr>\n",
       "    <tr>\n",
       "      <th>4</th>\n",
       "      <td>Bernie Sanders</td>\n",
       "      <td>Donald Trump</td>\n",
       "      <td>NEU</td>\n",
       "      <td>23</td>\n",
       "      <td>2148</td>\n",
       "      <td>1.070764</td>\n",
       "    </tr>\n",
       "    <tr>\n",
       "      <th>5</th>\n",
       "      <td>Bernie Sanders</td>\n",
       "      <td>Donald Trump</td>\n",
       "      <td>POS</td>\n",
       "      <td>39</td>\n",
       "      <td>2148</td>\n",
       "      <td>1.815642</td>\n",
       "    </tr>\n",
       "    <tr>\n",
       "      <th>6</th>\n",
       "      <td>Bernie Sanders</td>\n",
       "      <td>Hillary Clinton</td>\n",
       "      <td>NEG</td>\n",
       "      <td>86</td>\n",
       "      <td>2148</td>\n",
       "      <td>4.003724</td>\n",
       "    </tr>\n",
       "    <tr>\n",
       "      <th>7</th>\n",
       "      <td>Bernie Sanders</td>\n",
       "      <td>Hillary Clinton</td>\n",
       "      <td>NEU</td>\n",
       "      <td>56</td>\n",
       "      <td>2148</td>\n",
       "      <td>2.607076</td>\n",
       "    </tr>\n",
       "    <tr>\n",
       "      <th>8</th>\n",
       "      <td>Bernie Sanders</td>\n",
       "      <td>Hillary Clinton</td>\n",
       "      <td>POS</td>\n",
       "      <td>78</td>\n",
       "      <td>2148</td>\n",
       "      <td>3.631285</td>\n",
       "    </tr>\n",
       "    <tr>\n",
       "      <th>9</th>\n",
       "      <td>Donald Trump</td>\n",
       "      <td>Bernie Sanders</td>\n",
       "      <td>NEG</td>\n",
       "      <td>24</td>\n",
       "      <td>3263</td>\n",
       "      <td>0.735519</td>\n",
       "    </tr>\n",
       "    <tr>\n",
       "      <th>10</th>\n",
       "      <td>Donald Trump</td>\n",
       "      <td>Bernie Sanders</td>\n",
       "      <td>NEU</td>\n",
       "      <td>11</td>\n",
       "      <td>3263</td>\n",
       "      <td>0.337113</td>\n",
       "    </tr>\n",
       "    <tr>\n",
       "      <th>11</th>\n",
       "      <td>Donald Trump</td>\n",
       "      <td>Bernie Sanders</td>\n",
       "      <td>POS</td>\n",
       "      <td>12</td>\n",
       "      <td>3263</td>\n",
       "      <td>0.367760</td>\n",
       "    </tr>\n",
       "    <tr>\n",
       "      <th>12</th>\n",
       "      <td>Donald Trump</td>\n",
       "      <td>Donald Trump</td>\n",
       "      <td>NEG</td>\n",
       "      <td>1064</td>\n",
       "      <td>3263</td>\n",
       "      <td>32.608029</td>\n",
       "    </tr>\n",
       "    <tr>\n",
       "      <th>13</th>\n",
       "      <td>Donald Trump</td>\n",
       "      <td>Donald Trump</td>\n",
       "      <td>NEU</td>\n",
       "      <td>422</td>\n",
       "      <td>3263</td>\n",
       "      <td>12.932884</td>\n",
       "    </tr>\n",
       "    <tr>\n",
       "      <th>14</th>\n",
       "      <td>Donald Trump</td>\n",
       "      <td>Donald Trump</td>\n",
       "      <td>POS</td>\n",
       "      <td>1465</td>\n",
       "      <td>3263</td>\n",
       "      <td>44.897334</td>\n",
       "    </tr>\n",
       "    <tr>\n",
       "      <th>15</th>\n",
       "      <td>Donald Trump</td>\n",
       "      <td>Hillary Clinton</td>\n",
       "      <td>NEG</td>\n",
       "      <td>120</td>\n",
       "      <td>3263</td>\n",
       "      <td>3.677597</td>\n",
       "    </tr>\n",
       "    <tr>\n",
       "      <th>16</th>\n",
       "      <td>Donald Trump</td>\n",
       "      <td>Hillary Clinton</td>\n",
       "      <td>NEU</td>\n",
       "      <td>55</td>\n",
       "      <td>3263</td>\n",
       "      <td>1.685565</td>\n",
       "    </tr>\n",
       "    <tr>\n",
       "      <th>17</th>\n",
       "      <td>Donald Trump</td>\n",
       "      <td>Hillary Clinton</td>\n",
       "      <td>POS</td>\n",
       "      <td>90</td>\n",
       "      <td>3263</td>\n",
       "      <td>2.758198</td>\n",
       "    </tr>\n",
       "    <tr>\n",
       "      <th>18</th>\n",
       "      <td>Hillary Clinton</td>\n",
       "      <td>Bernie Sanders</td>\n",
       "      <td>NEG</td>\n",
       "      <td>18</td>\n",
       "      <td>1682</td>\n",
       "      <td>1.070155</td>\n",
       "    </tr>\n",
       "    <tr>\n",
       "      <th>19</th>\n",
       "      <td>Hillary Clinton</td>\n",
       "      <td>Bernie Sanders</td>\n",
       "      <td>NEU</td>\n",
       "      <td>12</td>\n",
       "      <td>1682</td>\n",
       "      <td>0.713436</td>\n",
       "    </tr>\n",
       "    <tr>\n",
       "      <th>20</th>\n",
       "      <td>Hillary Clinton</td>\n",
       "      <td>Bernie Sanders</td>\n",
       "      <td>POS</td>\n",
       "      <td>24</td>\n",
       "      <td>1682</td>\n",
       "      <td>1.426873</td>\n",
       "    </tr>\n",
       "    <tr>\n",
       "      <th>21</th>\n",
       "      <td>Hillary Clinton</td>\n",
       "      <td>Donald Trump</td>\n",
       "      <td>NEG</td>\n",
       "      <td>109</td>\n",
       "      <td>1682</td>\n",
       "      <td>6.480380</td>\n",
       "    </tr>\n",
       "    <tr>\n",
       "      <th>22</th>\n",
       "      <td>Hillary Clinton</td>\n",
       "      <td>Donald Trump</td>\n",
       "      <td>NEU</td>\n",
       "      <td>86</td>\n",
       "      <td>1682</td>\n",
       "      <td>5.112961</td>\n",
       "    </tr>\n",
       "    <tr>\n",
       "      <th>23</th>\n",
       "      <td>Hillary Clinton</td>\n",
       "      <td>Donald Trump</td>\n",
       "      <td>POS</td>\n",
       "      <td>66</td>\n",
       "      <td>1682</td>\n",
       "      <td>3.923900</td>\n",
       "    </tr>\n",
       "    <tr>\n",
       "      <th>24</th>\n",
       "      <td>Hillary Clinton</td>\n",
       "      <td>Hillary Clinton</td>\n",
       "      <td>NEG</td>\n",
       "      <td>332</td>\n",
       "      <td>1682</td>\n",
       "      <td>19.738407</td>\n",
       "    </tr>\n",
       "    <tr>\n",
       "      <th>25</th>\n",
       "      <td>Hillary Clinton</td>\n",
       "      <td>Hillary Clinton</td>\n",
       "      <td>NEU</td>\n",
       "      <td>427</td>\n",
       "      <td>1682</td>\n",
       "      <td>25.386445</td>\n",
       "    </tr>\n",
       "    <tr>\n",
       "      <th>26</th>\n",
       "      <td>Hillary Clinton</td>\n",
       "      <td>Hillary Clinton</td>\n",
       "      <td>POS</td>\n",
       "      <td>608</td>\n",
       "      <td>1682</td>\n",
       "      <td>36.147444</td>\n",
       "    </tr>\n",
       "  </tbody>\n",
       "</table>\n",
       "</div>"
      ],
      "text/plain": [
       "                  0                1    2  sum_x  sum_y    percent\n",
       "0    Bernie Sanders   Bernie Sanders  NEG    748   2148  34.823091\n",
       "1    Bernie Sanders   Bernie Sanders  NEU    463   2148  21.554935\n",
       "2    Bernie Sanders   Bernie Sanders  POS    621   2148  28.910615\n",
       "3    Bernie Sanders     Donald Trump  NEG     34   2148   1.582868\n",
       "4    Bernie Sanders     Donald Trump  NEU     23   2148   1.070764\n",
       "5    Bernie Sanders     Donald Trump  POS     39   2148   1.815642\n",
       "6    Bernie Sanders  Hillary Clinton  NEG     86   2148   4.003724\n",
       "7    Bernie Sanders  Hillary Clinton  NEU     56   2148   2.607076\n",
       "8    Bernie Sanders  Hillary Clinton  POS     78   2148   3.631285\n",
       "9      Donald Trump   Bernie Sanders  NEG     24   3263   0.735519\n",
       "10     Donald Trump   Bernie Sanders  NEU     11   3263   0.337113\n",
       "11     Donald Trump   Bernie Sanders  POS     12   3263   0.367760\n",
       "12     Donald Trump     Donald Trump  NEG   1064   3263  32.608029\n",
       "13     Donald Trump     Donald Trump  NEU    422   3263  12.932884\n",
       "14     Donald Trump     Donald Trump  POS   1465   3263  44.897334\n",
       "15     Donald Trump  Hillary Clinton  NEG    120   3263   3.677597\n",
       "16     Donald Trump  Hillary Clinton  NEU     55   3263   1.685565\n",
       "17     Donald Trump  Hillary Clinton  POS     90   3263   2.758198\n",
       "18  Hillary Clinton   Bernie Sanders  NEG     18   1682   1.070155\n",
       "19  Hillary Clinton   Bernie Sanders  NEU     12   1682   0.713436\n",
       "20  Hillary Clinton   Bernie Sanders  POS     24   1682   1.426873\n",
       "21  Hillary Clinton     Donald Trump  NEG    109   1682   6.480380\n",
       "22  Hillary Clinton     Donald Trump  NEU     86   1682   5.112961\n",
       "23  Hillary Clinton     Donald Trump  POS     66   1682   3.923900\n",
       "24  Hillary Clinton  Hillary Clinton  NEG    332   1682  19.738407\n",
       "25  Hillary Clinton  Hillary Clinton  NEU    427   1682  25.386445\n",
       "26  Hillary Clinton  Hillary Clinton  POS    608   1682  36.147444"
      ]
     },
     "execution_count": 64,
     "metadata": {},
     "output_type": "execute_result"
    }
   ],
   "source": [
    "candidatesGrouped"
   ]
  },
  {
   "cell_type": "code",
   "execution_count": 70,
   "metadata": {
    "collapsed": false
   },
   "outputs": [
    {
     "data": {
      "text/html": [
       "<div>\n",
       "<table border=\"1\" class=\"dataframe\">\n",
       "  <thead>\n",
       "    <tr style=\"text-align: right;\">\n",
       "      <th></th>\n",
       "      <th>Unnamed: 0.1</th>\n",
       "      <th>id</th>\n",
       "      <th>verb</th>\n",
       "      <th>postedTime</th>\n",
       "      <th>link</th>\n",
       "      <th>body</th>\n",
       "      <th>favoritesCount</th>\n",
       "      <th>twitter_filter_level</th>\n",
       "      <th>twitter_lang</th>\n",
       "      <th>retweetCount</th>\n",
       "      <th>...</th>\n",
       "      <th>region</th>\n",
       "      <th>subRegion</th>\n",
       "      <th>profileLocations.0.displayName</th>\n",
       "      <th>entities</th>\n",
       "      <th>sentiment</th>\n",
       "      <th>noun_phrases</th>\n",
       "      <th>mean_sentiment</th>\n",
       "      <th>postedTime_datetime</th>\n",
       "      <th>day</th>\n",
       "      <th>week</th>\n",
       "    </tr>\n",
       "  </thead>\n",
       "  <tbody>\n",
       "    <tr>\n",
       "      <th>0</th>\n",
       "      <td>1</td>\n",
       "      <td>6.066044e+17</td>\n",
       "      <td>post</td>\n",
       "      <td>2015-06-04T23:32:23.000Z</td>\n",
       "      <td>http://twitter.com/SenTedCruz/statuses/6066044...</td>\n",
       "      <td>ICYMI: Sen. Cruz: Obama Administration Demonst...</td>\n",
       "      <td>156</td>\n",
       "      <td>low</td>\n",
       "      <td>en</td>\n",
       "      <td>248</td>\n",
       "      <td>...</td>\n",
       "      <td>NaN</td>\n",
       "      <td>NaN</td>\n",
       "      <td>NaN</td>\n",
       "      <td>&lt;itertools.chain object at 0x7f1bb54fa610&gt;</td>\n",
       "      <td>[0.0]</td>\n",
       "      <td>[u'icymi', u'cruz', u'obama', u'demonstrates',...</td>\n",
       "      <td>0.000000</td>\n",
       "      <td>2015-06-04 23:32:23</td>\n",
       "      <td>2015-06-04</td>\n",
       "      <td>23</td>\n",
       "    </tr>\n",
       "    <tr>\n",
       "      <th>1</th>\n",
       "      <td>2</td>\n",
       "      <td>6.065978e+17</td>\n",
       "      <td>post</td>\n",
       "      <td>2015-06-04T23:06:04.000Z</td>\n",
       "      <td>http://twitter.com/tedcruz/statuses/6065978179...</td>\n",
       "      <td>I think what Republican primary voters are loo...</td>\n",
       "      <td>159</td>\n",
       "      <td>low</td>\n",
       "      <td>en</td>\n",
       "      <td>164</td>\n",
       "      <td>...</td>\n",
       "      <td>NaN</td>\n",
       "      <td>NaN</td>\n",
       "      <td>NaN</td>\n",
       "      <td>&lt;itertools.chain object at 0x7f1bb54faa90&gt;</td>\n",
       "      <td>[0.4, 0.0]</td>\n",
       "      <td>[u'republican', u'primary voters', u'//t.co/tw...</td>\n",
       "      <td>0.200000</td>\n",
       "      <td>2015-06-04 23:06:04</td>\n",
       "      <td>2015-06-04</td>\n",
       "      <td>23</td>\n",
       "    </tr>\n",
       "    <tr>\n",
       "      <th>2</th>\n",
       "      <td>3</td>\n",
       "      <td>6.065932e+17</td>\n",
       "      <td>post</td>\n",
       "      <td>2015-06-04T22:47:32.000Z</td>\n",
       "      <td>http://twitter.com/realDonaldTrump/statuses/60...</td>\n",
       "      <td>With great patriots in Mason City who also wan...</td>\n",
       "      <td>174</td>\n",
       "      <td>low</td>\n",
       "      <td>en</td>\n",
       "      <td>81</td>\n",
       "      <td>...</td>\n",
       "      <td>NaN</td>\n",
       "      <td>NaN</td>\n",
       "      <td>NaN</td>\n",
       "      <td>&lt;itertools.chain object at 0x7f1bb54faed0&gt;</td>\n",
       "      <td>[0.26666666666666666, 1.0, 0.0]</td>\n",
       "      <td>[u'great patriots', u'mason', u'dream', u'amer...</td>\n",
       "      <td>0.422222</td>\n",
       "      <td>2015-06-04 22:47:32</td>\n",
       "      <td>2015-06-04</td>\n",
       "      <td>23</td>\n",
       "    </tr>\n",
       "    <tr>\n",
       "      <th>3</th>\n",
       "      <td>4</td>\n",
       "      <td>6.065923e+17</td>\n",
       "      <td>post</td>\n",
       "      <td>2015-06-04T22:44:17.000Z</td>\n",
       "      <td>http://twitter.com/realDonaldTrump/statuses/60...</td>\n",
       "      <td>Standing ovation after promising to bring the ...</td>\n",
       "      <td>95</td>\n",
       "      <td>low</td>\n",
       "      <td>en</td>\n",
       "      <td>41</td>\n",
       "      <td>...</td>\n",
       "      <td>NaN</td>\n",
       "      <td>NaN</td>\n",
       "      <td>NaN</td>\n",
       "      <td>&lt;itertools.chain object at 0x7f1bb54fafd0&gt;</td>\n",
       "      <td>[0.20625, 0.0]</td>\n",
       "      <td>[u'standing', u'dream']</td>\n",
       "      <td>0.103125</td>\n",
       "      <td>2015-06-04 22:44:17</td>\n",
       "      <td>2015-06-04</td>\n",
       "      <td>23</td>\n",
       "    </tr>\n",
       "    <tr>\n",
       "      <th>4</th>\n",
       "      <td>5</td>\n",
       "      <td>6.065916e+17</td>\n",
       "      <td>post</td>\n",
       "      <td>2015-06-04T22:41:33.000Z</td>\n",
       "      <td>http://twitter.com/HillaryClinton/statuses/606...</td>\n",
       "      <td>✔️ Automatic registration✔️ More early voting✔...</td>\n",
       "      <td>922</td>\n",
       "      <td>low</td>\n",
       "      <td>en</td>\n",
       "      <td>677</td>\n",
       "      <td>...</td>\n",
       "      <td>NaN</td>\n",
       "      <td>NaN</td>\n",
       "      <td>NaN</td>\n",
       "      <td>&lt;itertools.chain object at 0x7f1bb7e28bd0&gt;</td>\n",
       "      <td>[0.3]</td>\n",
       "      <td>[u'automatic', u'early voting\\u2714\\ufe0f', u'...</td>\n",
       "      <td>0.300000</td>\n",
       "      <td>2015-06-04 22:41:33</td>\n",
       "      <td>2015-06-04</td>\n",
       "      <td>23</td>\n",
       "    </tr>\n",
       "    <tr>\n",
       "      <th>5</th>\n",
       "      <td>6</td>\n",
       "      <td>6.065902e+17</td>\n",
       "      <td>post</td>\n",
       "      <td>2015-06-04T22:35:37.000Z</td>\n",
       "      <td>http://twitter.com/JohnKasich/statuses/6065901...</td>\n",
       "      <td>.@mattmayberrynh I really enjoy the scene in N...</td>\n",
       "      <td>6</td>\n",
       "      <td>low</td>\n",
       "      <td>en</td>\n",
       "      <td>1</td>\n",
       "      <td>...</td>\n",
       "      <td>NaN</td>\n",
       "      <td>NaN</td>\n",
       "      <td>NaN</td>\n",
       "      <td>&lt;itertools.chain object at 0x7f1bb7e28c50&gt;</td>\n",
       "      <td>[0.0, 0.4, 0.8, 0.0]</td>\n",
       "      <td>[u'@ mattmayberrynh', u'nh', u'thx', u'@ renee...</td>\n",
       "      <td>0.300000</td>\n",
       "      <td>2015-06-04 22:35:37</td>\n",
       "      <td>2015-06-04</td>\n",
       "      <td>23</td>\n",
       "    </tr>\n",
       "    <tr>\n",
       "      <th>6</th>\n",
       "      <td>7</td>\n",
       "      <td>6.065894e+17</td>\n",
       "      <td>post</td>\n",
       "      <td>2015-06-04T22:32:26.000Z</td>\n",
       "      <td>http://twitter.com/JohnKasich/statuses/6065893...</td>\n",
       "      <td>I knew I liked this guy! Go @cavs. #ALLinCLEPh...</td>\n",
       "      <td>233</td>\n",
       "      <td>low</td>\n",
       "      <td>en</td>\n",
       "      <td>280</td>\n",
       "      <td>...</td>\n",
       "      <td>NaN</td>\n",
       "      <td>NaN</td>\n",
       "      <td>NaN</td>\n",
       "      <td>&lt;itertools.chain object at 0x7f1bb7e284d0&gt;</td>\n",
       "      <td>[0.75, 0.0, 0.0]</td>\n",
       "      <td>[u'@ cavs', u'allinclephoto cred', u'@ cre8ive...</td>\n",
       "      <td>0.250000</td>\n",
       "      <td>2015-06-04 22:32:26</td>\n",
       "      <td>2015-06-04</td>\n",
       "      <td>23</td>\n",
       "    </tr>\n",
       "    <tr>\n",
       "      <th>7</th>\n",
       "      <td>8</td>\n",
       "      <td>6.065884e+17</td>\n",
       "      <td>post</td>\n",
       "      <td>2015-06-04T22:28:37.000Z</td>\n",
       "      <td>http://twitter.com/realDonaldTrump/statuses/60...</td>\n",
       "      <td>Standing room only in Mason City, Iowa! Thanks...</td>\n",
       "      <td>67</td>\n",
       "      <td>low</td>\n",
       "      <td>en</td>\n",
       "      <td>31</td>\n",
       "      <td>...</td>\n",
       "      <td>NaN</td>\n",
       "      <td>NaN</td>\n",
       "      <td>NaN</td>\n",
       "      <td>&lt;itertools.chain object at 0x7f1bb7e28990&gt;</td>\n",
       "      <td>[0.0, 0.25, 0.0]</td>\n",
       "      <td>[u'standing', u'mason', u'iowa', u'thanks', u'...</td>\n",
       "      <td>0.083333</td>\n",
       "      <td>2015-06-04 22:28:37</td>\n",
       "      <td>2015-06-04</td>\n",
       "      <td>23</td>\n",
       "    </tr>\n",
       "    <tr>\n",
       "      <th>8</th>\n",
       "      <td>9</td>\n",
       "      <td>6.065825e+17</td>\n",
       "      <td>post</td>\n",
       "      <td>2015-06-04T22:05:05.000Z</td>\n",
       "      <td>http://twitter.com/tedcruz/statuses/6065824722...</td>\n",
       "      <td>Primary voters are looking for someone who wil...</td>\n",
       "      <td>143</td>\n",
       "      <td>low</td>\n",
       "      <td>en</td>\n",
       "      <td>155</td>\n",
       "      <td>...</td>\n",
       "      <td>NaN</td>\n",
       "      <td>NaN</td>\n",
       "      <td>NaN</td>\n",
       "      <td>&lt;itertools.chain object at 0x7f1bb54fa2d0&gt;</td>\n",
       "      <td>[0.4]</td>\n",
       "      <td>[u'primary', u'conservative principles']</td>\n",
       "      <td>0.400000</td>\n",
       "      <td>2015-06-04 22:05:05</td>\n",
       "      <td>2015-06-04</td>\n",
       "      <td>23</td>\n",
       "    </tr>\n",
       "    <tr>\n",
       "      <th>9</th>\n",
       "      <td>10</td>\n",
       "      <td>6.065795e+17</td>\n",
       "      <td>post</td>\n",
       "      <td>2015-06-04T21:53:05.000Z</td>\n",
       "      <td>http://twitter.com/BernieSanders/statuses/6065...</td>\n",
       "      <td>This great nation and its government belong to...</td>\n",
       "      <td>519</td>\n",
       "      <td>low</td>\n",
       "      <td>en</td>\n",
       "      <td>478</td>\n",
       "      <td>...</td>\n",
       "      <td>NaN</td>\n",
       "      <td>NaN</td>\n",
       "      <td>NaN</td>\n",
       "      <td>&lt;itertools.chain object at 0x7f1bb54fad90&gt;</td>\n",
       "      <td>[0.8]</td>\n",
       "      <td>[u'great nation', u'super-pacs']</td>\n",
       "      <td>0.800000</td>\n",
       "      <td>2015-06-04 21:53:05</td>\n",
       "      <td>2015-06-04</td>\n",
       "      <td>23</td>\n",
       "    </tr>\n",
       "    <tr>\n",
       "      <th>10</th>\n",
       "      <td>11</td>\n",
       "      <td>6.065727e+17</td>\n",
       "      <td>post</td>\n",
       "      <td>2015-06-04T21:26:09.000Z</td>\n",
       "      <td>http://twitter.com/BernieSanders/statuses/6065...</td>\n",
       "      <td>@spencertweedy We apologize for the inconvenie...</td>\n",
       "      <td>15</td>\n",
       "      <td>low</td>\n",
       "      <td>en</td>\n",
       "      <td>8</td>\n",
       "      <td>...</td>\n",
       "      <td>NaN</td>\n",
       "      <td>NaN</td>\n",
       "      <td>NaN</td>\n",
       "      <td>&lt;itertools.chain object at 0x7f1bb54fa350&gt;</td>\n",
       "      <td>[0.0, 0.16, 0.0]</td>\n",
       "      <td>[u'@ spencertweedy']</td>\n",
       "      <td>0.053333</td>\n",
       "      <td>2015-06-04 21:26:09</td>\n",
       "      <td>2015-06-04</td>\n",
       "      <td>23</td>\n",
       "    </tr>\n",
       "    <tr>\n",
       "      <th>11</th>\n",
       "      <td>12</td>\n",
       "      <td>6.065652e+17</td>\n",
       "      <td>share</td>\n",
       "      <td>2015-06-04T20:56:37.000Z</td>\n",
       "      <td>http://twitter.com/BernieSanders/statuses/6065...</td>\n",
       "      <td>RT @daveweigel: Bernie Sanders pitches $5.5 bi...</td>\n",
       "      <td>0</td>\n",
       "      <td>low</td>\n",
       "      <td>en</td>\n",
       "      <td>106</td>\n",
       "      <td>...</td>\n",
       "      <td>NaN</td>\n",
       "      <td>NaN</td>\n",
       "      <td>NaN</td>\n",
       "      <td>&lt;itertools.chain object at 0x7f1bb7e28150&gt;</td>\n",
       "      <td>[0.0]</td>\n",
       "      <td>[u'rt', u'@ daveweigel', u'bernie sanders', u'...</td>\n",
       "      <td>0.000000</td>\n",
       "      <td>2015-06-04 20:56:37</td>\n",
       "      <td>2015-06-04</td>\n",
       "      <td>23</td>\n",
       "    </tr>\n",
       "    <tr>\n",
       "      <th>12</th>\n",
       "      <td>13</td>\n",
       "      <td>6.065607e+17</td>\n",
       "      <td>post</td>\n",
       "      <td>2015-06-04T20:38:28.000Z</td>\n",
       "      <td>http://twitter.com/HillaryClinton/statuses/606...</td>\n",
       "      <td>Sign on if you agree with Hillary: We should m...</td>\n",
       "      <td>948</td>\n",
       "      <td>low</td>\n",
       "      <td>en</td>\n",
       "      <td>776</td>\n",
       "      <td>...</td>\n",
       "      <td>NaN</td>\n",
       "      <td>NaN</td>\n",
       "      <td>NaN</td>\n",
       "      <td>&lt;itertools.chain object at 0x7f1bb7e28210&gt;</td>\n",
       "      <td>[0.05]</td>\n",
       "      <td>[u'sign', u'hillary', u'\\u2192 http', u'//t.co...</td>\n",
       "      <td>0.050000</td>\n",
       "      <td>2015-06-04 20:38:28</td>\n",
       "      <td>2015-06-04</td>\n",
       "      <td>23</td>\n",
       "    </tr>\n",
       "    <tr>\n",
       "      <th>13</th>\n",
       "      <td>14</td>\n",
       "      <td>6.065604e+17</td>\n",
       "      <td>post</td>\n",
       "      <td>2015-06-04T20:37:27.000Z</td>\n",
       "      <td>http://twitter.com/HillaryClinton/statuses/606...</td>\n",
       "      <td>\"Today we refuse...to allow our country and th...</td>\n",
       "      <td>568</td>\n",
       "      <td>low</td>\n",
       "      <td>en</td>\n",
       "      <td>290</td>\n",
       "      <td>...</td>\n",
       "      <td>NaN</td>\n",
       "      <td>NaN</td>\n",
       "      <td>NaN</td>\n",
       "      <td>&lt;itertools.chain object at 0x7f1bb7e287d0&gt;</td>\n",
       "      <td>[0.2875]</td>\n",
       "      <td>[u'refuse ...', u'america\\u2019s', u'long marc...</td>\n",
       "      <td>0.287500</td>\n",
       "      <td>2015-06-04 20:37:27</td>\n",
       "      <td>2015-06-04</td>\n",
       "      <td>23</td>\n",
       "    </tr>\n",
       "    <tr>\n",
       "      <th>14</th>\n",
       "      <td>15</td>\n",
       "      <td>6.065603e+17</td>\n",
       "      <td>share</td>\n",
       "      <td>2015-06-04T20:37:02.000Z</td>\n",
       "      <td>http://twitter.com/realDonaldTrump/statuses/60...</td>\n",
       "      <td>RT @NJPGA: Thank you to our host @realDonaldTr...</td>\n",
       "      <td>0</td>\n",
       "      <td>low</td>\n",
       "      <td>en</td>\n",
       "      <td>11</td>\n",
       "      <td>...</td>\n",
       "      <td>NaN</td>\n",
       "      <td>NaN</td>\n",
       "      <td>NaN</td>\n",
       "      <td>&lt;itertools.chain object at 0x7f1bb7e28e50&gt;</td>\n",
       "      <td>[0.45]</td>\n",
       "      <td>[u'rt', u'njpga', u'thank', u'host @ realdonal...</td>\n",
       "      <td>0.450000</td>\n",
       "      <td>2015-06-04 20:37:02</td>\n",
       "      <td>2015-06-04</td>\n",
       "      <td>23</td>\n",
       "    </tr>\n",
       "    <tr>\n",
       "      <th>15</th>\n",
       "      <td>16</td>\n",
       "      <td>6.065598e+17</td>\n",
       "      <td>post</td>\n",
       "      <td>2015-06-04T20:35:06.000Z</td>\n",
       "      <td>http://twitter.com/HillaryClinton/statuses/606...</td>\n",
       "      <td>\"We need a Supreme Court who cares more about ...</td>\n",
       "      <td>1212</td>\n",
       "      <td>low</td>\n",
       "      <td>en</td>\n",
       "      <td>916</td>\n",
       "      <td>...</td>\n",
       "      <td>NaN</td>\n",
       "      <td>NaN</td>\n",
       "      <td>NaN</td>\n",
       "      <td>&lt;itertools.chain object at 0x7f1bb7e28550&gt;</td>\n",
       "      <td>[0.35714285714285715]</td>\n",
       "      <td>[u'supreme court']</td>\n",
       "      <td>0.357143</td>\n",
       "      <td>2015-06-04 20:35:06</td>\n",
       "      <td>2015-06-04</td>\n",
       "      <td>23</td>\n",
       "    </tr>\n",
       "    <tr>\n",
       "      <th>16</th>\n",
       "      <td>17</td>\n",
       "      <td>6.065594e+17</td>\n",
       "      <td>post</td>\n",
       "      <td>2015-06-04T20:33:15.000Z</td>\n",
       "      <td>http://twitter.com/HillaryClinton/statuses/606...</td>\n",
       "      <td>\"All of these reforms...are commonsense ways t...</td>\n",
       "      <td>384</td>\n",
       "      <td>low</td>\n",
       "      <td>en</td>\n",
       "      <td>189</td>\n",
       "      <td>...</td>\n",
       "      <td>NaN</td>\n",
       "      <td>NaN</td>\n",
       "      <td>NaN</td>\n",
       "      <td>&lt;itertools.chain object at 0x7f1bb7e28790&gt;</td>\n",
       "      <td>[0.43333333333333335, 0.0]</td>\n",
       "      <td>[u'reforms ...', u'commonsense ways', u'it\\u20...</td>\n",
       "      <td>0.216667</td>\n",
       "      <td>2015-06-04 20:33:15</td>\n",
       "      <td>2015-06-04</td>\n",
       "      <td>23</td>\n",
       "    </tr>\n",
       "    <tr>\n",
       "      <th>17</th>\n",
       "      <td>18</td>\n",
       "      <td>6.065592e+17</td>\n",
       "      <td>post</td>\n",
       "      <td>2015-06-04T20:32:27.000Z</td>\n",
       "      <td>http://twitter.com/HillaryClinton/statuses/606...</td>\n",
       "      <td>\"If you're an eligible voter and want to be re...</td>\n",
       "      <td>704</td>\n",
       "      <td>low</td>\n",
       "      <td>en</td>\n",
       "      <td>427</td>\n",
       "      <td>...</td>\n",
       "      <td>NaN</td>\n",
       "      <td>NaN</td>\n",
       "      <td>NaN</td>\n",
       "      <td>&lt;itertools.chain object at 0x7f1bb501c5d0&gt;</td>\n",
       "      <td>[0.0]</td>\n",
       "      <td>[u'eligible voter']</td>\n",
       "      <td>0.000000</td>\n",
       "      <td>2015-06-04 20:32:27</td>\n",
       "      <td>2015-06-04</td>\n",
       "      <td>23</td>\n",
       "    </tr>\n",
       "    <tr>\n",
       "      <th>18</th>\n",
       "      <td>19</td>\n",
       "      <td>6.065591e+17</td>\n",
       "      <td>post</td>\n",
       "      <td>2015-06-04T20:32:18.000Z</td>\n",
       "      <td>http://twitter.com/HillaryClinton/statuses/606...</td>\n",
       "      <td>RT if you agree: We should make it as easy as ...</td>\n",
       "      <td>1234</td>\n",
       "      <td>low</td>\n",
       "      <td>en</td>\n",
       "      <td>1357</td>\n",
       "      <td>...</td>\n",
       "      <td>NaN</td>\n",
       "      <td>NaN</td>\n",
       "      <td>NaN</td>\n",
       "      <td>&lt;itertools.chain object at 0x7f1bb7e28c90&gt;</td>\n",
       "      <td>[0.14444444444444446, 0.0]</td>\n",
       "      <td>[u'rt', u'american citizen']</td>\n",
       "      <td>0.072222</td>\n",
       "      <td>2015-06-04 20:32:18</td>\n",
       "      <td>2015-06-04</td>\n",
       "      <td>23</td>\n",
       "    </tr>\n",
       "    <tr>\n",
       "      <th>19</th>\n",
       "      <td>20</td>\n",
       "      <td>6.065590e+17</td>\n",
       "      <td>post</td>\n",
       "      <td>2015-06-04T20:31:47.000Z</td>\n",
       "      <td>http://twitter.com/HillaryClinton/statuses/606...</td>\n",
       "      <td>Hillary calls for automatic voter registration...</td>\n",
       "      <td>2255</td>\n",
       "      <td>low</td>\n",
       "      <td>en</td>\n",
       "      <td>1711</td>\n",
       "      <td>...</td>\n",
       "      <td>NaN</td>\n",
       "      <td>NaN</td>\n",
       "      <td>NaN</td>\n",
       "      <td>&lt;itertools.chain object at 0x7f1bb7e28a90&gt;</td>\n",
       "      <td>[0.0, 0.0]</td>\n",
       "      <td>[u'hillary', u'automatic voter registration\\u2...</td>\n",
       "      <td>0.000000</td>\n",
       "      <td>2015-06-04 20:31:47</td>\n",
       "      <td>2015-06-04</td>\n",
       "      <td>23</td>\n",
       "    </tr>\n",
       "    <tr>\n",
       "      <th>20</th>\n",
       "      <td>21</td>\n",
       "      <td>6.065589e+17</td>\n",
       "      <td>share</td>\n",
       "      <td>2015-06-04T20:31:16.000Z</td>\n",
       "      <td>http://twitter.com/tedcruz/statuses/6065588600...</td>\n",
       "      <td>RT @TeamCavuto: The 2016 campaign trail contin...</td>\n",
       "      <td>0</td>\n",
       "      <td>low</td>\n",
       "      <td>en</td>\n",
       "      <td>37</td>\n",
       "      <td>...</td>\n",
       "      <td>NaN</td>\n",
       "      <td>NaN</td>\n",
       "      <td>NaN</td>\n",
       "      <td>&lt;itertools.chain object at 0x7f1bb7e28950&gt;</td>\n",
       "      <td>[0.0, 0.0, 0.0]</td>\n",
       "      <td>[u'rt', u'teamcavuto', u'campaign trail', u'yo...</td>\n",
       "      <td>0.000000</td>\n",
       "      <td>2015-06-04 20:31:16</td>\n",
       "      <td>2015-06-04</td>\n",
       "      <td>23</td>\n",
       "    </tr>\n",
       "    <tr>\n",
       "      <th>21</th>\n",
       "      <td>22</td>\n",
       "      <td>6.065587e+17</td>\n",
       "      <td>post</td>\n",
       "      <td>2015-06-04T20:30:40.000Z</td>\n",
       "      <td>http://twitter.com/HillaryClinton/statuses/606...</td>\n",
       "      <td>\"Early in-person voting will reduce those long...</td>\n",
       "      <td>426</td>\n",
       "      <td>low</td>\n",
       "      <td>en</td>\n",
       "      <td>230</td>\n",
       "      <td>...</td>\n",
       "      <td>NaN</td>\n",
       "      <td>NaN</td>\n",
       "      <td>NaN</td>\n",
       "      <td>&lt;itertools.chain object at 0x7f1bb7e28710&gt;</td>\n",
       "      <td>[0.18333333333333335]</td>\n",
       "      <td>[u'early', u'long lines']</td>\n",
       "      <td>0.183333</td>\n",
       "      <td>2015-06-04 20:30:40</td>\n",
       "      <td>2015-06-04</td>\n",
       "      <td>23</td>\n",
       "    </tr>\n",
       "    <tr>\n",
       "      <th>22</th>\n",
       "      <td>23</td>\n",
       "      <td>6.065586e+17</td>\n",
       "      <td>post</td>\n",
       "      <td>2015-06-04T20:30:07.000Z</td>\n",
       "      <td>http://twitter.com/HillaryClinton/statuses/606...</td>\n",
       "      <td>\"We should set a standard across our country o...</td>\n",
       "      <td>391</td>\n",
       "      <td>low</td>\n",
       "      <td>en</td>\n",
       "      <td>217</td>\n",
       "      <td>...</td>\n",
       "      <td>NaN</td>\n",
       "      <td>NaN</td>\n",
       "      <td>NaN</td>\n",
       "      <td>&lt;itertools.chain object at 0x7f1bb54fab90&gt;</td>\n",
       "      <td>[-0.06666666666666667]</td>\n",
       "      <td>[u'early in-person']</td>\n",
       "      <td>-0.066667</td>\n",
       "      <td>2015-06-04 20:30:07</td>\n",
       "      <td>2015-06-04</td>\n",
       "      <td>23</td>\n",
       "    </tr>\n",
       "    <tr>\n",
       "      <th>23</th>\n",
       "      <td>24</td>\n",
       "      <td>6.065584e+17</td>\n",
       "      <td>post</td>\n",
       "      <td>2015-06-04T20:29:27.000Z</td>\n",
       "      <td>http://twitter.com/HillaryClinton/statuses/606...</td>\n",
       "      <td>\"We should implement...commonsense reforms, in...</td>\n",
       "      <td>358</td>\n",
       "      <td>low</td>\n",
       "      <td>en</td>\n",
       "      <td>184</td>\n",
       "      <td>...</td>\n",
       "      <td>NaN</td>\n",
       "      <td>NaN</td>\n",
       "      <td>NaN</td>\n",
       "      <td>&lt;itertools.chain object at 0x7f1bb54fa9d0&gt;</td>\n",
       "      <td>[0.1]</td>\n",
       "      <td>[u'... commonsense reforms']</td>\n",
       "      <td>0.100000</td>\n",
       "      <td>2015-06-04 20:29:27</td>\n",
       "      <td>2015-06-04</td>\n",
       "      <td>23</td>\n",
       "    </tr>\n",
       "    <tr>\n",
       "      <th>24</th>\n",
       "      <td>25</td>\n",
       "      <td>6.065581e+17</td>\n",
       "      <td>post</td>\n",
       "      <td>2015-06-04T20:28:19.000Z</td>\n",
       "      <td>http://twitter.com/HillaryClinton/statuses/606...</td>\n",
       "      <td>\"Congress should move quickly...to repair [dam...</td>\n",
       "      <td>421</td>\n",
       "      <td>low</td>\n",
       "      <td>en</td>\n",
       "      <td>271</td>\n",
       "      <td>...</td>\n",
       "      <td>NaN</td>\n",
       "      <td>NaN</td>\n",
       "      <td>NaN</td>\n",
       "      <td>&lt;itertools.chain object at 0x7f1bb501cfd0&gt;</td>\n",
       "      <td>[0.175]</td>\n",
       "      <td>[u'congress', u'repair [ damage', u'voting', u...</td>\n",
       "      <td>0.175000</td>\n",
       "      <td>2015-06-04 20:28:19</td>\n",
       "      <td>2015-06-04</td>\n",
       "      <td>23</td>\n",
       "    </tr>\n",
       "    <tr>\n",
       "      <th>25</th>\n",
       "      <td>26</td>\n",
       "      <td>6.065579e+17</td>\n",
       "      <td>post</td>\n",
       "      <td>2015-06-04T20:27:34.000Z</td>\n",
       "      <td>http://twitter.com/HillaryClinton/statuses/606...</td>\n",
       "      <td>This fight is for all of us. http://t.co/pqH51...</td>\n",
       "      <td>524</td>\n",
       "      <td>low</td>\n",
       "      <td>en</td>\n",
       "      <td>362</td>\n",
       "      <td>...</td>\n",
       "      <td>NaN</td>\n",
       "      <td>NaN</td>\n",
       "      <td>NaN</td>\n",
       "      <td>&lt;itertools.chain object at 0x7f1bb501c550&gt;</td>\n",
       "      <td>[0.0, 0.0]</td>\n",
       "      <td>[]</td>\n",
       "      <td>0.000000</td>\n",
       "      <td>2015-06-04 20:27:34</td>\n",
       "      <td>2015-06-04</td>\n",
       "      <td>23</td>\n",
       "    </tr>\n",
       "    <tr>\n",
       "      <th>26</th>\n",
       "      <td>27</td>\n",
       "      <td>6.065577e+17</td>\n",
       "      <td>post</td>\n",
       "      <td>2015-06-04T20:26:43.000Z</td>\n",
       "      <td>http://twitter.com/HillaryClinton/statuses/606...</td>\n",
       "      <td>Hillary on Republican efforts to make it harde...</td>\n",
       "      <td>647</td>\n",
       "      <td>low</td>\n",
       "      <td>en</td>\n",
       "      <td>539</td>\n",
       "      <td>...</td>\n",
       "      <td>NaN</td>\n",
       "      <td>NaN</td>\n",
       "      <td>NaN</td>\n",
       "      <td>&lt;itertools.chain object at 0x7f1bb501c210&gt;</td>\n",
       "      <td>[-0.05]</td>\n",
       "      <td>[u'hillary', u'republican', u'american citizens']</td>\n",
       "      <td>-0.050000</td>\n",
       "      <td>2015-06-04 20:26:43</td>\n",
       "      <td>2015-06-04</td>\n",
       "      <td>23</td>\n",
       "    </tr>\n",
       "    <tr>\n",
       "      <th>27</th>\n",
       "      <td>28</td>\n",
       "      <td>6.065577e+17</td>\n",
       "      <td>share</td>\n",
       "      <td>2015-06-04T20:26:36.000Z</td>\n",
       "      <td>http://twitter.com/realDonaldTrump/statuses/60...</td>\n",
       "      <td>RT @SDanikKIMT: I sit down with @realDonaldTru...</td>\n",
       "      <td>0</td>\n",
       "      <td>low</td>\n",
       "      <td>en</td>\n",
       "      <td>38</td>\n",
       "      <td>...</td>\n",
       "      <td>NaN</td>\n",
       "      <td>NaN</td>\n",
       "      <td>NaN</td>\n",
       "      <td>&lt;itertools.chain object at 0x7f1bb501cf90&gt;</td>\n",
       "      <td>[-0.07777777777777779]</td>\n",
       "      <td>[u'rt', u'sdanikkimt', u'@ realdonaldtrump', u...</td>\n",
       "      <td>-0.077778</td>\n",
       "      <td>2015-06-04 20:26:36</td>\n",
       "      <td>2015-06-04</td>\n",
       "      <td>23</td>\n",
       "    </tr>\n",
       "    <tr>\n",
       "      <th>28</th>\n",
       "      <td>29</td>\n",
       "      <td>6.065575e+17</td>\n",
       "      <td>post</td>\n",
       "      <td>2015-06-04T20:25:53.000Z</td>\n",
       "      <td>http://twitter.com/HillaryClinton/statuses/606...</td>\n",
       "      <td>“I believe every citizen has the right to vote...</td>\n",
       "      <td>785</td>\n",
       "      <td>low</td>\n",
       "      <td>en</td>\n",
       "      <td>456</td>\n",
       "      <td>...</td>\n",
       "      <td>NaN</td>\n",
       "      <td>NaN</td>\n",
       "      <td>NaN</td>\n",
       "      <td>&lt;itertools.chain object at 0x7f1bb501c590&gt;</td>\n",
       "      <td>[0.2857142857142857]</td>\n",
       "      <td>[u'vote.\\u201d -hillary']</td>\n",
       "      <td>0.285714</td>\n",
       "      <td>2015-06-04 20:25:53</td>\n",
       "      <td>2015-06-04</td>\n",
       "      <td>23</td>\n",
       "    </tr>\n",
       "    <tr>\n",
       "      <th>29</th>\n",
       "      <td>30</td>\n",
       "      <td>6.065573e+17</td>\n",
       "      <td>post</td>\n",
       "      <td>2015-06-04T20:24:58.000Z</td>\n",
       "      <td>http://twitter.com/HillaryClinton/statuses/606...</td>\n",
       "      <td>http://t.co/huecVP3MzK</td>\n",
       "      <td>439</td>\n",
       "      <td>low</td>\n",
       "      <td>und</td>\n",
       "      <td>249</td>\n",
       "      <td>...</td>\n",
       "      <td>NaN</td>\n",
       "      <td>NaN</td>\n",
       "      <td>NaN</td>\n",
       "      <td>&lt;itertools.chain object at 0x7f1bb54faf10&gt;</td>\n",
       "      <td>[0.0]</td>\n",
       "      <td>[]</td>\n",
       "      <td>0.000000</td>\n",
       "      <td>2015-06-04 20:24:58</td>\n",
       "      <td>2015-06-04</td>\n",
       "      <td>23</td>\n",
       "    </tr>\n",
       "    <tr>\n",
       "      <th>...</th>\n",
       "      <td>...</td>\n",
       "      <td>...</td>\n",
       "      <td>...</td>\n",
       "      <td>...</td>\n",
       "      <td>...</td>\n",
       "      <td>...</td>\n",
       "      <td>...</td>\n",
       "      <td>...</td>\n",
       "      <td>...</td>\n",
       "      <td>...</td>\n",
       "      <td>...</td>\n",
       "      <td>...</td>\n",
       "      <td>...</td>\n",
       "      <td>...</td>\n",
       "      <td>...</td>\n",
       "      <td>...</td>\n",
       "      <td>...</td>\n",
       "      <td>...</td>\n",
       "      <td>...</td>\n",
       "      <td>...</td>\n",
       "      <td>...</td>\n",
       "    </tr>\n",
       "    <tr>\n",
       "      <th>31968</th>\n",
       "      <td>31969</td>\n",
       "      <td>7.402475e+17</td>\n",
       "      <td>post</td>\n",
       "      <td>2016-06-07T18:22:03.000Z</td>\n",
       "      <td>http://twitter.com/SenTedCruz/statuses/7402474...</td>\n",
       "      <td>In the face of disaster, in the face of advers...</td>\n",
       "      <td>209</td>\n",
       "      <td>low</td>\n",
       "      <td>en</td>\n",
       "      <td>113</td>\n",
       "      <td>...</td>\n",
       "      <td>NaN</td>\n",
       "      <td>NaN</td>\n",
       "      <td>NaN</td>\n",
       "      <td>&lt;itertools.chain object at 0x7f1c082d5650&gt;</td>\n",
       "      <td>[0.0, 0.0]</td>\n",
       "      <td>[]</td>\n",
       "      <td>0.000000</td>\n",
       "      <td>2016-06-07 18:22:03</td>\n",
       "      <td>2016-06-07</td>\n",
       "      <td>23</td>\n",
       "    </tr>\n",
       "    <tr>\n",
       "      <th>31969</th>\n",
       "      <td>31970</td>\n",
       "      <td>7.402472e+17</td>\n",
       "      <td>post</td>\n",
       "      <td>2016-06-07T18:21:04.000Z</td>\n",
       "      <td>http://twitter.com/SenTedCruz/statuses/7402472...</td>\n",
       "      <td>Over the last few weeks, the resolve of our gr...</td>\n",
       "      <td>133</td>\n",
       "      <td>low</td>\n",
       "      <td>en</td>\n",
       "      <td>88</td>\n",
       "      <td>...</td>\n",
       "      <td>NaN</td>\n",
       "      <td>NaN</td>\n",
       "      <td>NaN</td>\n",
       "      <td>&lt;itertools.chain object at 0x7f1c082d5810&gt;</td>\n",
       "      <td>[0.15000000000000002, 0.0]</td>\n",
       "      <td>[u'great state', u'//t.co/dlvfchnbmr https']</td>\n",
       "      <td>0.075000</td>\n",
       "      <td>2016-06-07 18:21:04</td>\n",
       "      <td>2016-06-07</td>\n",
       "      <td>23</td>\n",
       "    </tr>\n",
       "    <tr>\n",
       "      <th>31970</th>\n",
       "      <td>31971</td>\n",
       "      <td>7.402427e+17</td>\n",
       "      <td>post</td>\n",
       "      <td>2016-06-07T18:03:18.000Z</td>\n",
       "      <td>http://twitter.com/SenTedCruz/statuses/7402427...</td>\n",
       "      <td>The HEAR Act will help ensure that claims for ...</td>\n",
       "      <td>181</td>\n",
       "      <td>low</td>\n",
       "      <td>en</td>\n",
       "      <td>104</td>\n",
       "      <td>...</td>\n",
       "      <td>NaN</td>\n",
       "      <td>NaN</td>\n",
       "      <td>NaN</td>\n",
       "      <td>&lt;itertools.chain object at 0x7f1c082d5990&gt;</td>\n",
       "      <td>[0.0]</td>\n",
       "      <td>[u'hear', u'nazi-looted', u'merits https']</td>\n",
       "      <td>0.000000</td>\n",
       "      <td>2016-06-07 18:03:18</td>\n",
       "      <td>2016-06-07</td>\n",
       "      <td>23</td>\n",
       "    </tr>\n",
       "    <tr>\n",
       "      <th>31971</th>\n",
       "      <td>31972</td>\n",
       "      <td>7.402327e+17</td>\n",
       "      <td>post</td>\n",
       "      <td>2016-06-07T17:23:24.000Z</td>\n",
       "      <td>http://twitter.com/SenTedCruz/statuses/7402327...</td>\n",
       "      <td>Despite the Allies’ restitution efforts, much ...</td>\n",
       "      <td>167</td>\n",
       "      <td>low</td>\n",
       "      <td>en</td>\n",
       "      <td>95</td>\n",
       "      <td>...</td>\n",
       "      <td>NaN</td>\n",
       "      <td>NaN</td>\n",
       "      <td>NaN</td>\n",
       "      <td>&lt;itertools.chain object at 0x7f1c0832acd0&gt;</td>\n",
       "      <td>[0.2]</td>\n",
       "      <td>[u'allies\\u2019', u'restitution efforts', u'ri...</td>\n",
       "      <td>0.200000</td>\n",
       "      <td>2016-06-07 17:23:24</td>\n",
       "      <td>2016-06-07</td>\n",
       "      <td>23</td>\n",
       "    </tr>\n",
       "    <tr>\n",
       "      <th>31972</th>\n",
       "      <td>31973</td>\n",
       "      <td>7.402317e+17</td>\n",
       "      <td>share</td>\n",
       "      <td>2016-06-07T17:19:16.000Z</td>\n",
       "      <td>http://twitter.com/SenTedCruz/statuses/7402316...</td>\n",
       "      <td>RT @cspan: Helen Mirren testifies on Art Confi...</td>\n",
       "      <td>0</td>\n",
       "      <td>low</td>\n",
       "      <td>en</td>\n",
       "      <td>70</td>\n",
       "      <td>...</td>\n",
       "      <td>NaN</td>\n",
       "      <td>NaN</td>\n",
       "      <td>NaN</td>\n",
       "      <td>&lt;itertools.chain object at 0x7f1c082c6390&gt;</td>\n",
       "      <td>[0.13636363636363635]</td>\n",
       "      <td>[u'rt', u'@ cspan', u'helen mirren', u'art con...</td>\n",
       "      <td>0.136364</td>\n",
       "      <td>2016-06-07 17:19:16</td>\n",
       "      <td>2016-06-07</td>\n",
       "      <td>23</td>\n",
       "    </tr>\n",
       "    <tr>\n",
       "      <th>31973</th>\n",
       "      <td>31974</td>\n",
       "      <td>7.402313e+17</td>\n",
       "      <td>post</td>\n",
       "      <td>2016-06-07T17:17:41.000Z</td>\n",
       "      <td>http://twitter.com/SenTedCruz/statuses/7402312...</td>\n",
       "      <td>Today we are here to address what has been des...</td>\n",
       "      <td>203</td>\n",
       "      <td>low</td>\n",
       "      <td>en</td>\n",
       "      <td>114</td>\n",
       "      <td>...</td>\n",
       "      <td>NaN</td>\n",
       "      <td>NaN</td>\n",
       "      <td>NaN</td>\n",
       "      <td>&lt;itertools.chain object at 0x7f1c082d0e10&gt;</td>\n",
       "      <td>[0.5, 0.0]</td>\n",
       "      <td>[u'human history']</td>\n",
       "      <td>0.250000</td>\n",
       "      <td>2016-06-07 17:17:41</td>\n",
       "      <td>2016-06-07</td>\n",
       "      <td>23</td>\n",
       "    </tr>\n",
       "    <tr>\n",
       "      <th>31974</th>\n",
       "      <td>31975</td>\n",
       "      <td>7.402310e+17</td>\n",
       "      <td>post</td>\n",
       "      <td>2016-06-07T17:16:28.000Z</td>\n",
       "      <td>http://twitter.com/SenTedCruz/statuses/7402309...</td>\n",
       "      <td>Sadly, even today—over 70 years later—we are s...</td>\n",
       "      <td>152</td>\n",
       "      <td>low</td>\n",
       "      <td>en</td>\n",
       "      <td>90</td>\n",
       "      <td>...</td>\n",
       "      <td>NaN</td>\n",
       "      <td>NaN</td>\n",
       "      <td>NaN</td>\n",
       "      <td>&lt;itertools.chain object at 0x7f1c082d07d0&gt;</td>\n",
       "      <td>[-0.5, 0.0]</td>\n",
       "      <td>[u'sadly', u'years later\\u2014we', u'holocaust']</td>\n",
       "      <td>-0.250000</td>\n",
       "      <td>2016-06-07 17:16:28</td>\n",
       "      <td>2016-06-07</td>\n",
       "      <td>23</td>\n",
       "    </tr>\n",
       "    <tr>\n",
       "      <th>31975</th>\n",
       "      <td>31976</td>\n",
       "      <td>7.402309e+17</td>\n",
       "      <td>post</td>\n",
       "      <td>2016-06-07T17:16:25.000Z</td>\n",
       "      <td>http://twitter.com/HillaryClinton/statuses/740...</td>\n",
       "      <td>Eight years ago today. https://t.co/ZAHXdKbgHV</td>\n",
       "      <td>8770</td>\n",
       "      <td>low</td>\n",
       "      <td>en</td>\n",
       "      <td>3550</td>\n",
       "      <td>...</td>\n",
       "      <td>NaN</td>\n",
       "      <td>NaN</td>\n",
       "      <td>NaN</td>\n",
       "      <td>&lt;itertools.chain object at 0x7f1c082d5750&gt;</td>\n",
       "      <td>[0.0, 0.0]</td>\n",
       "      <td>[]</td>\n",
       "      <td>0.000000</td>\n",
       "      <td>2016-06-07 17:16:25</td>\n",
       "      <td>2016-06-07</td>\n",
       "      <td>23</td>\n",
       "    </tr>\n",
       "    <tr>\n",
       "      <th>31976</th>\n",
       "      <td>31977</td>\n",
       "      <td>7.402297e+17</td>\n",
       "      <td>post</td>\n",
       "      <td>2016-06-07T17:11:30.000Z</td>\n",
       "      <td>http://twitter.com/SenTedCruz/statuses/7402297...</td>\n",
       "      <td>LIVE: Holocaust Expropriated Art Recovery Act ...</td>\n",
       "      <td>133</td>\n",
       "      <td>low</td>\n",
       "      <td>en</td>\n",
       "      <td>89</td>\n",
       "      <td>...</td>\n",
       "      <td>NaN</td>\n",
       "      <td>NaN</td>\n",
       "      <td>NaN</td>\n",
       "      <td>&lt;itertools.chain object at 0x7f1c082d5690&gt;</td>\n",
       "      <td>[0.13636363636363635]</td>\n",
       "      <td>[u'live', u'holocaust expropriated art', u'rec...</td>\n",
       "      <td>0.136364</td>\n",
       "      <td>2016-06-07 17:11:30</td>\n",
       "      <td>2016-06-07</td>\n",
       "      <td>23</td>\n",
       "    </tr>\n",
       "    <tr>\n",
       "      <th>31977</th>\n",
       "      <td>31978</td>\n",
       "      <td>7.402219e+17</td>\n",
       "      <td>post</td>\n",
       "      <td>2016-06-07T16:40:22.000Z</td>\n",
       "      <td>http://twitter.com/BernieSanders/statuses/7402...</td>\n",
       "      <td>California, Montana, New Jersey, New Mexico, S...</td>\n",
       "      <td>8898</td>\n",
       "      <td>low</td>\n",
       "      <td>en</td>\n",
       "      <td>5928</td>\n",
       "      <td>...</td>\n",
       "      <td>NaN</td>\n",
       "      <td>NaN</td>\n",
       "      <td>NaN</td>\n",
       "      <td>&lt;itertools.chain object at 0x7f1c082d5a90&gt;</td>\n",
       "      <td>[0.15340909090909088, 0.0]</td>\n",
       "      <td>[u'california', u'montana', u'jersey', u'mexic...</td>\n",
       "      <td>0.076705</td>\n",
       "      <td>2016-06-07 16:40:22</td>\n",
       "      <td>2016-06-07</td>\n",
       "      <td>23</td>\n",
       "    </tr>\n",
       "    <tr>\n",
       "      <th>31978</th>\n",
       "      <td>31979</td>\n",
       "      <td>7.402080e+17</td>\n",
       "      <td>post</td>\n",
       "      <td>2016-06-07T15:45:16.000Z</td>\n",
       "      <td>http://twitter.com/SenTedCruz/statuses/7402080...</td>\n",
       "      <td>If @POTUS gives away the #internet, it will im...</td>\n",
       "      <td>297</td>\n",
       "      <td>low</td>\n",
       "      <td>en</td>\n",
       "      <td>291</td>\n",
       "      <td>...</td>\n",
       "      <td>NaN</td>\n",
       "      <td>NaN</td>\n",
       "      <td>NaN</td>\n",
       "      <td>&lt;itertools.chain object at 0x7f1c082d5c90&gt;</td>\n",
       "      <td>[0.0, 0.0]</td>\n",
       "      <td>[u'potus', u'# internet', u'impact speech', u\"...</td>\n",
       "      <td>0.000000</td>\n",
       "      <td>2016-06-07 15:45:16</td>\n",
       "      <td>2016-06-07</td>\n",
       "      <td>23</td>\n",
       "    </tr>\n",
       "    <tr>\n",
       "      <th>31979</th>\n",
       "      <td>31980</td>\n",
       "      <td>7.402069e+17</td>\n",
       "      <td>post</td>\n",
       "      <td>2016-06-07T15:40:59.000Z</td>\n",
       "      <td>http://twitter.com/SenTedCruz/statuses/7402069...</td>\n",
       "      <td>The #NDAA shouldn't be a vehicle to further an...</td>\n",
       "      <td>231</td>\n",
       "      <td>low</td>\n",
       "      <td>en</td>\n",
       "      <td>152</td>\n",
       "      <td>...</td>\n",
       "      <td>NaN</td>\n",
       "      <td>NaN</td>\n",
       "      <td>NaN</td>\n",
       "      <td>&lt;itertools.chain object at 0x7f1c082d5e50&gt;</td>\n",
       "      <td>[0.0, 0.0]</td>\n",
       "      <td>[u'ndaa', u'america']</td>\n",
       "      <td>0.000000</td>\n",
       "      <td>2016-06-07 15:40:59</td>\n",
       "      <td>2016-06-07</td>\n",
       "      <td>23</td>\n",
       "    </tr>\n",
       "    <tr>\n",
       "      <th>31980</th>\n",
       "      <td>31981</td>\n",
       "      <td>7.402066e+17</td>\n",
       "      <td>post</td>\n",
       "      <td>2016-06-07T15:39:52.000Z</td>\n",
       "      <td>http://twitter.com/SenTedCruz/statuses/7402066...</td>\n",
       "      <td>My goal for the #NDAA is simple. Make our mili...</td>\n",
       "      <td>268</td>\n",
       "      <td>low</td>\n",
       "      <td>en</td>\n",
       "      <td>167</td>\n",
       "      <td>...</td>\n",
       "      <td>NaN</td>\n",
       "      <td>NaN</td>\n",
       "      <td>NaN</td>\n",
       "      <td>&lt;itertools.chain object at 0x7f1c082d0350&gt;</td>\n",
       "      <td>[0.0, 0.24444444444444444, 0.0]</td>\n",
       "      <td>[u'ndaa']</td>\n",
       "      <td>0.081481</td>\n",
       "      <td>2016-06-07 15:39:52</td>\n",
       "      <td>2016-06-07</td>\n",
       "      <td>23</td>\n",
       "    </tr>\n",
       "    <tr>\n",
       "      <th>31981</th>\n",
       "      <td>31982</td>\n",
       "      <td>7.402054e+17</td>\n",
       "      <td>share</td>\n",
       "      <td>2016-06-07T15:34:49.000Z</td>\n",
       "      <td>http://twitter.com/tedcruz/statuses/7402053780...</td>\n",
       "      <td>RT @TexasGOP: Live Now: @SenTedCruz on the Sen...</td>\n",
       "      <td>0</td>\n",
       "      <td>low</td>\n",
       "      <td>en</td>\n",
       "      <td>118</td>\n",
       "      <td>...</td>\n",
       "      <td>NaN</td>\n",
       "      <td>NaN</td>\n",
       "      <td>NaN</td>\n",
       "      <td>&lt;itertools.chain object at 0x7f1c0832ce10&gt;</td>\n",
       "      <td>[0.04545454545454545]</td>\n",
       "      <td>[u'rt', u'texasgop', u'live', u'sentedcruz', u...</td>\n",
       "      <td>0.045455</td>\n",
       "      <td>2016-06-07 15:34:49</td>\n",
       "      <td>2016-06-07</td>\n",
       "      <td>23</td>\n",
       "    </tr>\n",
       "    <tr>\n",
       "      <th>31982</th>\n",
       "      <td>31983</td>\n",
       "      <td>7.402047e+17</td>\n",
       "      <td>post</td>\n",
       "      <td>2016-06-07T15:32:03.000Z</td>\n",
       "      <td>http://twitter.com/BernieSanders/statuses/7402...</td>\n",
       "      <td>Pundits and the political press wanna call thi...</td>\n",
       "      <td>9158</td>\n",
       "      <td>low</td>\n",
       "      <td>en</td>\n",
       "      <td>6155</td>\n",
       "      <td>...</td>\n",
       "      <td>NaN</td>\n",
       "      <td>NaN</td>\n",
       "      <td>NaN</td>\n",
       "      <td>&lt;itertools.chain object at 0x7f1c082c6fd0&gt;</td>\n",
       "      <td>[0.05, 0.0, 0.0]</td>\n",
       "      <td>[u'pundits', u'political press wan na', u'pers...</td>\n",
       "      <td>0.016667</td>\n",
       "      <td>2016-06-07 15:32:03</td>\n",
       "      <td>2016-06-07</td>\n",
       "      <td>23</td>\n",
       "    </tr>\n",
       "    <tr>\n",
       "      <th>31983</th>\n",
       "      <td>31984</td>\n",
       "      <td>7.402039e+17</td>\n",
       "      <td>share</td>\n",
       "      <td>2016-06-07T15:28:53.000Z</td>\n",
       "      <td>http://twitter.com/SenTedCruz/statuses/7402038...</td>\n",
       "      <td>RT @cspan: .@SenTedCruz speaks on #NDAA Amendm...</td>\n",
       "      <td>0</td>\n",
       "      <td>low</td>\n",
       "      <td>en</td>\n",
       "      <td>93</td>\n",
       "      <td>...</td>\n",
       "      <td>NaN</td>\n",
       "      <td>NaN</td>\n",
       "      <td>NaN</td>\n",
       "      <td>&lt;itertools.chain object at 0x7f1c082d5cd0&gt;</td>\n",
       "      <td>[0.0, 0.13636363636363635]</td>\n",
       "      <td>[u'rt', u'@ cspan', u'sentedcruz', u'ndaa amen...</td>\n",
       "      <td>0.068182</td>\n",
       "      <td>2016-06-07 15:28:53</td>\n",
       "      <td>2016-06-07</td>\n",
       "      <td>23</td>\n",
       "    </tr>\n",
       "    <tr>\n",
       "      <th>31984</th>\n",
       "      <td>31985</td>\n",
       "      <td>7.401957e+17</td>\n",
       "      <td>post</td>\n",
       "      <td>2016-06-07T14:56:14.000Z</td>\n",
       "      <td>http://twitter.com/HillaryClinton/statuses/740...</td>\n",
       "      <td>Hoy es tu día de votar por Hillary. RT esto y ...</td>\n",
       "      <td>1977</td>\n",
       "      <td>low</td>\n",
       "      <td>es</td>\n",
       "      <td>1054</td>\n",
       "      <td>...</td>\n",
       "      <td>NaN</td>\n",
       "      <td>NaN</td>\n",
       "      <td>NaN</td>\n",
       "      <td>[]</td>\n",
       "      <td>[0.0, 0.0]</td>\n",
       "      <td>[u'hoy', u'es tu d\\xeda', u'votar por', u'hill...</td>\n",
       "      <td>0.000000</td>\n",
       "      <td>2016-06-07 14:56:14</td>\n",
       "      <td>2016-06-07</td>\n",
       "      <td>23</td>\n",
       "    </tr>\n",
       "    <tr>\n",
       "      <th>31985</th>\n",
       "      <td>31986</td>\n",
       "      <td>7.401956e+17</td>\n",
       "      <td>post</td>\n",
       "      <td>2016-06-07T14:56:07.000Z</td>\n",
       "      <td>http://twitter.com/BernieSanders/statuses/7401...</td>\n",
       "      <td>California – today you can send a message that...</td>\n",
       "      <td>14720</td>\n",
       "      <td>low</td>\n",
       "      <td>en</td>\n",
       "      <td>10717</td>\n",
       "      <td>...</td>\n",
       "      <td>NaN</td>\n",
       "      <td>NaN</td>\n",
       "      <td>NaN</td>\n",
       "      <td>&lt;itertools.chain object at 0x7f1c082d5b50&gt;</td>\n",
       "      <td>[0.0, 0.0, 0.0]</td>\n",
       "      <td>[u'california', u'primaryday']</td>\n",
       "      <td>0.000000</td>\n",
       "      <td>2016-06-07 14:56:07</td>\n",
       "      <td>2016-06-07</td>\n",
       "      <td>23</td>\n",
       "    </tr>\n",
       "    <tr>\n",
       "      <th>31986</th>\n",
       "      <td>31987</td>\n",
       "      <td>7.401862e+17</td>\n",
       "      <td>post</td>\n",
       "      <td>2016-06-07T14:18:38.000Z</td>\n",
       "      <td>http://twitter.com/BernieSanders/statuses/7401...</td>\n",
       "      <td>Montana: your polls are open. Don't settle for...</td>\n",
       "      <td>4787</td>\n",
       "      <td>low</td>\n",
       "      <td>en</td>\n",
       "      <td>2336</td>\n",
       "      <td>...</td>\n",
       "      <td>NaN</td>\n",
       "      <td>NaN</td>\n",
       "      <td>NaN</td>\n",
       "      <td>&lt;itertools.chain object at 0x7f1c082d5850&gt;</td>\n",
       "      <td>[0.0, -0.5, 0.0, 0.0]</td>\n",
       "      <td>[u'montana', u'corrupt campaign finance system...</td>\n",
       "      <td>-0.125000</td>\n",
       "      <td>2016-06-07 14:18:38</td>\n",
       "      <td>2016-06-07</td>\n",
       "      <td>23</td>\n",
       "    </tr>\n",
       "    <tr>\n",
       "      <th>31987</th>\n",
       "      <td>31988</td>\n",
       "      <td>7.401816e+17</td>\n",
       "      <td>post</td>\n",
       "      <td>2016-06-07T14:00:13.000Z</td>\n",
       "      <td>http://twitter.com/HillaryClinton/statuses/740...</td>\n",
       "      <td>CA, MT, NJ, NM, ND, and SD, it's your day to h...</td>\n",
       "      <td>8060</td>\n",
       "      <td>low</td>\n",
       "      <td>en</td>\n",
       "      <td>4452</td>\n",
       "      <td>...</td>\n",
       "      <td>NaN</td>\n",
       "      <td>NaN</td>\n",
       "      <td>NaN</td>\n",
       "      <td>&lt;itertools.chain object at 0x7f1c082c4090&gt;</td>\n",
       "      <td>[0.0, 0.0, 0.0]</td>\n",
       "      <td>[u'ca', u'mt', u'nj', u'nm', u'nd', u'sd', u'r...</td>\n",
       "      <td>0.000000</td>\n",
       "      <td>2016-06-07 14:00:13</td>\n",
       "      <td>2016-06-07</td>\n",
       "      <td>23</td>\n",
       "    </tr>\n",
       "    <tr>\n",
       "      <th>31988</th>\n",
       "      <td>31989</td>\n",
       "      <td>7.401727e+17</td>\n",
       "      <td>post</td>\n",
       "      <td>2016-06-07T13:25:05.000Z</td>\n",
       "      <td>http://twitter.com/BernieSanders/statuses/7401...</td>\n",
       "      <td>New Mexico – your polls are open until 7 PM. G...</td>\n",
       "      <td>3829</td>\n",
       "      <td>low</td>\n",
       "      <td>en</td>\n",
       "      <td>2048</td>\n",
       "      <td>...</td>\n",
       "      <td>NaN</td>\n",
       "      <td>NaN</td>\n",
       "      <td>NaN</td>\n",
       "      <td>&lt;itertools.chain object at 0x7f1c082c4250&gt;</td>\n",
       "      <td>[0.06818181818181818, 0.08, 0.0]</td>\n",
       "      <td>[u'mexico', u'pm', u'real change', u'old estab...</td>\n",
       "      <td>0.049394</td>\n",
       "      <td>2016-06-07 13:25:05</td>\n",
       "      <td>2016-06-07</td>\n",
       "      <td>23</td>\n",
       "    </tr>\n",
       "    <tr>\n",
       "      <th>31989</th>\n",
       "      <td>31990</td>\n",
       "      <td>7.401710e+17</td>\n",
       "      <td>post</td>\n",
       "      <td>2016-06-07T13:18:04.000Z</td>\n",
       "      <td>http://twitter.com/tedcruz/statuses/7401709660...</td>\n",
       "      <td>\"The IRS had been stalling and blocking effort...</td>\n",
       "      <td>775</td>\n",
       "      <td>low</td>\n",
       "      <td>en</td>\n",
       "      <td>666</td>\n",
       "      <td>...</td>\n",
       "      <td>NaN</td>\n",
       "      <td>NaN</td>\n",
       "      <td>NaN</td>\n",
       "      <td>&lt;itertools.chain object at 0x7f1c082c4450&gt;</td>\n",
       "      <td>[0.0, 0.0]</td>\n",
       "      <td>[u'irs', u'abolishtheirs']</td>\n",
       "      <td>0.000000</td>\n",
       "      <td>2016-06-07 13:18:04</td>\n",
       "      <td>2016-06-07</td>\n",
       "      <td>23</td>\n",
       "    </tr>\n",
       "    <tr>\n",
       "      <th>31990</th>\n",
       "      <td>31991</td>\n",
       "      <td>7.401632e+17</td>\n",
       "      <td>share</td>\n",
       "      <td>2016-06-07T12:47:14.000Z</td>\n",
       "      <td>http://twitter.com/HillaryClinton/statuses/740...</td>\n",
       "      <td>RT @ABCPolitics: WATCH: @NancyPelosi tells @GM...</td>\n",
       "      <td>0</td>\n",
       "      <td>low</td>\n",
       "      <td>en</td>\n",
       "      <td>1433</td>\n",
       "      <td>...</td>\n",
       "      <td>NaN</td>\n",
       "      <td>NaN</td>\n",
       "      <td>NaN</td>\n",
       "      <td>&lt;itertools.chain object at 0x7f1c082d5950&gt;</td>\n",
       "      <td>[0.8]</td>\n",
       "      <td>[u'rt', u'abcpolitics', u'watch', u'nancypelos...</td>\n",
       "      <td>0.800000</td>\n",
       "      <td>2016-06-07 12:47:14</td>\n",
       "      <td>2016-06-07</td>\n",
       "      <td>23</td>\n",
       "    </tr>\n",
       "    <tr>\n",
       "      <th>31991</th>\n",
       "      <td>31992</td>\n",
       "      <td>7.401601e+17</td>\n",
       "      <td>post</td>\n",
       "      <td>2016-06-07T12:34:53.000Z</td>\n",
       "      <td>http://twitter.com/BernieSanders/statuses/7401...</td>\n",
       "      <td>South Dakota and New Jersey – your polls are o...</td>\n",
       "      <td>6065</td>\n",
       "      <td>low</td>\n",
       "      <td>en</td>\n",
       "      <td>3355</td>\n",
       "      <td>...</td>\n",
       "      <td>NaN</td>\n",
       "      <td>NaN</td>\n",
       "      <td>NaN</td>\n",
       "      <td>&lt;itertools.chain object at 0x7f1c082d50d0&gt;</td>\n",
       "      <td>[0.06818181818181818, -0.3, 0.0]</td>\n",
       "      <td>[u'dakota', u'jersey', u'establishment politic...</td>\n",
       "      <td>-0.077273</td>\n",
       "      <td>2016-06-07 12:34:53</td>\n",
       "      <td>2016-06-07</td>\n",
       "      <td>23</td>\n",
       "    </tr>\n",
       "    <tr>\n",
       "      <th>31992</th>\n",
       "      <td>31993</td>\n",
       "      <td>7.401526e+17</td>\n",
       "      <td>post</td>\n",
       "      <td>2016-06-07T12:05:04.000Z</td>\n",
       "      <td>http://twitter.com/HillaryClinton/statuses/740...</td>\n",
       "      <td>RT if you're ready to make history. https://t....</td>\n",
       "      <td>14077</td>\n",
       "      <td>low</td>\n",
       "      <td>en</td>\n",
       "      <td>13325</td>\n",
       "      <td>...</td>\n",
       "      <td>NaN</td>\n",
       "      <td>NaN</td>\n",
       "      <td>NaN</td>\n",
       "      <td>&lt;itertools.chain object at 0x7f1c082d5f50&gt;</td>\n",
       "      <td>[0.2, 0.0]</td>\n",
       "      <td>[u'rt']</td>\n",
       "      <td>0.100000</td>\n",
       "      <td>2016-06-07 12:05:04</td>\n",
       "      <td>2016-06-07</td>\n",
       "      <td>23</td>\n",
       "    </tr>\n",
       "    <tr>\n",
       "      <th>31993</th>\n",
       "      <td>31994</td>\n",
       "      <td>7.400237e+17</td>\n",
       "      <td>post</td>\n",
       "      <td>2016-06-07T03:32:59.000Z</td>\n",
       "      <td>http://twitter.com/HillaryClinton/statuses/740...</td>\n",
       "      <td>Estamos al borde de un momento histórico, pero...</td>\n",
       "      <td>1665</td>\n",
       "      <td>low</td>\n",
       "      <td>es</td>\n",
       "      <td>920</td>\n",
       "      <td>...</td>\n",
       "      <td>NaN</td>\n",
       "      <td>NaN</td>\n",
       "      <td>NaN</td>\n",
       "      <td>[]</td>\n",
       "      <td>[0.0, 0.0]</td>\n",
       "      <td>[u'estamos', u'un momento hist\\xf3rico', u'per...</td>\n",
       "      <td>0.000000</td>\n",
       "      <td>2016-06-07 03:32:59</td>\n",
       "      <td>2016-06-07</td>\n",
       "      <td>23</td>\n",
       "    </tr>\n",
       "    <tr>\n",
       "      <th>31994</th>\n",
       "      <td>31995</td>\n",
       "      <td>7.400131e+17</td>\n",
       "      <td>post</td>\n",
       "      <td>2016-06-07T02:50:45.000Z</td>\n",
       "      <td>http://twitter.com/HillaryClinton/statuses/740...</td>\n",
       "      <td>Happy birthday to a friend and mentor, Marian ...</td>\n",
       "      <td>7265</td>\n",
       "      <td>low</td>\n",
       "      <td>en</td>\n",
       "      <td>1790</td>\n",
       "      <td>...</td>\n",
       "      <td>NaN</td>\n",
       "      <td>NaN</td>\n",
       "      <td>NaN</td>\n",
       "      <td>&lt;itertools.chain object at 0x7f1c082d0750&gt;</td>\n",
       "      <td>[0.8, 0.0, 0.0]</td>\n",
       "      <td>[u'marian wright edelman', u'your', u'service ...</td>\n",
       "      <td>0.266667</td>\n",
       "      <td>2016-06-07 02:50:45</td>\n",
       "      <td>2016-06-07</td>\n",
       "      <td>23</td>\n",
       "    </tr>\n",
       "    <tr>\n",
       "      <th>31995</th>\n",
       "      <td>31996</td>\n",
       "      <td>7.400056e+17</td>\n",
       "      <td>post</td>\n",
       "      <td>2016-06-07T02:21:08.000Z</td>\n",
       "      <td>http://twitter.com/realDonaldTrump/statuses/74...</td>\n",
       "      <td>In just out book, Secret Service Agent Gary By...</td>\n",
       "      <td>22226</td>\n",
       "      <td>low</td>\n",
       "      <td>en</td>\n",
       "      <td>8085</td>\n",
       "      <td>...</td>\n",
       "      <td>NaN</td>\n",
       "      <td>NaN</td>\n",
       "      <td>NaN</td>\n",
       "      <td>&lt;itertools.chain object at 0x7f1c082c40d0&gt;</td>\n",
       "      <td>[-0.2]</td>\n",
       "      <td>[u'secret service', u'agent gary byrne', u'cro...</td>\n",
       "      <td>-0.200000</td>\n",
       "      <td>2016-06-07 02:21:08</td>\n",
       "      <td>2016-06-07</td>\n",
       "      <td>23</td>\n",
       "    </tr>\n",
       "    <tr>\n",
       "      <th>31996</th>\n",
       "      <td>31997</td>\n",
       "      <td>7.400032e+17</td>\n",
       "      <td>post</td>\n",
       "      <td>2016-06-07T02:11:27.000Z</td>\n",
       "      <td>http://twitter.com/HillaryClinton/statuses/740...</td>\n",
       "      <td>To everyone who's worked so hard, thank you. L...</td>\n",
       "      <td>10203</td>\n",
       "      <td>low</td>\n",
       "      <td>en</td>\n",
       "      <td>4083</td>\n",
       "      <td>...</td>\n",
       "      <td>NaN</td>\n",
       "      <td>NaN</td>\n",
       "      <td>NaN</td>\n",
       "      <td>&lt;itertools.chain object at 0x7f1c082c4150&gt;</td>\n",
       "      <td>[-0.2916666666666667, 0.8, 0.0]</td>\n",
       "      <td>[]</td>\n",
       "      <td>0.169444</td>\n",
       "      <td>2016-06-07 02:11:27</td>\n",
       "      <td>2016-06-07</td>\n",
       "      <td>23</td>\n",
       "    </tr>\n",
       "    <tr>\n",
       "      <th>31997</th>\n",
       "      <td>31998</td>\n",
       "      <td>7.400026e+17</td>\n",
       "      <td>post</td>\n",
       "      <td>2016-06-07T02:09:08.000Z</td>\n",
       "      <td>http://twitter.com/BernieSanders/statuses/7400...</td>\n",
       "      <td>California – you vote tomorrow, June 7. Questi...</td>\n",
       "      <td>7579</td>\n",
       "      <td>low</td>\n",
       "      <td>en</td>\n",
       "      <td>5788</td>\n",
       "      <td>...</td>\n",
       "      <td>NaN</td>\n",
       "      <td>NaN</td>\n",
       "      <td>NaN</td>\n",
       "      <td>&lt;itertools.chain object at 0x7f1c082c4750&gt;</td>\n",
       "      <td>[0.0, 0.0, 0.0, 0.0]</td>\n",
       "      <td>[u'california', u'june', u'call']</td>\n",
       "      <td>0.000000</td>\n",
       "      <td>2016-06-07 02:09:08</td>\n",
       "      <td>2016-06-07</td>\n",
       "      <td>23</td>\n",
       "    </tr>\n",
       "  </tbody>\n",
       "</table>\n",
       "<p>31998 rows × 89 columns</p>\n",
       "</div>"
      ],
      "text/plain": [
       "       Unnamed: 0.1            id   verb                postedTime  \\\n",
       "0                 1  6.066044e+17   post  2015-06-04T23:32:23.000Z   \n",
       "1                 2  6.065978e+17   post  2015-06-04T23:06:04.000Z   \n",
       "2                 3  6.065932e+17   post  2015-06-04T22:47:32.000Z   \n",
       "3                 4  6.065923e+17   post  2015-06-04T22:44:17.000Z   \n",
       "4                 5  6.065916e+17   post  2015-06-04T22:41:33.000Z   \n",
       "5                 6  6.065902e+17   post  2015-06-04T22:35:37.000Z   \n",
       "6                 7  6.065894e+17   post  2015-06-04T22:32:26.000Z   \n",
       "7                 8  6.065884e+17   post  2015-06-04T22:28:37.000Z   \n",
       "8                 9  6.065825e+17   post  2015-06-04T22:05:05.000Z   \n",
       "9                10  6.065795e+17   post  2015-06-04T21:53:05.000Z   \n",
       "10               11  6.065727e+17   post  2015-06-04T21:26:09.000Z   \n",
       "11               12  6.065652e+17  share  2015-06-04T20:56:37.000Z   \n",
       "12               13  6.065607e+17   post  2015-06-04T20:38:28.000Z   \n",
       "13               14  6.065604e+17   post  2015-06-04T20:37:27.000Z   \n",
       "14               15  6.065603e+17  share  2015-06-04T20:37:02.000Z   \n",
       "15               16  6.065598e+17   post  2015-06-04T20:35:06.000Z   \n",
       "16               17  6.065594e+17   post  2015-06-04T20:33:15.000Z   \n",
       "17               18  6.065592e+17   post  2015-06-04T20:32:27.000Z   \n",
       "18               19  6.065591e+17   post  2015-06-04T20:32:18.000Z   \n",
       "19               20  6.065590e+17   post  2015-06-04T20:31:47.000Z   \n",
       "20               21  6.065589e+17  share  2015-06-04T20:31:16.000Z   \n",
       "21               22  6.065587e+17   post  2015-06-04T20:30:40.000Z   \n",
       "22               23  6.065586e+17   post  2015-06-04T20:30:07.000Z   \n",
       "23               24  6.065584e+17   post  2015-06-04T20:29:27.000Z   \n",
       "24               25  6.065581e+17   post  2015-06-04T20:28:19.000Z   \n",
       "25               26  6.065579e+17   post  2015-06-04T20:27:34.000Z   \n",
       "26               27  6.065577e+17   post  2015-06-04T20:26:43.000Z   \n",
       "27               28  6.065577e+17  share  2015-06-04T20:26:36.000Z   \n",
       "28               29  6.065575e+17   post  2015-06-04T20:25:53.000Z   \n",
       "29               30  6.065573e+17   post  2015-06-04T20:24:58.000Z   \n",
       "...             ...           ...    ...                       ...   \n",
       "31968         31969  7.402475e+17   post  2016-06-07T18:22:03.000Z   \n",
       "31969         31970  7.402472e+17   post  2016-06-07T18:21:04.000Z   \n",
       "31970         31971  7.402427e+17   post  2016-06-07T18:03:18.000Z   \n",
       "31971         31972  7.402327e+17   post  2016-06-07T17:23:24.000Z   \n",
       "31972         31973  7.402317e+17  share  2016-06-07T17:19:16.000Z   \n",
       "31973         31974  7.402313e+17   post  2016-06-07T17:17:41.000Z   \n",
       "31974         31975  7.402310e+17   post  2016-06-07T17:16:28.000Z   \n",
       "31975         31976  7.402309e+17   post  2016-06-07T17:16:25.000Z   \n",
       "31976         31977  7.402297e+17   post  2016-06-07T17:11:30.000Z   \n",
       "31977         31978  7.402219e+17   post  2016-06-07T16:40:22.000Z   \n",
       "31978         31979  7.402080e+17   post  2016-06-07T15:45:16.000Z   \n",
       "31979         31980  7.402069e+17   post  2016-06-07T15:40:59.000Z   \n",
       "31980         31981  7.402066e+17   post  2016-06-07T15:39:52.000Z   \n",
       "31981         31982  7.402054e+17  share  2016-06-07T15:34:49.000Z   \n",
       "31982         31983  7.402047e+17   post  2016-06-07T15:32:03.000Z   \n",
       "31983         31984  7.402039e+17  share  2016-06-07T15:28:53.000Z   \n",
       "31984         31985  7.401957e+17   post  2016-06-07T14:56:14.000Z   \n",
       "31985         31986  7.401956e+17   post  2016-06-07T14:56:07.000Z   \n",
       "31986         31987  7.401862e+17   post  2016-06-07T14:18:38.000Z   \n",
       "31987         31988  7.401816e+17   post  2016-06-07T14:00:13.000Z   \n",
       "31988         31989  7.401727e+17   post  2016-06-07T13:25:05.000Z   \n",
       "31989         31990  7.401710e+17   post  2016-06-07T13:18:04.000Z   \n",
       "31990         31991  7.401632e+17  share  2016-06-07T12:47:14.000Z   \n",
       "31991         31992  7.401601e+17   post  2016-06-07T12:34:53.000Z   \n",
       "31992         31993  7.401526e+17   post  2016-06-07T12:05:04.000Z   \n",
       "31993         31994  7.400237e+17   post  2016-06-07T03:32:59.000Z   \n",
       "31994         31995  7.400131e+17   post  2016-06-07T02:50:45.000Z   \n",
       "31995         31996  7.400056e+17   post  2016-06-07T02:21:08.000Z   \n",
       "31996         31997  7.400032e+17   post  2016-06-07T02:11:27.000Z   \n",
       "31997         31998  7.400026e+17   post  2016-06-07T02:09:08.000Z   \n",
       "\n",
       "                                                    link  \\\n",
       "0      http://twitter.com/SenTedCruz/statuses/6066044...   \n",
       "1      http://twitter.com/tedcruz/statuses/6065978179...   \n",
       "2      http://twitter.com/realDonaldTrump/statuses/60...   \n",
       "3      http://twitter.com/realDonaldTrump/statuses/60...   \n",
       "4      http://twitter.com/HillaryClinton/statuses/606...   \n",
       "5      http://twitter.com/JohnKasich/statuses/6065901...   \n",
       "6      http://twitter.com/JohnKasich/statuses/6065893...   \n",
       "7      http://twitter.com/realDonaldTrump/statuses/60...   \n",
       "8      http://twitter.com/tedcruz/statuses/6065824722...   \n",
       "9      http://twitter.com/BernieSanders/statuses/6065...   \n",
       "10     http://twitter.com/BernieSanders/statuses/6065...   \n",
       "11     http://twitter.com/BernieSanders/statuses/6065...   \n",
       "12     http://twitter.com/HillaryClinton/statuses/606...   \n",
       "13     http://twitter.com/HillaryClinton/statuses/606...   \n",
       "14     http://twitter.com/realDonaldTrump/statuses/60...   \n",
       "15     http://twitter.com/HillaryClinton/statuses/606...   \n",
       "16     http://twitter.com/HillaryClinton/statuses/606...   \n",
       "17     http://twitter.com/HillaryClinton/statuses/606...   \n",
       "18     http://twitter.com/HillaryClinton/statuses/606...   \n",
       "19     http://twitter.com/HillaryClinton/statuses/606...   \n",
       "20     http://twitter.com/tedcruz/statuses/6065588600...   \n",
       "21     http://twitter.com/HillaryClinton/statuses/606...   \n",
       "22     http://twitter.com/HillaryClinton/statuses/606...   \n",
       "23     http://twitter.com/HillaryClinton/statuses/606...   \n",
       "24     http://twitter.com/HillaryClinton/statuses/606...   \n",
       "25     http://twitter.com/HillaryClinton/statuses/606...   \n",
       "26     http://twitter.com/HillaryClinton/statuses/606...   \n",
       "27     http://twitter.com/realDonaldTrump/statuses/60...   \n",
       "28     http://twitter.com/HillaryClinton/statuses/606...   \n",
       "29     http://twitter.com/HillaryClinton/statuses/606...   \n",
       "...                                                  ...   \n",
       "31968  http://twitter.com/SenTedCruz/statuses/7402474...   \n",
       "31969  http://twitter.com/SenTedCruz/statuses/7402472...   \n",
       "31970  http://twitter.com/SenTedCruz/statuses/7402427...   \n",
       "31971  http://twitter.com/SenTedCruz/statuses/7402327...   \n",
       "31972  http://twitter.com/SenTedCruz/statuses/7402316...   \n",
       "31973  http://twitter.com/SenTedCruz/statuses/7402312...   \n",
       "31974  http://twitter.com/SenTedCruz/statuses/7402309...   \n",
       "31975  http://twitter.com/HillaryClinton/statuses/740...   \n",
       "31976  http://twitter.com/SenTedCruz/statuses/7402297...   \n",
       "31977  http://twitter.com/BernieSanders/statuses/7402...   \n",
       "31978  http://twitter.com/SenTedCruz/statuses/7402080...   \n",
       "31979  http://twitter.com/SenTedCruz/statuses/7402069...   \n",
       "31980  http://twitter.com/SenTedCruz/statuses/7402066...   \n",
       "31981  http://twitter.com/tedcruz/statuses/7402053780...   \n",
       "31982  http://twitter.com/BernieSanders/statuses/7402...   \n",
       "31983  http://twitter.com/SenTedCruz/statuses/7402038...   \n",
       "31984  http://twitter.com/HillaryClinton/statuses/740...   \n",
       "31985  http://twitter.com/BernieSanders/statuses/7401...   \n",
       "31986  http://twitter.com/BernieSanders/statuses/7401...   \n",
       "31987  http://twitter.com/HillaryClinton/statuses/740...   \n",
       "31988  http://twitter.com/BernieSanders/statuses/7401...   \n",
       "31989  http://twitter.com/tedcruz/statuses/7401709660...   \n",
       "31990  http://twitter.com/HillaryClinton/statuses/740...   \n",
       "31991  http://twitter.com/BernieSanders/statuses/7401...   \n",
       "31992  http://twitter.com/HillaryClinton/statuses/740...   \n",
       "31993  http://twitter.com/HillaryClinton/statuses/740...   \n",
       "31994  http://twitter.com/HillaryClinton/statuses/740...   \n",
       "31995  http://twitter.com/realDonaldTrump/statuses/74...   \n",
       "31996  http://twitter.com/HillaryClinton/statuses/740...   \n",
       "31997  http://twitter.com/BernieSanders/statuses/7400...   \n",
       "\n",
       "                                                    body  favoritesCount  \\\n",
       "0      ICYMI: Sen. Cruz: Obama Administration Demonst...             156   \n",
       "1      I think what Republican primary voters are loo...             159   \n",
       "2      With great patriots in Mason City who also wan...             174   \n",
       "3      Standing ovation after promising to bring the ...              95   \n",
       "4      ✔️ Automatic registration✔️ More early voting✔...             922   \n",
       "5      .@mattmayberrynh I really enjoy the scene in N...               6   \n",
       "6      I knew I liked this guy! Go @cavs. #ALLinCLEPh...             233   \n",
       "7      Standing room only in Mason City, Iowa! Thanks...              67   \n",
       "8      Primary voters are looking for someone who wil...             143   \n",
       "9      This great nation and its government belong to...             519   \n",
       "10     @spencertweedy We apologize for the inconvenie...              15   \n",
       "11     RT @daveweigel: Bernie Sanders pitches $5.5 bi...               0   \n",
       "12     Sign on if you agree with Hillary: We should m...             948   \n",
       "13     \"Today we refuse...to allow our country and th...             568   \n",
       "14     RT @NJPGA: Thank you to our host @realDonaldTr...               0   \n",
       "15     \"We need a Supreme Court who cares more about ...            1212   \n",
       "16     \"All of these reforms...are commonsense ways t...             384   \n",
       "17     \"If you're an eligible voter and want to be re...             704   \n",
       "18     RT if you agree: We should make it as easy as ...            1234   \n",
       "19     Hillary calls for automatic voter registration...            2255   \n",
       "20     RT @TeamCavuto: The 2016 campaign trail contin...               0   \n",
       "21     \"Early in-person voting will reduce those long...             426   \n",
       "22     \"We should set a standard across our country o...             391   \n",
       "23     \"We should implement...commonsense reforms, in...             358   \n",
       "24     \"Congress should move quickly...to repair [dam...             421   \n",
       "25     This fight is for all of us. http://t.co/pqH51...             524   \n",
       "26     Hillary on Republican efforts to make it harde...             647   \n",
       "27     RT @SDanikKIMT: I sit down with @realDonaldTru...               0   \n",
       "28     “I believe every citizen has the right to vote...             785   \n",
       "29                                http://t.co/huecVP3MzK             439   \n",
       "...                                                  ...             ...   \n",
       "31968  In the face of disaster, in the face of advers...             209   \n",
       "31969  Over the last few weeks, the resolve of our gr...             133   \n",
       "31970  The HEAR Act will help ensure that claims for ...             181   \n",
       "31971  Despite the Allies’ restitution efforts, much ...             167   \n",
       "31972  RT @cspan: Helen Mirren testifies on Art Confi...               0   \n",
       "31973  Today we are here to address what has been des...             203   \n",
       "31974  Sadly, even today—over 70 years later—we are s...             152   \n",
       "31975     Eight years ago today. https://t.co/ZAHXdKbgHV            8770   \n",
       "31976  LIVE: Holocaust Expropriated Art Recovery Act ...             133   \n",
       "31977  California, Montana, New Jersey, New Mexico, S...            8898   \n",
       "31978  If @POTUS gives away the #internet, it will im...             297   \n",
       "31979  The #NDAA shouldn't be a vehicle to further an...             231   \n",
       "31980  My goal for the #NDAA is simple. Make our mili...             268   \n",
       "31981  RT @TexasGOP: Live Now: @SenTedCruz on the Sen...               0   \n",
       "31982  Pundits and the political press wanna call thi...            9158   \n",
       "31983  RT @cspan: .@SenTedCruz speaks on #NDAA Amendm...               0   \n",
       "31984  Hoy es tu día de votar por Hillary. RT esto y ...            1977   \n",
       "31985  California – today you can send a message that...           14720   \n",
       "31986  Montana: your polls are open. Don't settle for...            4787   \n",
       "31987  CA, MT, NJ, NM, ND, and SD, it's your day to h...            8060   \n",
       "31988  New Mexico – your polls are open until 7 PM. G...            3829   \n",
       "31989  \"The IRS had been stalling and blocking effort...             775   \n",
       "31990  RT @ABCPolitics: WATCH: @NancyPelosi tells @GM...               0   \n",
       "31991  South Dakota and New Jersey – your polls are o...            6065   \n",
       "31992  RT if you're ready to make history. https://t....           14077   \n",
       "31993  Estamos al borde de un momento histórico, pero...            1665   \n",
       "31994  Happy birthday to a friend and mentor, Marian ...            7265   \n",
       "31995  In just out book, Secret Service Agent Gary By...           22226   \n",
       "31996  To everyone who's worked so hard, thank you. L...           10203   \n",
       "31997  California – you vote tomorrow, June 7. Questi...            7579   \n",
       "\n",
       "      twitter_filter_level twitter_lang  retweetCount ...   region subRegion  \\\n",
       "0                      low           en           248 ...      NaN       NaN   \n",
       "1                      low           en           164 ...      NaN       NaN   \n",
       "2                      low           en            81 ...      NaN       NaN   \n",
       "3                      low           en            41 ...      NaN       NaN   \n",
       "4                      low           en           677 ...      NaN       NaN   \n",
       "5                      low           en             1 ...      NaN       NaN   \n",
       "6                      low           en           280 ...      NaN       NaN   \n",
       "7                      low           en            31 ...      NaN       NaN   \n",
       "8                      low           en           155 ...      NaN       NaN   \n",
       "9                      low           en           478 ...      NaN       NaN   \n",
       "10                     low           en             8 ...      NaN       NaN   \n",
       "11                     low           en           106 ...      NaN       NaN   \n",
       "12                     low           en           776 ...      NaN       NaN   \n",
       "13                     low           en           290 ...      NaN       NaN   \n",
       "14                     low           en            11 ...      NaN       NaN   \n",
       "15                     low           en           916 ...      NaN       NaN   \n",
       "16                     low           en           189 ...      NaN       NaN   \n",
       "17                     low           en           427 ...      NaN       NaN   \n",
       "18                     low           en          1357 ...      NaN       NaN   \n",
       "19                     low           en          1711 ...      NaN       NaN   \n",
       "20                     low           en            37 ...      NaN       NaN   \n",
       "21                     low           en           230 ...      NaN       NaN   \n",
       "22                     low           en           217 ...      NaN       NaN   \n",
       "23                     low           en           184 ...      NaN       NaN   \n",
       "24                     low           en           271 ...      NaN       NaN   \n",
       "25                     low           en           362 ...      NaN       NaN   \n",
       "26                     low           en           539 ...      NaN       NaN   \n",
       "27                     low           en            38 ...      NaN       NaN   \n",
       "28                     low           en           456 ...      NaN       NaN   \n",
       "29                     low          und           249 ...      NaN       NaN   \n",
       "...                    ...          ...           ... ...      ...       ...   \n",
       "31968                  low           en           113 ...      NaN       NaN   \n",
       "31969                  low           en            88 ...      NaN       NaN   \n",
       "31970                  low           en           104 ...      NaN       NaN   \n",
       "31971                  low           en            95 ...      NaN       NaN   \n",
       "31972                  low           en            70 ...      NaN       NaN   \n",
       "31973                  low           en           114 ...      NaN       NaN   \n",
       "31974                  low           en            90 ...      NaN       NaN   \n",
       "31975                  low           en          3550 ...      NaN       NaN   \n",
       "31976                  low           en            89 ...      NaN       NaN   \n",
       "31977                  low           en          5928 ...      NaN       NaN   \n",
       "31978                  low           en           291 ...      NaN       NaN   \n",
       "31979                  low           en           152 ...      NaN       NaN   \n",
       "31980                  low           en           167 ...      NaN       NaN   \n",
       "31981                  low           en           118 ...      NaN       NaN   \n",
       "31982                  low           en          6155 ...      NaN       NaN   \n",
       "31983                  low           en            93 ...      NaN       NaN   \n",
       "31984                  low           es          1054 ...      NaN       NaN   \n",
       "31985                  low           en         10717 ...      NaN       NaN   \n",
       "31986                  low           en          2336 ...      NaN       NaN   \n",
       "31987                  low           en          4452 ...      NaN       NaN   \n",
       "31988                  low           en          2048 ...      NaN       NaN   \n",
       "31989                  low           en           666 ...      NaN       NaN   \n",
       "31990                  low           en          1433 ...      NaN       NaN   \n",
       "31991                  low           en          3355 ...      NaN       NaN   \n",
       "31992                  low           en         13325 ...      NaN       NaN   \n",
       "31993                  low           es           920 ...      NaN       NaN   \n",
       "31994                  low           en          1790 ...      NaN       NaN   \n",
       "31995                  low           en          8085 ...      NaN       NaN   \n",
       "31996                  low           en          4083 ...      NaN       NaN   \n",
       "31997                  low           en          5788 ...      NaN       NaN   \n",
       "\n",
       "      profileLocations.0.displayName  \\\n",
       "0                                NaN   \n",
       "1                                NaN   \n",
       "2                                NaN   \n",
       "3                                NaN   \n",
       "4                                NaN   \n",
       "5                                NaN   \n",
       "6                                NaN   \n",
       "7                                NaN   \n",
       "8                                NaN   \n",
       "9                                NaN   \n",
       "10                               NaN   \n",
       "11                               NaN   \n",
       "12                               NaN   \n",
       "13                               NaN   \n",
       "14                               NaN   \n",
       "15                               NaN   \n",
       "16                               NaN   \n",
       "17                               NaN   \n",
       "18                               NaN   \n",
       "19                               NaN   \n",
       "20                               NaN   \n",
       "21                               NaN   \n",
       "22                               NaN   \n",
       "23                               NaN   \n",
       "24                               NaN   \n",
       "25                               NaN   \n",
       "26                               NaN   \n",
       "27                               NaN   \n",
       "28                               NaN   \n",
       "29                               NaN   \n",
       "...                              ...   \n",
       "31968                            NaN   \n",
       "31969                            NaN   \n",
       "31970                            NaN   \n",
       "31971                            NaN   \n",
       "31972                            NaN   \n",
       "31973                            NaN   \n",
       "31974                            NaN   \n",
       "31975                            NaN   \n",
       "31976                            NaN   \n",
       "31977                            NaN   \n",
       "31978                            NaN   \n",
       "31979                            NaN   \n",
       "31980                            NaN   \n",
       "31981                            NaN   \n",
       "31982                            NaN   \n",
       "31983                            NaN   \n",
       "31984                            NaN   \n",
       "31985                            NaN   \n",
       "31986                            NaN   \n",
       "31987                            NaN   \n",
       "31988                            NaN   \n",
       "31989                            NaN   \n",
       "31990                            NaN   \n",
       "31991                            NaN   \n",
       "31992                            NaN   \n",
       "31993                            NaN   \n",
       "31994                            NaN   \n",
       "31995                            NaN   \n",
       "31996                            NaN   \n",
       "31997                            NaN   \n",
       "\n",
       "                                         entities  \\\n",
       "0      <itertools.chain object at 0x7f1bb54fa610>   \n",
       "1      <itertools.chain object at 0x7f1bb54faa90>   \n",
       "2      <itertools.chain object at 0x7f1bb54faed0>   \n",
       "3      <itertools.chain object at 0x7f1bb54fafd0>   \n",
       "4      <itertools.chain object at 0x7f1bb7e28bd0>   \n",
       "5      <itertools.chain object at 0x7f1bb7e28c50>   \n",
       "6      <itertools.chain object at 0x7f1bb7e284d0>   \n",
       "7      <itertools.chain object at 0x7f1bb7e28990>   \n",
       "8      <itertools.chain object at 0x7f1bb54fa2d0>   \n",
       "9      <itertools.chain object at 0x7f1bb54fad90>   \n",
       "10     <itertools.chain object at 0x7f1bb54fa350>   \n",
       "11     <itertools.chain object at 0x7f1bb7e28150>   \n",
       "12     <itertools.chain object at 0x7f1bb7e28210>   \n",
       "13     <itertools.chain object at 0x7f1bb7e287d0>   \n",
       "14     <itertools.chain object at 0x7f1bb7e28e50>   \n",
       "15     <itertools.chain object at 0x7f1bb7e28550>   \n",
       "16     <itertools.chain object at 0x7f1bb7e28790>   \n",
       "17     <itertools.chain object at 0x7f1bb501c5d0>   \n",
       "18     <itertools.chain object at 0x7f1bb7e28c90>   \n",
       "19     <itertools.chain object at 0x7f1bb7e28a90>   \n",
       "20     <itertools.chain object at 0x7f1bb7e28950>   \n",
       "21     <itertools.chain object at 0x7f1bb7e28710>   \n",
       "22     <itertools.chain object at 0x7f1bb54fab90>   \n",
       "23     <itertools.chain object at 0x7f1bb54fa9d0>   \n",
       "24     <itertools.chain object at 0x7f1bb501cfd0>   \n",
       "25     <itertools.chain object at 0x7f1bb501c550>   \n",
       "26     <itertools.chain object at 0x7f1bb501c210>   \n",
       "27     <itertools.chain object at 0x7f1bb501cf90>   \n",
       "28     <itertools.chain object at 0x7f1bb501c590>   \n",
       "29     <itertools.chain object at 0x7f1bb54faf10>   \n",
       "...                                           ...   \n",
       "31968  <itertools.chain object at 0x7f1c082d5650>   \n",
       "31969  <itertools.chain object at 0x7f1c082d5810>   \n",
       "31970  <itertools.chain object at 0x7f1c082d5990>   \n",
       "31971  <itertools.chain object at 0x7f1c0832acd0>   \n",
       "31972  <itertools.chain object at 0x7f1c082c6390>   \n",
       "31973  <itertools.chain object at 0x7f1c082d0e10>   \n",
       "31974  <itertools.chain object at 0x7f1c082d07d0>   \n",
       "31975  <itertools.chain object at 0x7f1c082d5750>   \n",
       "31976  <itertools.chain object at 0x7f1c082d5690>   \n",
       "31977  <itertools.chain object at 0x7f1c082d5a90>   \n",
       "31978  <itertools.chain object at 0x7f1c082d5c90>   \n",
       "31979  <itertools.chain object at 0x7f1c082d5e50>   \n",
       "31980  <itertools.chain object at 0x7f1c082d0350>   \n",
       "31981  <itertools.chain object at 0x7f1c0832ce10>   \n",
       "31982  <itertools.chain object at 0x7f1c082c6fd0>   \n",
       "31983  <itertools.chain object at 0x7f1c082d5cd0>   \n",
       "31984                                          []   \n",
       "31985  <itertools.chain object at 0x7f1c082d5b50>   \n",
       "31986  <itertools.chain object at 0x7f1c082d5850>   \n",
       "31987  <itertools.chain object at 0x7f1c082c4090>   \n",
       "31988  <itertools.chain object at 0x7f1c082c4250>   \n",
       "31989  <itertools.chain object at 0x7f1c082c4450>   \n",
       "31990  <itertools.chain object at 0x7f1c082d5950>   \n",
       "31991  <itertools.chain object at 0x7f1c082d50d0>   \n",
       "31992  <itertools.chain object at 0x7f1c082d5f50>   \n",
       "31993                                          []   \n",
       "31994  <itertools.chain object at 0x7f1c082d0750>   \n",
       "31995  <itertools.chain object at 0x7f1c082c40d0>   \n",
       "31996  <itertools.chain object at 0x7f1c082c4150>   \n",
       "31997  <itertools.chain object at 0x7f1c082c4750>   \n",
       "\n",
       "                              sentiment  \\\n",
       "0                                 [0.0]   \n",
       "1                            [0.4, 0.0]   \n",
       "2       [0.26666666666666666, 1.0, 0.0]   \n",
       "3                        [0.20625, 0.0]   \n",
       "4                                 [0.3]   \n",
       "5                  [0.0, 0.4, 0.8, 0.0]   \n",
       "6                      [0.75, 0.0, 0.0]   \n",
       "7                      [0.0, 0.25, 0.0]   \n",
       "8                                 [0.4]   \n",
       "9                                 [0.8]   \n",
       "10                     [0.0, 0.16, 0.0]   \n",
       "11                                [0.0]   \n",
       "12                               [0.05]   \n",
       "13                             [0.2875]   \n",
       "14                               [0.45]   \n",
       "15                [0.35714285714285715]   \n",
       "16           [0.43333333333333335, 0.0]   \n",
       "17                                [0.0]   \n",
       "18           [0.14444444444444446, 0.0]   \n",
       "19                           [0.0, 0.0]   \n",
       "20                      [0.0, 0.0, 0.0]   \n",
       "21                [0.18333333333333335]   \n",
       "22               [-0.06666666666666667]   \n",
       "23                                [0.1]   \n",
       "24                              [0.175]   \n",
       "25                           [0.0, 0.0]   \n",
       "26                              [-0.05]   \n",
       "27               [-0.07777777777777779]   \n",
       "28                 [0.2857142857142857]   \n",
       "29                                [0.0]   \n",
       "...                                 ...   \n",
       "31968                        [0.0, 0.0]   \n",
       "31969        [0.15000000000000002, 0.0]   \n",
       "31970                             [0.0]   \n",
       "31971                             [0.2]   \n",
       "31972             [0.13636363636363635]   \n",
       "31973                        [0.5, 0.0]   \n",
       "31974                       [-0.5, 0.0]   \n",
       "31975                        [0.0, 0.0]   \n",
       "31976             [0.13636363636363635]   \n",
       "31977        [0.15340909090909088, 0.0]   \n",
       "31978                        [0.0, 0.0]   \n",
       "31979                        [0.0, 0.0]   \n",
       "31980   [0.0, 0.24444444444444444, 0.0]   \n",
       "31981             [0.04545454545454545]   \n",
       "31982                  [0.05, 0.0, 0.0]   \n",
       "31983        [0.0, 0.13636363636363635]   \n",
       "31984                        [0.0, 0.0]   \n",
       "31985                   [0.0, 0.0, 0.0]   \n",
       "31986             [0.0, -0.5, 0.0, 0.0]   \n",
       "31987                   [0.0, 0.0, 0.0]   \n",
       "31988  [0.06818181818181818, 0.08, 0.0]   \n",
       "31989                        [0.0, 0.0]   \n",
       "31990                             [0.8]   \n",
       "31991  [0.06818181818181818, -0.3, 0.0]   \n",
       "31992                        [0.2, 0.0]   \n",
       "31993                        [0.0, 0.0]   \n",
       "31994                   [0.8, 0.0, 0.0]   \n",
       "31995                            [-0.2]   \n",
       "31996   [-0.2916666666666667, 0.8, 0.0]   \n",
       "31997              [0.0, 0.0, 0.0, 0.0]   \n",
       "\n",
       "                                            noun_phrases  mean_sentiment  \\\n",
       "0      [u'icymi', u'cruz', u'obama', u'demonstrates',...        0.000000   \n",
       "1      [u'republican', u'primary voters', u'//t.co/tw...        0.200000   \n",
       "2      [u'great patriots', u'mason', u'dream', u'amer...        0.422222   \n",
       "3                                [u'standing', u'dream']        0.103125   \n",
       "4      [u'automatic', u'early voting\\u2714\\ufe0f', u'...        0.300000   \n",
       "5      [u'@ mattmayberrynh', u'nh', u'thx', u'@ renee...        0.300000   \n",
       "6      [u'@ cavs', u'allinclephoto cred', u'@ cre8ive...        0.250000   \n",
       "7      [u'standing', u'mason', u'iowa', u'thanks', u'...        0.083333   \n",
       "8               [u'primary', u'conservative principles']        0.400000   \n",
       "9                       [u'great nation', u'super-pacs']        0.800000   \n",
       "10                                  [u'@ spencertweedy']        0.053333   \n",
       "11     [u'rt', u'@ daveweigel', u'bernie sanders', u'...        0.000000   \n",
       "12     [u'sign', u'hillary', u'\\u2192 http', u'//t.co...        0.050000   \n",
       "13     [u'refuse ...', u'america\\u2019s', u'long marc...        0.287500   \n",
       "14     [u'rt', u'njpga', u'thank', u'host @ realdonal...        0.450000   \n",
       "15                                    [u'supreme court']        0.357143   \n",
       "16     [u'reforms ...', u'commonsense ways', u'it\\u20...        0.216667   \n",
       "17                                   [u'eligible voter']        0.000000   \n",
       "18                          [u'rt', u'american citizen']        0.072222   \n",
       "19     [u'hillary', u'automatic voter registration\\u2...        0.000000   \n",
       "20     [u'rt', u'teamcavuto', u'campaign trail', u'yo...        0.000000   \n",
       "21                             [u'early', u'long lines']        0.183333   \n",
       "22                                  [u'early in-person']       -0.066667   \n",
       "23                          [u'... commonsense reforms']        0.100000   \n",
       "24     [u'congress', u'repair [ damage', u'voting', u...        0.175000   \n",
       "25                                                    []        0.000000   \n",
       "26     [u'hillary', u'republican', u'american citizens']       -0.050000   \n",
       "27     [u'rt', u'sdanikkimt', u'@ realdonaldtrump', u...       -0.077778   \n",
       "28                             [u'vote.\\u201d -hillary']        0.285714   \n",
       "29                                                    []        0.000000   \n",
       "...                                                  ...             ...   \n",
       "31968                                                 []        0.000000   \n",
       "31969       [u'great state', u'//t.co/dlvfchnbmr https']        0.075000   \n",
       "31970         [u'hear', u'nazi-looted', u'merits https']        0.000000   \n",
       "31971  [u'allies\\u2019', u'restitution efforts', u'ri...        0.200000   \n",
       "31972  [u'rt', u'@ cspan', u'helen mirren', u'art con...        0.136364   \n",
       "31973                                 [u'human history']        0.250000   \n",
       "31974   [u'sadly', u'years later\\u2014we', u'holocaust']       -0.250000   \n",
       "31975                                                 []        0.000000   \n",
       "31976  [u'live', u'holocaust expropriated art', u'rec...        0.136364   \n",
       "31977  [u'california', u'montana', u'jersey', u'mexic...        0.076705   \n",
       "31978  [u'potus', u'# internet', u'impact speech', u\"...        0.000000   \n",
       "31979                              [u'ndaa', u'america']        0.000000   \n",
       "31980                                          [u'ndaa']        0.081481   \n",
       "31981  [u'rt', u'texasgop', u'live', u'sentedcruz', u...        0.045455   \n",
       "31982  [u'pundits', u'political press wan na', u'pers...        0.016667   \n",
       "31983  [u'rt', u'@ cspan', u'sentedcruz', u'ndaa amen...        0.068182   \n",
       "31984  [u'hoy', u'es tu d\\xeda', u'votar por', u'hill...        0.000000   \n",
       "31985                     [u'california', u'primaryday']        0.000000   \n",
       "31986  [u'montana', u'corrupt campaign finance system...       -0.125000   \n",
       "31987  [u'ca', u'mt', u'nj', u'nm', u'nd', u'sd', u'r...        0.000000   \n",
       "31988  [u'mexico', u'pm', u'real change', u'old estab...        0.049394   \n",
       "31989                         [u'irs', u'abolishtheirs']        0.000000   \n",
       "31990  [u'rt', u'abcpolitics', u'watch', u'nancypelos...        0.800000   \n",
       "31991  [u'dakota', u'jersey', u'establishment politic...       -0.077273   \n",
       "31992                                            [u'rt']        0.100000   \n",
       "31993  [u'estamos', u'un momento hist\\xf3rico', u'per...        0.000000   \n",
       "31994  [u'marian wright edelman', u'your', u'service ...        0.266667   \n",
       "31995  [u'secret service', u'agent gary byrne', u'cro...       -0.200000   \n",
       "31996                                                 []        0.169444   \n",
       "31997                  [u'california', u'june', u'call']        0.000000   \n",
       "\n",
       "       postedTime_datetime         day week  \n",
       "0      2015-06-04 23:32:23  2015-06-04   23  \n",
       "1      2015-06-04 23:06:04  2015-06-04   23  \n",
       "2      2015-06-04 22:47:32  2015-06-04   23  \n",
       "3      2015-06-04 22:44:17  2015-06-04   23  \n",
       "4      2015-06-04 22:41:33  2015-06-04   23  \n",
       "5      2015-06-04 22:35:37  2015-06-04   23  \n",
       "6      2015-06-04 22:32:26  2015-06-04   23  \n",
       "7      2015-06-04 22:28:37  2015-06-04   23  \n",
       "8      2015-06-04 22:05:05  2015-06-04   23  \n",
       "9      2015-06-04 21:53:05  2015-06-04   23  \n",
       "10     2015-06-04 21:26:09  2015-06-04   23  \n",
       "11     2015-06-04 20:56:37  2015-06-04   23  \n",
       "12     2015-06-04 20:38:28  2015-06-04   23  \n",
       "13     2015-06-04 20:37:27  2015-06-04   23  \n",
       "14     2015-06-04 20:37:02  2015-06-04   23  \n",
       "15     2015-06-04 20:35:06  2015-06-04   23  \n",
       "16     2015-06-04 20:33:15  2015-06-04   23  \n",
       "17     2015-06-04 20:32:27  2015-06-04   23  \n",
       "18     2015-06-04 20:32:18  2015-06-04   23  \n",
       "19     2015-06-04 20:31:47  2015-06-04   23  \n",
       "20     2015-06-04 20:31:16  2015-06-04   23  \n",
       "21     2015-06-04 20:30:40  2015-06-04   23  \n",
       "22     2015-06-04 20:30:07  2015-06-04   23  \n",
       "23     2015-06-04 20:29:27  2015-06-04   23  \n",
       "24     2015-06-04 20:28:19  2015-06-04   23  \n",
       "25     2015-06-04 20:27:34  2015-06-04   23  \n",
       "26     2015-06-04 20:26:43  2015-06-04   23  \n",
       "27     2015-06-04 20:26:36  2015-06-04   23  \n",
       "28     2015-06-04 20:25:53  2015-06-04   23  \n",
       "29     2015-06-04 20:24:58  2015-06-04   23  \n",
       "...                    ...         ...  ...  \n",
       "31968  2016-06-07 18:22:03  2016-06-07   23  \n",
       "31969  2016-06-07 18:21:04  2016-06-07   23  \n",
       "31970  2016-06-07 18:03:18  2016-06-07   23  \n",
       "31971  2016-06-07 17:23:24  2016-06-07   23  \n",
       "31972  2016-06-07 17:19:16  2016-06-07   23  \n",
       "31973  2016-06-07 17:17:41  2016-06-07   23  \n",
       "31974  2016-06-07 17:16:28  2016-06-07   23  \n",
       "31975  2016-06-07 17:16:25  2016-06-07   23  \n",
       "31976  2016-06-07 17:11:30  2016-06-07   23  \n",
       "31977  2016-06-07 16:40:22  2016-06-07   23  \n",
       "31978  2016-06-07 15:45:16  2016-06-07   23  \n",
       "31979  2016-06-07 15:40:59  2016-06-07   23  \n",
       "31980  2016-06-07 15:39:52  2016-06-07   23  \n",
       "31981  2016-06-07 15:34:49  2016-06-07   23  \n",
       "31982  2016-06-07 15:32:03  2016-06-07   23  \n",
       "31983  2016-06-07 15:28:53  2016-06-07   23  \n",
       "31984  2016-06-07 14:56:14  2016-06-07   23  \n",
       "31985  2016-06-07 14:56:07  2016-06-07   23  \n",
       "31986  2016-06-07 14:18:38  2016-06-07   23  \n",
       "31987  2016-06-07 14:00:13  2016-06-07   23  \n",
       "31988  2016-06-07 13:25:05  2016-06-07   23  \n",
       "31989  2016-06-07 13:18:04  2016-06-07   23  \n",
       "31990  2016-06-07 12:47:14  2016-06-07   23  \n",
       "31991  2016-06-07 12:34:53  2016-06-07   23  \n",
       "31992  2016-06-07 12:05:04  2016-06-07   23  \n",
       "31993  2016-06-07 03:32:59  2016-06-07   23  \n",
       "31994  2016-06-07 02:50:45  2016-06-07   23  \n",
       "31995  2016-06-07 02:21:08  2016-06-07   23  \n",
       "31996  2016-06-07 02:11:27  2016-06-07   23  \n",
       "31997  2016-06-07 02:09:08  2016-06-07   23  \n",
       "\n",
       "[31998 rows x 89 columns]"
      ]
     },
     "execution_count": 70,
     "metadata": {},
     "output_type": "execute_result"
    }
   ],
   "source": [
    "tweets=pd.DataFrame.from_csv('datasets/tweets_with_desc.csv')\n",
    "tweets"
   ]
  },
  {
   "cell_type": "code",
   "execution_count": 72,
   "metadata": {
    "collapsed": false
   },
   "outputs": [
    {
     "name": "stdout",
     "output_type": "stream",
     "text": [
      "Bernie Sanders: 0.0214077000162\n",
      "Donald J. Trump: 0.0567727607681\n",
      "Hillary Clinton: 0.0331731459135\n"
     ]
    },
    {
     "name": "stderr",
     "output_type": "stream",
     "text": [
      "/usr/local/lib/python2.7/dist-packages/IPython/kernel/__main__.py:9: SettingWithCopyWarning:\n",
      "\n",
      "\n",
      "A value is trying to be set on a copy of a slice from a DataFrame.\n",
      "Try using .loc[row_indexer,col_indexer] = value instead\n",
      "\n",
      "See the caveats in the documentation: http://pandas.pydata.org/pandas-docs/stable/indexing.html#indexing-view-versus-copy\n",
      "\n"
     ]
    }
   ],
   "source": [
    "\n",
    "data={}\n",
    "traces=[]\n",
    "candidates=['Bernie Sanders', 'Donald J. Trump', 'Hillary Clinton']\n",
    "for candidate in candidates:\n",
    "    candidateTweets=tweets[tweets['displayName']==candidate]\n",
    "    sentimentData=candidateTweets[['mean_sentiment','day']]\n",
    "    data[candidate]=sentimentData\n",
    "    sentimentData['day']=pd.to_datetime(sentimentData['day'])\n",
    "    sentimentData.set_index(sentimentData['day'],inplace=True)\n",
    "    sentimentDataToSave=sentimentData.resample(\"1d\").mean().fillna(0).rolling(window=7, win_type='triang').mean()\n",
    "    print candidate+': '+str(sentimentDataToSave['mean_sentiment'].std())\n",
    "    sentimentDataToSave.to_csv('twitter_sentiment/'+candidate+'.csv')\n",
    "    traces.append(\n",
    "        go.Scatter(\n",
    "            x = sentimentDataToSave.index,\n",
    "            y = sentimentDataToSave['mean_sentiment'],\n",
    "            mode = 'lines',\n",
    "            name = candidate\n",
    "        )\n",
    "    )\n",
    "    "
   ]
  },
  {
   "cell_type": "code",
   "execution_count": 173,
   "metadata": {
    "collapsed": false
   },
   "outputs": [
    {
     "name": "stderr",
     "output_type": "stream",
     "text": [
      "/usr/local/lib/python2.7/dist-packages/requests/packages/urllib3/util/ssl_.py:122: InsecurePlatformWarning:\n",
      "\n",
      "A true SSLContext object is not available. This prevents urllib3 from configuring SSL appropriately and may cause certain SSL connections to fail. You can upgrade to a newer version of Python to solve this. For more information, see https://urllib3.readthedocs.org/en/latest/security.html#insecureplatformwarning.\n",
      "\n"
     ]
    },
    {
     "data": {
      "text/html": [
       "<iframe id=\"igraph\" scrolling=\"no\" style=\"border:none;\" seamless=\"seamless\" src=\"https://plot.ly/~RomanBartusiak/34.embed\" height=\"525px\" width=\"100%\"></iframe>"
      ],
      "text/plain": [
       "<plotly.tools.PlotlyDisplay object>"
      ]
     },
     "execution_count": 173,
     "metadata": {},
     "output_type": "execute_result"
    }
   ],
   "source": [
    "import plotly.plotly as py\n",
    "import plotly.graph_objs as go\n",
    "\n",
    "py.sign_in('RomanBartusiak', 'c10jv3qe0b')\n",
    "py.iplot(traces, filename='scatter-mode')\n",
    "   "
   ]
  },
  {
   "cell_type": "code",
   "execution_count": 83,
   "metadata": {
    "collapsed": true
   },
   "outputs": [],
   "source": [
    "dataToCorelation={}\n",
    "candidates=['Bernie Sanders', 'Donald J. Trump', 'Hillary Clinton']\n",
    "for candidate in candidates:\n",
    "    candidateTweets=tweets[tweets['displayName']==candidate]\n",
    "    \n",
    "    dataToCorelation[candidate]=candidateTweets[['mean_sentiment','day']].groupby(['day']).mean().reset_index()"
   ]
  },
  {
   "cell_type": "code",
   "execution_count": 85,
   "metadata": {
    "collapsed": false
   },
   "outputs": [],
   "source": [
    "\n",
    "cols=[]\n",
    "headers=[]\n",
    "dates=[]\n",
    "for k,v in dataToCorelation.iteritems():\n",
    "    k='Donald Trump' if k=='Donald J. Trump' else k\n",
    "    v[k]=v['mean_sentiment']\n",
    "    dates.append(v['day'])\n",
    "    cols.append(list(v[k]))\n",
    "    headers.append(k+' Twitter')\n",
    "\n"
   ]
  },
  {
   "cell_type": "code",
   "execution_count": 87,
   "metadata": {
    "collapsed": false
   },
   "outputs": [],
   "source": [
    "pickle.dump((cols,headers,dates),open('corelation_twitter.p','wb'))"
   ]
  },
  {
   "cell_type": "code",
   "execution_count": 77,
   "metadata": {
    "collapsed": false
   },
   "outputs": [
    {
     "data": {
      "text/html": [
       "<div>\n",
       "<table border=\"1\" class=\"dataframe\">\n",
       "  <thead>\n",
       "    <tr style=\"text-align: right;\">\n",
       "      <th></th>\n",
       "      <th>Bernie Sanders Twitter</th>\n",
       "      <th>Donald J. Trump Twitter</th>\n",
       "      <th>Hillary Clinton Twitter</th>\n",
       "      <th>Mean</th>\n",
       "    </tr>\n",
       "  </thead>\n",
       "  <tbody>\n",
       "    <tr>\n",
       "      <th>Bernie Sanders Twitter</th>\n",
       "      <td>1.000000</td>\n",
       "      <td>-0.021850</td>\n",
       "      <td>0.007368</td>\n",
       "      <td>0.328506</td>\n",
       "    </tr>\n",
       "    <tr>\n",
       "      <th>Donald J. Trump Twitter</th>\n",
       "      <td>-0.021850</td>\n",
       "      <td>1.000000</td>\n",
       "      <td>0.010884</td>\n",
       "      <td>0.329678</td>\n",
       "    </tr>\n",
       "    <tr>\n",
       "      <th>Hillary Clinton Twitter</th>\n",
       "      <td>0.007368</td>\n",
       "      <td>0.010884</td>\n",
       "      <td>1.000000</td>\n",
       "      <td>0.339417</td>\n",
       "    </tr>\n",
       "  </tbody>\n",
       "</table>\n",
       "</div>"
      ],
      "text/plain": [
       "                         Bernie Sanders Twitter  Donald J. Trump Twitter  \\\n",
       "Bernie Sanders Twitter                 1.000000                -0.021850   \n",
       "Donald J. Trump Twitter               -0.021850                 1.000000   \n",
       "Hillary Clinton Twitter                0.007368                 0.010884   \n",
       "\n",
       "                         Hillary Clinton Twitter      Mean  \n",
       "Bernie Sanders Twitter                  0.007368  0.328506  \n",
       "Donald J. Trump Twitter                 0.010884  0.329678  \n",
       "Hillary Clinton Twitter                 1.000000  0.339417  "
      ]
     },
     "execution_count": 77,
     "metadata": {},
     "output_type": "execute_result"
    }
   ],
   "source": [
    "\n",
    "pearson=pd.DataFrame(cols,headers).transpose().corr('pearson')\n",
    "pearson['Mean']=pearson.mean(axis=1)\n",
    "pearson"
   ]
  },
  {
   "cell_type": "code",
   "execution_count": null,
   "metadata": {
    "collapsed": true
   },
   "outputs": [],
   "source": []
  },
  {
   "cell_type": "code",
   "execution_count": 140,
   "metadata": {
    "collapsed": false
   },
   "outputs": [],
   "source": [
    "for row_id, tweet in tweets.iterrows():\n",
    "    for ent in tweet['entities']:\n",
    "        e = ent['entity']\n",
    "        if e not in entities_count:\n",
    "            entities_count.update({e: 1})\n",
    "        else:\n",
    "            entities_count[e] += 1"
   ]
  },
  {
   "cell_type": "code",
   "execution_count": 181,
   "metadata": {
    "collapsed": false
   },
   "outputs": [],
   "source": [
    "entities_count = {k.strip().encode('ascii','ignore'):v for k, v in entities_count.iteritems() if len(k) > 2 and v > 4}"
   ]
  },
  {
   "cell_type": "code",
   "execution_count": 182,
   "metadata": {
    "collapsed": false
   },
   "outputs": [
    {
     "data": {
      "text/plain": [
       "{': New Hampshire': 6,\n",
       " 'ABC': 47,\n",
       " 'ACA': 6,\n",
       " 'AMERICA': 32,\n",
       " 'AMERICA SAFE': 5,\n",
       " 'Aberdeen': 6,\n",
       " 'Adam': 16,\n",
       " 'Affordable': 12,\n",
       " 'Afghanistan': 10,\n",
       " 'Aiken': 5,\n",
       " 'Alabama': 34,\n",
       " 'Alaska': 10,\n",
       " 'Alberto Gonzales': 5,\n",
       " 'America': 757,\n",
       " \"America's\": 7,\n",
       " 'American': 60,\n",
       " 'American Airlines Center': 5,\n",
       " 'Ames': 16,\n",
       " 'Ames , Iowa': 6,\n",
       " 'Amir Hekmati': 5,\n",
       " 'Amnesty': 6,\n",
       " 'Anderson': 8,\n",
       " 'Antonin Scalia': 7,\n",
       " 'Apple': 7,\n",
       " 'Arizona': 49,\n",
       " 'Arkansas': 12,\n",
       " 'Arnold': 5,\n",
       " 'Assad': 6,\n",
       " 'Atlanta': 24,\n",
       " 'Austin': 5,\n",
       " 'BET': 8,\n",
       " 'BUSH': 7,\n",
       " 'Baltimore': 11,\n",
       " 'Barack Obama': 18,\n",
       " 'Barbara Walters': 5,\n",
       " 'Beijing': 8,\n",
       " 'Ben': 11,\n",
       " 'Ben Carson': 22,\n",
       " 'Benghazi': 17,\n",
       " 'Bern': 31,\n",
       " 'Bernie': 314,\n",
       " 'Bernie Sanders': 331,\n",
       " \"Bernie Sanders's\": 7,\n",
       " 'BernieSanders': 25,\n",
       " 'Biden': 9,\n",
       " 'Big Pharma': 9,\n",
       " 'Bill': 12,\n",
       " 'Bill Clinton': 8,\n",
       " \"Bill O'Reilly\": 9,\n",
       " 'Birmingham': 8,\n",
       " 'Bloomberg': 8,\n",
       " 'Bluffs , Iowa': 5,\n",
       " 'Bob': 8,\n",
       " 'Bob Vander Plaats': 7,\n",
       " 'Bobby Knight': 7,\n",
       " 'Boehner': 7,\n",
       " 'Boston': 17,\n",
       " 'Boulder': 5,\n",
       " 'Breitbart': 11,\n",
       " 'Brooklyn': 26,\n",
       " 'Brussels': 19,\n",
       " 'Buckeye': 11,\n",
       " 'Buckeyes': 7,\n",
       " 'Buckle': 5,\n",
       " 'Buffalo': 5,\n",
       " 'Burlington': 5,\n",
       " 'Bush': 70,\n",
       " 'CARSON': 11,\n",
       " 'CBS': 47,\n",
       " 'CNBC': 27,\n",
       " 'CNN': 369,\n",
       " 'CNN Iowa': 5,\n",
       " 'CRUZ': 17,\n",
       " 'California': 70,\n",
       " 'Camp Cruz': 5,\n",
       " 'Canada': 25,\n",
       " 'Canadian': 5,\n",
       " 'Capitol': 5,\n",
       " 'Carly': 7,\n",
       " 'Carly Fiorina': 24,\n",
       " 'Carolina': 19,\n",
       " 'Caroline': 17,\n",
       " 'Carson': 50,\n",
       " 'Carter': 5,\n",
       " 'Catherine': 16,\n",
       " 'Caucus': 5,\n",
       " 'Cedar Rapids': 14,\n",
       " 'Cedar Rapids , Iowa': 5,\n",
       " 'Central': 5,\n",
       " 'Central America': 7,\n",
       " 'Charleston': 33,\n",
       " 'Charlie Bass': 5,\n",
       " 'Charlotte': 7,\n",
       " 'Chattanooga': 12,\n",
       " 'Chelsea': 5,\n",
       " 'Cheney': 6,\n",
       " 'Chicago': 42,\n",
       " 'China': 47,\n",
       " 'Chip': 10,\n",
       " 'Chris': 9,\n",
       " 'Chris Wallace': 19,\n",
       " 'Christie': 12,\n",
       " 'Chuck Todd': 5,\n",
       " 'Cincinnati': 5,\n",
       " 'Citizens': 13,\n",
       " 'Citizens United': 18,\n",
       " 'Claremont': 9,\n",
       " 'Clemson': 8,\n",
       " 'Cleveland': 20,\n",
       " 'Clinton': 170,\n",
       " 'Colorado': 45,\n",
       " 'Colorado Springs': 5,\n",
       " 'Columbia': 26,\n",
       " 'Columbus': 16,\n",
       " 'Concord': 20,\n",
       " 'Concord , NH': 5,\n",
       " 'Congrats': 22,\n",
       " 'Congress': 9,\n",
       " 'Connecticut': 13,\n",
       " 'Conservative': 20,\n",
       " 'Convention': 7,\n",
       " \"Couldn't\": 9,\n",
       " 'Crooked Hillary': 11,\n",
       " 'Crooked Hillary Clinton': 27,\n",
       " 'Cruz Administration': 5,\n",
       " 'Cruz https': 7,\n",
       " 'Cuba': 33,\n",
       " 'Cuban': 11,\n",
       " 'Cuomo': 7,\n",
       " 'D.C': 6,\n",
       " 'DNC': 5,\n",
       " 'DOJ': 16,\n",
       " 'DONALD': 5,\n",
       " 'DONALD TRUMP': 18,\n",
       " 'Daily': 8,\n",
       " 'Dallas': 28,\n",
       " 'Danny Glover': 5,\n",
       " 'Davenport': 10,\n",
       " 'Davenport , Iowa': 5,\n",
       " 'Dayton': 7,\n",
       " 'Delaware': 8,\n",
       " 'Democrat': 20,\n",
       " 'Democratic': 91,\n",
       " 'Democratic Party': 5,\n",
       " 'Democrats': 13,\n",
       " 'Dems': 12,\n",
       " 'Denver': 9,\n",
       " 'Department': 5,\n",
       " 'Derry': 9,\n",
       " 'Des': 5,\n",
       " 'Des Moines': 71,\n",
       " 'Des Moines , Iowa': 11,\n",
       " 'Des Moines Register': 6,\n",
       " 'Detroit': 23,\n",
       " 'Dodd': 7,\n",
       " 'Don': 9,\n",
       " 'Donald': 116,\n",
       " 'Donald J': 13,\n",
       " 'Donald Trump': 496,\n",
       " \"Donald Trump's\": 30,\n",
       " 'Donald Trumps': 15,\n",
       " 'DonaldTrump': 15,\n",
       " 'Dont': 11,\n",
       " 'Dorchester': 7,\n",
       " 'Dover': 7,\n",
       " 'Drudge': 8,\n",
       " 'Elizabeth Warren': 6,\n",
       " 'Ellen': 5,\n",
       " 'Emma': 9,\n",
       " 'Eric': 7,\n",
       " 'Eric Garner': 6,\n",
       " 'Europe': 13,\n",
       " 'Evansville': 8,\n",
       " 'Exeter': 6,\n",
       " 'Export': 9,\n",
       " 'Exxon': 7,\n",
       " 'FDR': 7,\n",
       " 'FOX': 18,\n",
       " 'Facebook': 16,\n",
       " 'Fair': 5,\n",
       " 'Federal': 5,\n",
       " 'Federal Government': 5,\n",
       " 'Flint': 63,\n",
       " 'Flint , Michigan': 8,\n",
       " 'Florence': 6,\n",
       " 'Florida': 68,\n",
       " 'Fmr': 8,\n",
       " 'Forbes': 8,\n",
       " 'Ford': 8,\n",
       " 'Former': 7,\n",
       " 'Fort Worth': 8,\n",
       " 'Fox': 69,\n",
       " 'Fox Business': 7,\n",
       " 'Fox News': 38,\n",
       " 'France': 8,\n",
       " 'Frank': 8,\n",
       " 'Franklin': 7,\n",
       " 'Freddie Gray': 7,\n",
       " 'Freedom': 5,\n",
       " 'GMA': 21,\n",
       " 'GOP': 221,\n",
       " 'George': 8,\n",
       " 'Georgia': 29,\n",
       " 'Germany': 7,\n",
       " 'Getty': 6,\n",
       " 'Glenn Beck': 6,\n",
       " 'Go Trump': 5,\n",
       " 'Goldman Sachs': 20,\n",
       " 'Goofy Elizabeth Warren': 11,\n",
       " 'Gordon Humphrey': 7,\n",
       " 'Gov': 113,\n",
       " 'Graham': 7,\n",
       " 'Grand Rapids': 6,\n",
       " 'Granite State': 7,\n",
       " 'Greenville': 35,\n",
       " 'Greta': 15,\n",
       " 'Growth': 8,\n",
       " 'Guthrie Center': 5,\n",
       " 'Guy': 5,\n",
       " 'HRC': 28,\n",
       " 'Hampshire': 21,\n",
       " 'Hannity': 52,\n",
       " 'Harriet Tubman': 6,\n",
       " 'Harry Reid': 7,\n",
       " 'Havana': 6,\n",
       " 'Hawaii': 18,\n",
       " \"He's\": 25,\n",
       " 'Heidi': 30,\n",
       " 'Heidi Cruz': 33,\n",
       " 'Henderson': 8,\n",
       " \"Here's\": 16,\n",
       " 'Heritage': 7,\n",
       " 'Hes': 9,\n",
       " 'Hilary': 5,\n",
       " 'Hillary': 6,\n",
       " 'Hillary Clinton': 231,\n",
       " \"Hillary Clinton's\": 14,\n",
       " 'Hillary Clintons': 6,\n",
       " \"Hillary's\": 20,\n",
       " 'HillaryClinton': 14,\n",
       " 'Hillarys': 9,\n",
       " 'Hollywood': 7,\n",
       " 'Hooksett': 5,\n",
       " 'Hope': 39,\n",
       " \"Hope you'll\": 8,\n",
       " 'Hope youll': 6,\n",
       " 'House': 11,\n",
       " 'Houston': 42,\n",
       " 'Hudson': 5,\n",
       " 'Huntsville': 8,\n",
       " \"I'd\": 8,\n",
       " \"I'm\": 98,\n",
       " \"I've\": 77,\n",
       " 'ICE': 7,\n",
       " 'IOWA': 17,\n",
       " 'IRS': 9,\n",
       " 'ISIS': 144,\n",
       " 'Idaho': 19,\n",
       " 'Ill': 41,\n",
       " 'Illinois': 26,\n",
       " 'Import Bank': 9,\n",
       " 'Indiana': 83,\n",
       " 'Indianapolis': 9,\n",
       " 'Iowa': 557,\n",
       " 'Iowa Caucus': 8,\n",
       " 'Iowa City': 22,\n",
       " 'Iowans': 17,\n",
       " 'Iran': 189,\n",
       " 'Iraq': 58,\n",
       " 'Ireland': 6,\n",
       " 'Israel': 94,\n",
       " \"It's\": 67,\n",
       " 'Its': 31,\n",
       " 'Ivanka': 7,\n",
       " 'Ive': 5,\n",
       " 'JEB': 7,\n",
       " 'Jackson': 10,\n",
       " 'Jacksonville': 5,\n",
       " 'Jane Sanders': 6,\n",
       " 'Jeb': 79,\n",
       " 'Jeb Bush': 70,\n",
       " 'Jeff Sessions': 5,\n",
       " 'Jeff Weaver': 5,\n",
       " 'Jefferson': 6,\n",
       " 'Jerusalem': 13,\n",
       " 'Jimmy Carter': 7,\n",
       " 'Jobs': 10,\n",
       " 'Joe': 8,\n",
       " 'Joe McQuaid': 5,\n",
       " 'John': 94,\n",
       " 'John Boehner': 6,\n",
       " 'John Kasich': 417,\n",
       " \"John Kasich doesn't\": 7,\n",
       " \"John Kasich's\": 51,\n",
       " 'John Kasich.https': 12,\n",
       " 'John Kerry': 6,\n",
       " 'John McCain': 15,\n",
       " 'John Roberts': 5,\n",
       " 'John https': 61,\n",
       " 'JohnKasich': 35,\n",
       " \"JohnKasich's\": 7,\n",
       " 'Johnson': 5,\n",
       " 'Jon Stewart': 8,\n",
       " 'Kansas': 24,\n",
       " 'Kasich': 207,\n",
       " \"Kasich's\": 9,\n",
       " 'Keene': 13,\n",
       " 'Keene , NH': 5,\n",
       " 'Kelly': 11,\n",
       " 'Ken': 5,\n",
       " 'Kennedy': 5,\n",
       " 'Kentucky': 24,\n",
       " 'Kerry': 10,\n",
       " 'Keystone': 9,\n",
       " 'Keystone XL': 6,\n",
       " 'Kim Davis': 6,\n",
       " 'Kimmel': 6,\n",
       " 'King': 6,\n",
       " 'Koch': 25,\n",
       " 'LBJ': 5,\n",
       " 'Labor': 10,\n",
       " 'Laconia': 8,\n",
       " 'Las Vegas': 36,\n",
       " 'Las Vegas , Nevada': 5,\n",
       " 'Leadership': 6,\n",
       " \"Let's\": 61,\n",
       " 'Lets': 29,\n",
       " 'Liberty': 8,\n",
       " 'Liberty University': 7,\n",
       " 'Libya': 7,\n",
       " 'Lincoln': 6,\n",
       " 'Lindsey Graham': 12,\n",
       " 'Little': 7,\n",
       " 'Little Marco Rubio': 5,\n",
       " 'Little Rock': 5,\n",
       " 'Londonderry': 9,\n",
       " 'Los Angeles': 7,\n",
       " 'Louis': 10,\n",
       " 'Louisiana': 13,\n",
       " 'Lubbock': 5,\n",
       " 'Lyin': 28,\n",
       " 'MAGA': 5,\n",
       " 'MAKE': 9,\n",
       " 'MSNBC': 95,\n",
       " 'Mackinac': 5,\n",
       " 'Maddow': 8,\n",
       " 'Madison': 18,\n",
       " 'Madison , Wisconsin': 6,\n",
       " 'Maine': 15,\n",
       " 'Manchester': 52,\n",
       " 'Manchester , New Hampshire': 7,\n",
       " 'Marc': 5,\n",
       " 'Marco': 19,\n",
       " 'Marco Rubio': 60,\n",
       " 'Marines': 7,\n",
       " 'Mark Levin': 6,\n",
       " 'Martin Luther King': 5,\n",
       " 'Maryland': 18,\n",
       " 'Mason City': 11,\n",
       " 'Mason City , Iowa': 5,\n",
       " 'Massachusetts': 14,\n",
       " 'McCain': 19,\n",
       " 'McConnell': 10,\n",
       " 'Media': 11,\n",
       " 'Megan': 5,\n",
       " 'Megyn Kelly': 11,\n",
       " 'Melania': 5,\n",
       " 'Memphis': 7,\n",
       " 'Merrimack': 5,\n",
       " 'Mexican': 5,\n",
       " 'Mexico': 61,\n",
       " 'Miami': 18,\n",
       " 'Michigan': 72,\n",
       " 'Mike': 12,\n",
       " 'Mike Lee': 9,\n",
       " 'Mike Pence': 7,\n",
       " 'Milford': 8,\n",
       " 'Milwaukee': 12,\n",
       " 'Minneapolis': 9,\n",
       " 'Minnesota': 7,\n",
       " 'Miss': 5,\n",
       " 'Mississippi': 33,\n",
       " 'Missouri': 15,\n",
       " 'Mitch McConnell': 5,\n",
       " 'Mitt Romney': 25,\n",
       " 'Monmouth': 8,\n",
       " 'Mount Pleasant': 6,\n",
       " 'Mr Trump': 25,\n",
       " 'Murfreesboro': 5,\n",
       " 'Myrtle Beach': 12,\n",
       " 'N.H': 30,\n",
       " 'NAACP': 8,\n",
       " 'NAFTA': 8,\n",
       " 'NASA': 14,\n",
       " 'NATO': 17,\n",
       " 'NBC': 54,\n",
       " 'NRA': 38,\n",
       " 'NRO': 37,\n",
       " 'NYC': 5,\n",
       " 'Nancy Reagan': 5,\n",
       " 'Nashua': 25,\n",
       " 'Nashua , New Hampshire': 6,\n",
       " 'Nashville': 7,\n",
       " 'Nebraska': 13,\n",
       " 'Nevada': 96,\n",
       " 'New': 60,\n",
       " 'New Hampshire': 328,\n",
       " 'New Jersey': 11,\n",
       " 'New Mexico': 10,\n",
       " 'New York': 101,\n",
       " 'New York City': 9,\n",
       " 'New York Times': 14,\n",
       " 'Newsweek': 5,\n",
       " 'Norfolk': 5,\n",
       " 'Normandy': 6,\n",
       " 'North Carolina': 18,\n",
       " 'North Dakota': 10,\n",
       " 'North Korea': 5,\n",
       " \"O'Malley\": 5,\n",
       " 'Oakland': 6,\n",
       " 'Obama': 231,\n",
       " \"Obama's\": 17,\n",
       " 'Obamacare': 18,\n",
       " 'Obamas': 15,\n",
       " 'Ohio': 341,\n",
       " 'Ohioans': 9,\n",
       " 'Oklahoma': 26,\n",
       " 'Olivia': 5,\n",
       " 'Oregon': 24,\n",
       " 'Orlando': 27,\n",
       " 'PAC': 7,\n",
       " 'POTUS': 18,\n",
       " 'Pacific': 5,\n",
       " 'Pacific Partnership': 6,\n",
       " 'Paris': 37,\n",
       " 'Paul': 6,\n",
       " 'Paul Ryan': 10,\n",
       " 'Pelham': 8,\n",
       " 'Pennsylvania': 40,\n",
       " 'Perry': 11,\n",
       " 'Pfizer': 5,\n",
       " 'Phil Robertson': 22,\n",
       " 'Philadelphia': 17,\n",
       " 'Phoenix': 16,\n",
       " 'Pittsburgh': 10,\n",
       " 'Pocahontas': 6,\n",
       " 'Politico': 5,\n",
       " 'Pope': 8,\n",
       " 'Pope Francis': 16,\n",
       " 'Portland': 11,\n",
       " 'Portland , Maine': 8,\n",
       " 'Portsmouth': 24,\n",
       " 'Portsmouth Herald': 5,\n",
       " 'Post': 5,\n",
       " 'Pres': 32,\n",
       " 'Presidential': 6,\n",
       " 'Prez': 7,\n",
       " 'Provo': 8,\n",
       " 'Puerto': 6,\n",
       " 'Puerto Rico': 33,\n",
       " 'Putin': 21,\n",
       " 'Quinnipiac': 9,\n",
       " 'RNC': 14,\n",
       " 'RSVP': 33,\n",
       " 'RUBIO': 11,\n",
       " 'Rachel': 8,\n",
       " 'Rafael Cruz': 8,\n",
       " 'Raleigh': 6,\n",
       " 'Rand Paul': 9,\n",
       " 'Read': 35,\n",
       " 'Reagan': 72,\n",
       " 'Reese': 6,\n",
       " 'Reid': 6,\n",
       " 'Religious Liberty': 11,\n",
       " 'Reno': 14,\n",
       " 'Reno , Nevada': 5,\n",
       " 'Republican': 191,\n",
       " 'Republican Party': 27,\n",
       " 'Republicans': 61,\n",
       " 'Reuters': 14,\n",
       " 'Rhode': 13,\n",
       " 'Rick': 5,\n",
       " 'Rick Perry': 14,\n",
       " 'Rochester': 16,\n",
       " 'Roe': 9,\n",
       " 'Romney': 23,\n",
       " 'Ronald Reagan': 31,\n",
       " 'Roosevelt': 11,\n",
       " 'Rosa': 5,\n",
       " 'Rosa Parks': 6,\n",
       " 'Rove': 8,\n",
       " 'Rubio': 119,\n",
       " 'Rush': 9,\n",
       " 'Rush Limbaugh': 9,\n",
       " 'Russia': 14,\n",
       " 'S.C': 14,\n",
       " 'SCOTUS': 76,\n",
       " 'SEIU': 17,\n",
       " 'SNL': 9,\n",
       " 'Saeed Abedini': 6,\n",
       " 'Said': 5,\n",
       " 'Salem': 16,\n",
       " 'San': 10,\n",
       " 'San Antonio': 5,\n",
       " 'San Bernardino': 11,\n",
       " 'San Diego': 7,\n",
       " 'San Francisco': 7,\n",
       " 'San Jose': 6,\n",
       " 'Sanders': 173,\n",
       " 'Sandra Bland': 8,\n",
       " 'Sandy Hook': 5,\n",
       " 'Sarah': 5,\n",
       " 'Saudi Arabia': 7,\n",
       " 'Savannah': 5,\n",
       " 'Scalia': 12,\n",
       " 'Schwarzenegger': 33,\n",
       " 'Scotland': 13,\n",
       " 'Scott Walker': 14,\n",
       " 'Seattle': 9,\n",
       " 'Sec': 14,\n",
       " 'Security': 23,\n",
       " 'Sen': 135,\n",
       " 'Sen Ted Cruz': 6,\n",
       " 'Senate': 18,\n",
       " \"She's\": 12,\n",
       " 'Shes': 5,\n",
       " 'Sioux City': 17,\n",
       " 'Sioux City , Iowa': 7,\n",
       " 'Snyder': 9,\n",
       " 'Social': 19,\n",
       " 'Social Security': 51,\n",
       " 'South': 16,\n",
       " 'South Carolina': 165,\n",
       " 'South Dakota': 5,\n",
       " 'Spartanburg': 5,\n",
       " 'Springfield': 5,\n",
       " 'State': 28,\n",
       " 'States': 20,\n",
       " 'Steve': 5,\n",
       " 'Steve King': 12,\n",
       " 'Stevens': 5,\n",
       " 'Stuart Stevens': 6,\n",
       " 'Super': 10,\n",
       " 'Supreme': 7,\n",
       " 'Syracuse': 7,\n",
       " 'Syria': 23,\n",
       " 'TED': 12,\n",
       " 'TEXANS': 5,\n",
       " 'Tampa': 5,\n",
       " 'Ted': 67,\n",
       " 'Ted Cruz': 753,\n",
       " 'Ted Cruz https': 41,\n",
       " \"Ted Cruz's\": 39,\n",
       " 'Ted Cruzs': 22,\n",
       " 'TedCruz': 14,\n",
       " 'Teddy Roosevelt': 6,\n",
       " 'Tell': 6,\n",
       " 'Tennessee': 12,\n",
       " 'Texans': 21,\n",
       " 'Texas': 173,\n",
       " \"That's\": 18,\n",
       " 'Thats': 8,\n",
       " 'The': 9,\n",
       " \"There's\": 13,\n",
       " 'Thx': 8,\n",
       " 'Tim Macy': 5,\n",
       " 'Tom Brady': 8,\n",
       " 'Tom Moe': 6,\n",
       " 'Trump': 14,\n",
       " 'Trump University': 16,\n",
       " 'Trump https': 9,\n",
       " \"Trump's\": 7,\n",
       " 'Tulsa': 12,\n",
       " 'Tupelo': 5,\n",
       " 'Twitter': 16,\n",
       " 'U.S': 105,\n",
       " 'U.S .': 5,\n",
       " 'U.S . Senate': 6,\n",
       " 'U.S.A': 6,\n",
       " 'USA': 43,\n",
       " 'Ukraine': 11,\n",
       " 'Union': 6,\n",
       " 'United': 27,\n",
       " 'United States': 164,\n",
       " 'United States of America': 13,\n",
       " 'Univision': 23,\n",
       " 'Urbandale': 5,\n",
       " 'Utah': 56,\n",
       " 'Vegas': 15,\n",
       " 'Verizon': 5,\n",
       " 'Vermont': 28,\n",
       " 'Veterans': 25,\n",
       " 'Vets': 6,\n",
       " 'Vietnam': 8,\n",
       " 'Virginia': 33,\n",
       " 'WHO': 5,\n",
       " 'WIN': 21,\n",
       " 'Wade': 8,\n",
       " 'Walker': 18,\n",
       " 'Wall': 39,\n",
       " 'Walmart': 5,\n",
       " 'Walton': 6,\n",
       " 'Washington': 189,\n",
       " 'Washington Post': 5,\n",
       " 'Watch': 5,\n",
       " 'Waterloo': 6,\n",
       " \"We'll\": 12,\n",
       " \"We're\": 32,\n",
       " \"We've\": 56,\n",
       " 'Were': 17,\n",
       " 'West': 8,\n",
       " 'West Des Moines': 9,\n",
       " 'West Virginia': 7,\n",
       " 'White': 33,\n",
       " 'White House': 6,\n",
       " 'WhiteHouse': 7,\n",
       " 'Will': 139,\n",
       " 'Will Fox': 5,\n",
       " 'Wilton': 6,\n",
       " 'Wisconsin': 130,\n",
       " 'Wolfeboro': 6,\n",
       " 'Wyoming': 34,\n",
       " 'YOU': 5,\n",
       " 'York': 34,\n",
       " 'Yorktown': 6,\n",
       " \"You've\": 8,\n",
       " 'YouTube': 9,\n",
       " 'abt': 19,\n",
       " \"aren't\": 5,\n",
       " 'cant': 14,\n",
       " 'cnn': 9,\n",
       " \"didn't\": 9,\n",
       " \"doesn't\": 10,\n",
       " 'doesnt': 7,\n",
       " 'dont': 7,\n",
       " 'greta': 36,\n",
       " \"hasn't\": 5,\n",
       " \"haven't\": 9,\n",
       " \"he'll\": 6,\n",
       " \"he's\": 41,\n",
       " 'hes': 14,\n",
       " 'htt': 17,\n",
       " 'https': 5,\n",
       " 'illegals': 6,\n",
       " \"isn't\": 11,\n",
       " 'isnt': 5,\n",
       " \"it's\": 22,\n",
       " 'its': 12,\n",
       " \"let's\": 17,\n",
       " 'lets': 5,\n",
       " 'maddow': 16,\n",
       " 'madeleine': 9,\n",
       " 'msnbc': 9,\n",
       " 'nbc': 9,\n",
       " 'netanyahu': 8,\n",
       " 'of Education': 6,\n",
       " 'pharma': 6,\n",
       " 'ppl': 22,\n",
       " 'realDonaldTrump': 27,\n",
       " 'sanders': 5,\n",
       " 'scot': 6,\n",
       " \"she's\": 14,\n",
       " 'shes': 7,\n",
       " \"shouldn't\": 22,\n",
       " 'tedcruz': 59,\n",
       " \"that's\": 11,\n",
       " 'thats': 7,\n",
       " \"there's\": 16,\n",
       " \"they're\": 6,\n",
       " \"they've\": 6,\n",
       " \"today's\": 7,\n",
       " \"tonight's\": 11,\n",
       " 'tonights': 6,\n",
       " \"we'll\": 12,\n",
       " \"we're\": 24,\n",
       " \"we've\": 36,\n",
       " 'well': 8,\n",
       " 'were': 16,\n",
       " 'weve': 16,\n",
       " \"who's\": 33,\n",
       " \"who've\": 6,\n",
       " 'whos': 5,\n",
       " \"y'all\": 6,\n",
       " \"you'll\": 20,\n",
       " \"you've\": 28,\n",
       " 'you.https': 6,\n",
       " 'youll': 5,\n",
       " 'youre': 17,\n",
       " 'youve': 6}"
      ]
     },
     "execution_count": 182,
     "metadata": {},
     "output_type": "execute_result"
    }
   ],
   "source": [
    "entities_count"
   ]
  },
  {
   "cell_type": "code",
   "execution_count": 183,
   "metadata": {
    "collapsed": false
   },
   "outputs": [
    {
     "data": {
      "text/plain": [
       "689"
      ]
     },
     "execution_count": 183,
     "metadata": {},
     "output_type": "execute_result"
    }
   ],
   "source": [
    "len(entities_count)"
   ]
  },
  {
   "cell_type": "code",
   "execution_count": 136,
   "metadata": {
    "collapsed": false
   },
   "outputs": [],
   "source": [
    "for row_id, tweet in tweets.iterrows():\n",
    "    for ent in tweet['entities']:\n",
    "        if ent['entity'] not in entities:\n",
    "            entities[ent['entity']].update({})"
   ]
  },
  {
   "cell_type": "code",
   "execution_count": 148,
   "metadata": {
    "collapsed": false
   },
   "outputs": [
    {
     "name": "stdout",
     "output_type": "stream",
     "text": [
      "Collecting wordcloud\n",
      "/usr/local/lib/python2.7/dist-packages/pip/_vendor/requests/packages/urllib3/util/ssl_.py:315: SNIMissingWarning: An HTTPS request has been made, but the SNI (Subject Name Indication) extension to TLS is not available on this platform. This may cause the server to present an incorrect TLS certificate, which can cause validation failures. For more information, see https://urllib3.readthedocs.org/en/latest/security.html#snimissingwarning.\n",
      "  SNIMissingWarning\n",
      "/usr/local/lib/python2.7/dist-packages/pip/_vendor/requests/packages/urllib3/util/ssl_.py:120: InsecurePlatformWarning: A true SSLContext object is not available. This prevents urllib3 from configuring SSL appropriately and may cause certain SSL connections to fail. For more information, see https://urllib3.readthedocs.org/en/latest/security.html#insecureplatformwarning.\n",
      "  InsecurePlatformWarning\n",
      "  Using cached wordcloud-1.2.1.tar.gz\n",
      "Building wheels for collected packages: wordcloud\n",
      "  Running setup.py bdist_wheel for wordcloud ... \u001b[?25l-\b \b\\\b \bdone\n",
      "\u001b[?25h  Stored in directory: /root/.cache/pip/wheels/29/9a/a9/86dcbbd5a7b6ace25887e4351a0136ea6dfcc0dd7de0a51357\n",
      "Successfully built wordcloud\n",
      "Installing collected packages: wordcloud\n",
      "Successfully installed wordcloud-1.2.1\n",
      "\u001b[33mYou are using pip version 8.1.0, however version 8.1.2 is available.\n",
      "You should consider upgrading via the 'pip install --upgrade pip' command.\u001b[0m\n"
     ]
    }
   ],
   "source": [
    "!pip2 install wordcloud"
   ]
  },
  {
   "cell_type": "code",
   "execution_count": 149,
   "metadata": {
    "collapsed": false
   },
   "outputs": [],
   "source": [
    "from wordcloud import WordCloud"
   ]
  },
  {
   "cell_type": "code",
   "execution_count": 184,
   "metadata": {
    "collapsed": false
   },
   "outputs": [
    {
     "ename": "ValueError",
     "evalue": "could not convert string to float: y",
     "output_type": "error",
     "traceback": [
      "\u001b[1;31m---------------------------------------------------------------------------\u001b[0m",
      "\u001b[1;31mValueError\u001b[0m                                Traceback (most recent call last)",
      "\u001b[1;32m<ipython-input-184-271f4af3759c>\u001b[0m in \u001b[0;36m<module>\u001b[1;34m()\u001b[0m\n\u001b[1;32m----> 1\u001b[1;33m \u001b[0mwordcloud\u001b[0m \u001b[1;33m=\u001b[0m \u001b[0mWordCloud\u001b[0m\u001b[1;33m(\u001b[0m\u001b[0mbackground_color\u001b[0m\u001b[1;33m=\u001b[0m\u001b[1;34m\"white\"\u001b[0m\u001b[1;33m)\u001b[0m\u001b[1;33m.\u001b[0m\u001b[0mgenerate_from_frequencies\u001b[0m\u001b[1;33m(\u001b[0m\u001b[0mentities_count\u001b[0m\u001b[1;33m)\u001b[0m\u001b[1;33m\u001b[0m\u001b[0m\n\u001b[0m",
      "\u001b[1;32m/usr/local/lib/python2.7/dist-packages/wordcloud/wordcloud.pyc\u001b[0m in \u001b[0;36mgenerate_from_frequencies\u001b[1;34m(self, frequencies)\u001b[0m\n\u001b[0;32m    264\u001b[0m         \u001b[0mfrequencies\u001b[0m \u001b[1;33m=\u001b[0m \u001b[0mfrequencies\u001b[0m\u001b[1;33m[\u001b[0m\u001b[1;33m:\u001b[0m\u001b[0mself\u001b[0m\u001b[1;33m.\u001b[0m\u001b[0mmax_words\u001b[0m\u001b[1;33m]\u001b[0m\u001b[1;33m\u001b[0m\u001b[0m\n\u001b[0;32m    265\u001b[0m         \u001b[1;31m# largest entry will be 1\u001b[0m\u001b[1;33m\u001b[0m\u001b[1;33m\u001b[0m\u001b[0m\n\u001b[1;32m--> 266\u001b[1;33m         \u001b[0mmax_frequency\u001b[0m \u001b[1;33m=\u001b[0m \u001b[0mfloat\u001b[0m\u001b[1;33m(\u001b[0m\u001b[0mfrequencies\u001b[0m\u001b[1;33m[\u001b[0m\u001b[1;36m0\u001b[0m\u001b[1;33m]\u001b[0m\u001b[1;33m[\u001b[0m\u001b[1;36m1\u001b[0m\u001b[1;33m]\u001b[0m\u001b[1;33m)\u001b[0m\u001b[1;33m\u001b[0m\u001b[0m\n\u001b[0m\u001b[0;32m    267\u001b[0m \u001b[1;33m\u001b[0m\u001b[0m\n\u001b[0;32m    268\u001b[0m         \u001b[0mfrequencies\u001b[0m \u001b[1;33m=\u001b[0m \u001b[1;33m[\u001b[0m \u001b[1;33m(\u001b[0m\u001b[0mword\u001b[0m\u001b[1;33m,\u001b[0m \u001b[0mfreq\u001b[0m \u001b[1;33m/\u001b[0m \u001b[0mmax_frequency\u001b[0m\u001b[1;33m)\u001b[0m \u001b[1;32mfor\u001b[0m \u001b[0mword\u001b[0m\u001b[1;33m,\u001b[0m \u001b[0mfreq\u001b[0m \u001b[1;32min\u001b[0m \u001b[0mfrequencies\u001b[0m \u001b[1;33m]\u001b[0m\u001b[1;33m\u001b[0m\u001b[0m\n",
      "\u001b[1;31mValueError\u001b[0m: could not convert string to float: y"
     ]
    }
   ],
   "source": [
    "wordcloud = WordCloud(background_color=\"white\").generate_from_frequencies(entities_count)"
   ]
  },
  {
   "cell_type": "code",
   "execution_count": null,
   "metadata": {
    "collapsed": true
   },
   "outputs": [],
   "source": [
    "# def draw_wc_filtered(df, top_n=10, save=False, agg_col=u'Quantity'): \n",
    "#     df = pd.DataFrame(df.groupby(u'Group').sum()[agg_col]).sort(\n",
    "#         agg_col, ascending=False).ix[:top_n].reset_index()\n",
    "#     df.Group = df.Group.apply(lambda x: x.split(' - ')[1])\n",
    "#     counts = [((x[1]['Group'].decode('utf-8'), x[1][agg_col])) for x in df.iterrows()]\n",
    "# #     print counts\n",
    "#     wordcloud = WordCloud(background_color=\"white\").generate_from_frequencies(counts)\n",
    "#     plt.figure(figsize=(9, 12))\n",
    "#     plt.imshow(wordcloud)\n",
    "#     plt.axis(\"off\")\n",
    "#     plt.show()\n",
    "#     if save:\n",
    "#         plt.savefig('wc/{}.png'.format(save))"
   ]
  },
  {
   "cell_type": "code",
   "execution_count": 221,
   "metadata": {
    "collapsed": false
   },
   "outputs": [],
   "source": [
    "\n"
   ]
  },
  {
   "cell_type": "code",
   "execution_count": 241,
   "metadata": {
    "collapsed": false
   },
   "outputs": [],
   "source": [
    "def tweet_to_sentiments(t):\n",
    "    text=get_sentiment(t['text'])\n",
    "    text= reduce(lambda x, y: float(x) + float(y), text,0.0) / len(text) if text else 0.0\n",
    "    responses_sentiment=map(lambda s:reduce(lambda x, y: x + y, s,0.0) / len(s),map(get_sentiment,map(lambda x:x['text'],t['responses'])))\n",
    "    response_mean=reduce(lambda x, y: x + y, responses_sentiment,0.0) / len(responses_sentiment) if responses_sentiment else 0.0\n",
    "    return {'text_sentiment':text,'responses_sentiment':responses_sentiment,'diff':text-response_mean}\n",
    "users=[('BernieSanders','Bernie Sanders'),('realDonaldTrump','Donald J. Trump'),('HillaryClinton','Hillary Clinton')]\n",
    "data=[]\n",
    "tracks=[]\n",
    "for user,title in users:\n",
    "    user_tweets=pickle.load(open('tweets/'+user+'.p','rb'))\n",
    "    userData=map(tweet_to_sentiments,user_tweets)\n",
    "    diff=map(lambda x:x['diff'],userData)\n",
    "    data.append((user,title,userData,diff))\n",
    "    tracks.append(\n",
    "    go.Histogram(\n",
    "        x=diff,\n",
    "        name=title\n",
    "    ))"
   ]
  },
  {
   "cell_type": "code",
   "execution_count": 250,
   "metadata": {
    "collapsed": false
   },
   "outputs": [],
   "source": [
    "def to_cumulative(data):\n",
    "    values, base = np.histogram(data, bins=40)\n",
    "    cumulative = np.cumsum(values)\n",
    "    return base[:-1], cumulative\n",
    "\n",
    "def to_plot(data):\n",
    "    x,y=to_cumulative(data[3])\n",
    "    return go.Scatter(\n",
    "        y=y,\n",
    "        x=x,\n",
    "        name=data[1]\n",
    "    )\n",
    "cumulative=map(to_plot ,data)"
   ]
  },
  {
   "cell_type": "code",
   "execution_count": 251,
   "metadata": {
    "collapsed": false
   },
   "outputs": [
    {
     "name": "stderr",
     "output_type": "stream",
     "text": [
      "/usr/local/lib/python2.7/dist-packages/requests/packages/urllib3/util/ssl_.py:122: InsecurePlatformWarning:\n",
      "\n",
      "A true SSLContext object is not available. This prevents urllib3 from configuring SSL appropriately and may cause certain SSL connections to fail. You can upgrade to a newer version of Python to solve this. For more information, see https://urllib3.readthedocs.org/en/latest/security.html#insecureplatformwarning.\n",
      "\n"
     ]
    },
    {
     "data": {
      "text/html": [
       "<iframe id=\"igraph\" scrolling=\"no\" style=\"border:none;\" seamless=\"seamless\" src=\"https://plot.ly/~RomanBartusiak/58.embed\" height=\"525px\" width=\"100%\"></iframe>"
      ],
      "text/plain": [
       "<plotly.tools.PlotlyDisplay object>"
      ]
     },
     "execution_count": 251,
     "metadata": {},
     "output_type": "execute_result"
    }
   ],
   "source": [
    "py.iplot(cumulative)"
   ]
  }
 ],
 "metadata": {
  "kernelspec": {
   "display_name": "Python 2",
   "language": "python",
   "name": "python2"
  },
  "language_info": {
   "codemirror_mode": {
    "name": "ipython",
    "version": 2
   },
   "file_extension": ".py",
   "mimetype": "text/x-python",
   "name": "python",
   "nbconvert_exporter": "python",
   "pygments_lexer": "ipython2",
   "version": "2.7.6"
  }
 },
 "nbformat": 4,
 "nbformat_minor": 0
}
