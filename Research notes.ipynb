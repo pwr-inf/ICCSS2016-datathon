{
 "cells": [
  {
   "cell_type": "markdown",
   "metadata": {},
   "source": [
    "#Tasks\n",
    "\n",
    "1. define \"outsider\"\n",
    "2. crawl data\n",
    "3. \n",
    "\n",
    "# Reaserch questions\n",
    "\n",
    "1. voting vs social behavior\n",
    "2. Is election a matchin with minimal distance to siciety needs\n",
    "3. Is the election an evaluation of the current state of the society\n",
    "4. What is the dynamics of the political exped of society?\n",
    "\n",
    "#Ideas\n",
    "\n",
    "1. FB pages sentiment distribution comparission\n",
    "    1. Trump: Populist, controversary\n",
    "    2. Hilary: \n",
    "    3. Bernie: \n",
    "2. predicting results of elections\n",
    "3. Candidate classification using historical data from wikipedia\n",
    "4. Bernie is out because he was an outsider? \n",
    "\n"
   ]
  }
 ],
 "metadata": {
  "kernelspec": {
   "display_name": "Python 2",
   "language": "python",
   "name": "python2"
  },
  "language_info": {
   "codemirror_mode": {
    "name": "ipython",
    "version": 2
   },
   "file_extension": ".py",
   "mimetype": "text/x-python",
   "name": "python",
   "nbconvert_exporter": "python",
   "pygments_lexer": "ipython2",
   "version": "2.7.6"
  }
 },
 "nbformat": 4,
 "nbformat_minor": 0
}
