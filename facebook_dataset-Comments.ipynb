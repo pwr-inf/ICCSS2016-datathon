{
 "cells": [
  {
   "cell_type": "code",
   "execution_count": 1,
   "metadata": {
    "collapsed": false
   },
   "outputs": [],
   "source": [
    "import pandas as pd\n",
    "import numpy as np\n",
    "import json\n",
    "from polyglot.text import Text\n",
    "from polyglot.downloader import downloader\n"
   ]
  },
  {
   "cell_type": "raw",
   "metadata": {
    "collapsed": false
   },
   "source": [
    "tweets = []\n",
    "for line in open('datasets/twitter/cache-0-json.gz.1.json','rb'):\n",
    "    tweets.append(json.loads(line))"
   ]
  },
  {
   "cell_type": "code",
   "execution_count": 4,
   "metadata": {
    "collapsed": false
   },
   "outputs": [
    {
     "data": {
      "text/html": [
       "<div>\n",
       "<table border=\"1\" class=\"dataframe\">\n",
       "  <thead>\n",
       "    <tr style=\"text-align: right;\">\n",
       "      <th></th>\n",
       "      <th>id</th>\n",
       "      <th>post_id</th>\n",
       "      <th>page_id</th>\n",
       "      <th>fb_id</th>\n",
       "      <th>message</th>\n",
       "      <th>created_time</th>\n",
       "    </tr>\n",
       "  </thead>\n",
       "  <tbody>\n",
       "    <tr>\n",
       "      <th>1040355</th>\n",
       "      <td>1.726614e+15</td>\n",
       "      <td>10156643871935725</td>\n",
       "      <td>1.530806e+11</td>\n",
       "      <td>1.020863e+16</td>\n",
       "      <td>Yes, tired of \"media\" debates causing controve...</td>\n",
       "      <td>2016-02-15 08:31:46</td>\n",
       "    </tr>\n",
       "    <tr>\n",
       "      <th>1663415</th>\n",
       "      <td>9.243567e+14</td>\n",
       "      <td>924335370956326</td>\n",
       "      <td>8.893079e+14</td>\n",
       "      <td>1.020568e+16</td>\n",
       "      <td>https://www.facebook.com/photo.php?fbid=102057...</td>\n",
       "      <td>2015-06-11 21:05:18</td>\n",
       "    </tr>\n",
       "    <tr>\n",
       "      <th>1156720</th>\n",
       "      <td>1.015666e+16</td>\n",
       "      <td>10156655212180725</td>\n",
       "      <td>1.530806e+11</td>\n",
       "      <td>1.535945e+15</td>\n",
       "      <td>Ted Cruz is full of vicious lies and comments....</td>\n",
       "      <td>2016-02-18 11:22:12</td>\n",
       "    </tr>\n",
       "    <tr>\n",
       "      <th>4105</th>\n",
       "      <td>9.766945e+06</td>\n",
       "      <td>241443930926</td>\n",
       "      <td>1.530806e+11</td>\n",
       "      <td>1.145239e+15</td>\n",
       "      <td>DEAR DONALD TRUMP, MY NAME IS KEVIN ZARBAILOV ...</td>\n",
       "      <td>2010-01-16 13:22:12</td>\n",
       "    </tr>\n",
       "    <tr>\n",
       "      <th>845099</th>\n",
       "      <td>1.015663e+16</td>\n",
       "      <td>10156626755220725</td>\n",
       "      <td>1.530806e+11</td>\n",
       "      <td>1.020447e+16</td>\n",
       "      <td>YOU ROCK&lt; please read this..........A Man Name...</td>\n",
       "      <td>2016-02-10 23:40:53</td>\n",
       "    </tr>\n",
       "    <tr>\n",
       "      <th>1535763</th>\n",
       "      <td>7.351590e+14</td>\n",
       "      <td>735136679874672</td>\n",
       "      <td>1.249556e+14</td>\n",
       "      <td>1.020786e+16</td>\n",
       "      <td>&lt;3</td>\n",
       "      <td>2014-11-05 00:39:24</td>\n",
       "    </tr>\n",
       "    <tr>\n",
       "      <th>699063</th>\n",
       "      <td>1.757738e+15</td>\n",
       "      <td>10156613640555725</td>\n",
       "      <td>1.530806e+11</td>\n",
       "      <td>1.020758e+16</td>\n",
       "      <td>I am Italian and not vote for the US elections...</td>\n",
       "      <td>2016-02-07 07:12:28</td>\n",
       "    </tr>\n",
       "    <tr>\n",
       "      <th>1650100</th>\n",
       "      <td>9.652456e+14</td>\n",
       "      <td>1021780391210298</td>\n",
       "      <td>1.249556e+14</td>\n",
       "      <td>1.029515e+15</td>\n",
       "      <td>\"Who decided you don't got enough to teach chi...</td>\n",
       "      <td>2016-04-05 03:03:31</td>\n",
       "    </tr>\n",
       "    <tr>\n",
       "      <th>1339914</th>\n",
       "      <td>1.015667e+16</td>\n",
       "      <td>10156670359400725</td>\n",
       "      <td>1.530806e+11</td>\n",
       "      <td>1.020337e+16</td>\n",
       "      <td>Go Trump!!,you're the only one id,want in thete</td>\n",
       "      <td>2016-02-22 06:49:27</td>\n",
       "    </tr>\n",
       "    <tr>\n",
       "      <th>108798</th>\n",
       "      <td>3.493647e+07</td>\n",
       "      <td>10152061786825725</td>\n",
       "      <td>1.530806e+11</td>\n",
       "      <td>1.053436e+15</td>\n",
       "      <td>because they can and we as the little people c...</td>\n",
       "      <td>2012-08-30 23:55:20</td>\n",
       "    </tr>\n",
       "  </tbody>\n",
       "</table>\n",
       "</div>"
      ],
      "text/plain": [
       "                   id            post_id       page_id         fb_id  \\\n",
       "1040355  1.726614e+15  10156643871935725  1.530806e+11  1.020863e+16   \n",
       "1663415  9.243567e+14    924335370956326  8.893079e+14  1.020568e+16   \n",
       "1156720  1.015666e+16  10156655212180725  1.530806e+11  1.535945e+15   \n",
       "4105     9.766945e+06       241443930926  1.530806e+11  1.145239e+15   \n",
       "845099   1.015663e+16  10156626755220725  1.530806e+11  1.020447e+16   \n",
       "1535763  7.351590e+14    735136679874672  1.249556e+14  1.020786e+16   \n",
       "699063   1.757738e+15  10156613640555725  1.530806e+11  1.020758e+16   \n",
       "1650100  9.652456e+14   1021780391210298  1.249556e+14  1.029515e+15   \n",
       "1339914  1.015667e+16  10156670359400725  1.530806e+11  1.020337e+16   \n",
       "108798   3.493647e+07  10152061786825725  1.530806e+11  1.053436e+15   \n",
       "\n",
       "                                                   message  \\\n",
       "1040355  Yes, tired of \"media\" debates causing controve...   \n",
       "1663415  https://www.facebook.com/photo.php?fbid=102057...   \n",
       "1156720  Ted Cruz is full of vicious lies and comments....   \n",
       "4105     DEAR DONALD TRUMP, MY NAME IS KEVIN ZARBAILOV ...   \n",
       "845099   YOU ROCK< please read this..........A Man Name...   \n",
       "1535763                                                 <3   \n",
       "699063   I am Italian and not vote for the US elections...   \n",
       "1650100  \"Who decided you don't got enough to teach chi...   \n",
       "1339914    Go Trump!!,you're the only one id,want in thete   \n",
       "108798   because they can and we as the little people c...   \n",
       "\n",
       "                created_time  \n",
       "1040355  2016-02-15 08:31:46  \n",
       "1663415  2015-06-11 21:05:18  \n",
       "1156720  2016-02-18 11:22:12  \n",
       "4105     2010-01-16 13:22:12  \n",
       "845099   2016-02-10 23:40:53  \n",
       "1535763  2014-11-05 00:39:24  \n",
       "699063   2016-02-07 07:12:28  \n",
       "1650100  2016-04-05 03:03:31  \n",
       "1339914  2016-02-22 06:49:27  \n",
       "108798   2012-08-30 23:55:20  "
      ]
     },
     "execution_count": 4,
     "metadata": {},
     "output_type": "execute_result"
    }
   ],
   "source": [
    "tweets=pd.read_csv('datasets/facebook/allcomment.csv', index_col=0, encoding='utf8', engine='python')\n",
    "tweets = tweets[~pd.isnull(tweets.message)]\n",
    "\n",
    "del tweets['can_remove']\n",
    "tweets.sample(10)"
   ]
  },
  {
   "cell_type": "code",
   "execution_count": null,
   "metadata": {
    "collapsed": false
   },
   "outputs": [],
   "source": [
    "print len(tweets)"
   ]
  },
  {
   "cell_type": "code",
   "execution_count": null,
   "metadata": {
    "collapsed": false
   },
   "outputs": [],
   "source": [
    "from wordcloud import WordCloud\n",
    "import matplotlib.pylab as plt\n",
    "%matplotlib inline\n",
    "text = \" \".join([x.encode('utf-8').strip() for x in tweets['message']])\n",
    "wordcloud = WordCloud(background_color='white').generate(text)\n",
    "plt.figure(figsize=(15, 20))\n",
    "plt.imshow(wordcloud)\n",
    "plt.axis('off')\n",
    "plt.show()"
   ]
  },
  {
   "cell_type": "code",
   "execution_count": null,
   "metadata": {
    "collapsed": false
   },
   "outputs": [],
   "source": [
    "len(text.split(\" \"))"
   ]
  },
  {
   "cell_type": "code",
   "execution_count": null,
   "metadata": {
    "collapsed": false
   },
   "outputs": [],
   "source": [
    "def get_sentiment(e):\n",
    "    try:\n",
    "        pos=e.positive_sentiment\n",
    "        neg=e.negative_sentiment\n",
    "        return pos,neg\n",
    "    except:\n",
    "        return '',''\n",
    "\n",
    "def map_entity(e):\n",
    "    pos,neg=get_sentiment(e)\n",
    "    return {'tag':e.tag,'entity':\" \".join(e),'pos':pos,'neg':neg}\n",
    "\n",
    "def get_entites(text):\n",
    "    try:\n",
    "        polyglot_text=Text(text)\n",
    "        entities=polyglot_text.entities\n",
    "        return map(map_entity,entities)\n",
    "    except:\n",
    "        return []\n",
    "     \n",
    "def map_to_data(tweet):\n",
    "    user_name=tweet['user']['name']\n",
    "    text=tweet['text']\n",
    "    return {'text':text,'user':user_name,'entities':get_entites(text)}"
   ]
  },
  {
   "cell_type": "code",
   "execution_count": null,
   "metadata": {
    "collapsed": false,
    "scrolled": true
   },
   "outputs": [],
   "source": [
    "tweets['entities']=tweets['message'].map(get_entites)"
   ]
  },
  {
   "cell_type": "code",
   "execution_count": 7,
   "metadata": {
    "collapsed": false
   },
   "outputs": [
    {
     "data": {
      "text/html": [
       "<div>\n",
       "<table border=\"1\" class=\"dataframe\">\n",
       "  <thead>\n",
       "    <tr style=\"text-align: right;\">\n",
       "      <th></th>\n",
       "      <th>id</th>\n",
       "      <th>post_id</th>\n",
       "      <th>page_id</th>\n",
       "      <th>page_name</th>\n",
       "      <th>fb_id</th>\n",
       "      <th>fb_name</th>\n",
       "      <th>message</th>\n",
       "      <th>created_time</th>\n",
       "    </tr>\n",
       "  </thead>\n",
       "  <tbody>\n",
       "    <tr>\n",
       "      <th>1591830</th>\n",
       "      <td>8.481877e+14</td>\n",
       "      <td>847706408617698</td>\n",
       "      <td>1.249556e+14</td>\n",
       "      <td>Bernie Sanders</td>\n",
       "      <td>1.160356e+15</td>\n",
       "      <td>NaN</td>\n",
       "      <td>\"the all\" is not part of their lexicon.</td>\n",
       "      <td>2015-06-09 20:44:13</td>\n",
       "    </tr>\n",
       "    <tr>\n",
       "      <th>1497600</th>\n",
       "      <td>6.536537e+14</td>\n",
       "      <td>653482638040077</td>\n",
       "      <td>1.249556e+14</td>\n",
       "      <td>Bernie Sanders</td>\n",
       "      <td>1.015346e+16</td>\n",
       "      <td>NaN</td>\n",
       "      <td>and E. Warren;   Willie MUST be kept clear of ...</td>\n",
       "      <td>2014-05-16 07:57:14</td>\n",
       "    </tr>\n",
       "    <tr>\n",
       "      <th>1422917</th>\n",
       "      <td>1.015668e+16</td>\n",
       "      <td>10156680114785725</td>\n",
       "      <td>1.530806e+11</td>\n",
       "      <td>Donald Trump</td>\n",
       "      <td>1.020421e+16</td>\n",
       "      <td>NaN</td>\n",
       "      <td>I heard Cruz LIE about Trump on O'Reilly last ...</td>\n",
       "      <td>2016-02-24 11:36:24</td>\n",
       "    </tr>\n",
       "    <tr>\n",
       "      <th>241830</th>\n",
       "      <td>3.638109e+07</td>\n",
       "      <td>10152210324590725</td>\n",
       "      <td>1.530806e+11</td>\n",
       "      <td>Donald Trump</td>\n",
       "      <td>1.020078e+16</td>\n",
       "      <td>NaN</td>\n",
       "      <td>You mistyped Mitt Romney's name.</td>\n",
       "      <td>2012-10-28 21:19:43</td>\n",
       "    </tr>\n",
       "    <tr>\n",
       "      <th>1223994</th>\n",
       "      <td>1.015666e+16</td>\n",
       "      <td>10156658168535725</td>\n",
       "      <td>1.530806e+11</td>\n",
       "      <td>Donald Trump</td>\n",
       "      <td>1.020718e+16</td>\n",
       "      <td>NaN</td>\n",
       "      <td>I am Argentinian and Catholic,respect the Pope...</td>\n",
       "      <td>2016-02-19 02:20:43</td>\n",
       "    </tr>\n",
       "  </tbody>\n",
       "</table>\n",
       "</div>"
      ],
      "text/plain": [
       "                   id            post_id       page_id       page_name  \\\n",
       "1591830  8.481877e+14    847706408617698  1.249556e+14  Bernie Sanders   \n",
       "1497600  6.536537e+14    653482638040077  1.249556e+14  Bernie Sanders   \n",
       "1422917  1.015668e+16  10156680114785725  1.530806e+11    Donald Trump   \n",
       "241830   3.638109e+07  10152210324590725  1.530806e+11    Donald Trump   \n",
       "1223994  1.015666e+16  10156658168535725  1.530806e+11    Donald Trump   \n",
       "\n",
       "                fb_id fb_name  \\\n",
       "1591830  1.160356e+15     NaN   \n",
       "1497600  1.015346e+16     NaN   \n",
       "1422917  1.020421e+16     NaN   \n",
       "241830   1.020078e+16     NaN   \n",
       "1223994  1.020718e+16     NaN   \n",
       "\n",
       "                                                   message  \\\n",
       "1591830            \"the all\" is not part of their lexicon.   \n",
       "1497600  and E. Warren;   Willie MUST be kept clear of ...   \n",
       "1422917  I heard Cruz LIE about Trump on O'Reilly last ...   \n",
       "241830                    You mistyped Mitt Romney's name.   \n",
       "1223994  I am Argentinian and Catholic,respect the Pope...   \n",
       "\n",
       "                created_time  \n",
       "1591830  2015-06-09 20:44:13  \n",
       "1497600  2014-05-16 07:57:14  \n",
       "1422917  2016-02-24 11:36:24  \n",
       "241830   2012-10-28 21:19:43  \n",
       "1223994  2016-02-19 02:20:43  "
      ]
     },
     "execution_count": 7,
     "metadata": {},
     "output_type": "execute_result"
    }
   ],
   "source": [
    "tweets.groupby('fb_id').count()['id']\n",
    "# 153080620724  = Donald Trump\n",
    "# 124955570892789  = Sanders\n",
    "# 889307941125736  = Clinton\n",
    "mapp = { 153080620724: 'Donald Trump', 124955570892789: 'Bernie Sanders', 889307941125736: 'Hillary Clinton'}\n",
    "\n",
    "#tweets['from_name'] = tweets['from_id'].map(mapp)\n",
    "del tweets['page_name']\n",
    "tweets.insert(3, 'page_name', tweets['page_id'].map(mapp))\n",
    "tweets.insert(5, 'fb_name', tweets['fb_id'].map(mapp))\n",
    "tweets.sample(5)"
   ]
  },
  {
   "cell_type": "code",
   "execution_count": null,
   "metadata": {
    "collapsed": false
   },
   "outputs": [],
   "source": [
    "# %%timeit \n",
    "\n",
    "# print 'asd'\n",
    "# print 'asd'"
   ]
  },
  {
   "cell_type": "code",
   "execution_count": 8,
   "metadata": {
    "collapsed": false
   },
   "outputs": [
    {
     "data": {
      "text/plain": [
       "17"
      ]
     },
     "execution_count": 8,
     "metadata": {},
     "output_type": "execute_result"
    }
   ],
   "source": [
    "print len(tweets[~pd.isnull(tweets.fb_name)])"
   ]
  },
  {
   "cell_type": "code",
   "execution_count": 9,
   "metadata": {
    "collapsed": false
   },
   "outputs": [
    {
     "data": {
      "text/plain": [
       "fb_name\n",
       "Bernie Sanders     15\n",
       "Donald Trump        1\n",
       "Hillary Clinton     1\n",
       "Name: id, dtype: int64"
      ]
     },
     "execution_count": 9,
     "metadata": {},
     "output_type": "execute_result"
    }
   ],
   "source": [
    "tweets.groupby('fb_name').count()['id']"
   ]
  },
  {
   "cell_type": "code",
   "execution_count": 13,
   "metadata": {
    "collapsed": false
   },
   "outputs": [
    {
     "data": {
      "text/plain": [
       "page_name        post_id          \n",
       "Bernie Sanders   100171176808006         1\n",
       "                 10151939274160734     268\n",
       "                 10152125009092893     444\n",
       "                 10152171937945734      26\n",
       "                 10152230278035734      36\n",
       "                 10152237789680734      75\n",
       "                 10152238374850734      66\n",
       "                 10152242860875734     385\n",
       "                 10152244734535734      12\n",
       "                 10152252604985734      77\n",
       "                 1021780391210298      965\n",
       "                 102231426521051        11\n",
       "                 103174799782891        46\n",
       "                 103898726477201        34\n",
       "                 105864562872024        11\n",
       "                 107982319277730         1\n",
       "                 108320465995622         8\n",
       "                 108580025979025        35\n",
       "                 109264342490607         7\n",
       "                 109730062441178         7\n",
       "                 110194529133156         4\n",
       "                 110260102380720         3\n",
       "                 110273705732566         3\n",
       "                 110898835699618         8\n",
       "                 110949212407059        24\n",
       "                 111251215615180         6\n",
       "                 111309385612460        10\n",
       "                 112759988787927         1\n",
       "                 114473578650921        27\n",
       "                 114498008635232        17\n",
       "                                      ... \n",
       "Hillary Clinton  970080446381818      2005\n",
       "                 970690239654172       789\n",
       "                 974338352622694       296\n",
       "                 974472185942644       396\n",
       "                 976935625696300       234\n",
       "                 977254912331038       743\n",
       "                 978714835518379       733\n",
       "                 981858305204032       594\n",
       "                 981911965198666       247\n",
       "                 983778715011991       988\n",
       "                 984157698307426       252\n",
       "                 985100124879850       591\n",
       "                 985537004836162       689\n",
       "                 986186264771236       230\n",
       "                 987246321331897       232\n",
       "                 987870371269492       648\n",
       "                 988370254552837       561\n",
       "                 988768041179725       612\n",
       "                 988834517839744       688\n",
       "                 990629404326922       372\n",
       "                 991237697599426       438\n",
       "                 991801447543051       861\n",
       "                 993303154059547       305\n",
       "                 993334924056370       748\n",
       "                 993636410692888       859\n",
       "                 996565600399969       433\n",
       "                 996783360378193       202\n",
       "                 998099750246554      1868\n",
       "                 999242320132297       448\n",
       "                 999866820069847       485\n",
       "Name: id, dtype: int64"
      ]
     },
     "execution_count": 13,
     "metadata": {},
     "output_type": "execute_result"
    }
   ],
   "source": [
    "tweets.groupby(['page_name', 'post_id']).count()['id']"
   ]
  },
  {
   "cell_type": "code",
   "execution_count": 14,
   "metadata": {
    "collapsed": false
   },
   "outputs": [
    {
     "data": {
      "text/plain": [
       "page_name\n",
       "Bernie Sanders      176035\n",
       "Donald Trump       1451568\n",
       "Hillary Clinton     122601\n",
       "Name: id, dtype: int64"
      ]
     },
     "execution_count": 14,
     "metadata": {},
     "output_type": "execute_result"
    }
   ],
   "source": [
    "tweets.groupby(['page_name']).count()['id']"
   ]
  },
  {
   "cell_type": "code",
   "execution_count": 20,
   "metadata": {
    "collapsed": false
   },
   "outputs": [
    {
     "name": "stdout",
     "output_type": "stream",
     "text": [
      "Trump: 1798\n",
      "Sanders: 150\n",
      "Hillary: 609\n"
     ]
    }
   ],
   "source": [
    "print \"Trump: %d\" % (1451568/807)\n",
    "print \"Sanders: %d\" % (176035/1172) \n",
    "print \"Hillary: %d\" % (122601/201) "
   ]
  },
  {
   "cell_type": "code",
   "execution_count": 16,
   "metadata": {
    "collapsed": false
   },
   "outputs": [
    {
     "data": {
      "text/plain": [
       "150"
      ]
     },
     "execution_count": 16,
     "metadata": {},
     "output_type": "execute_result"
    }
   ],
   "source": [
    "176035/1172 "
   ]
  },
  {
   "cell_type": "code",
   "execution_count": 17,
   "metadata": {
    "collapsed": false
   },
   "outputs": [
    {
     "data": {
      "text/plain": [
       "609"
      ]
     },
     "execution_count": 17,
     "metadata": {},
     "output_type": "execute_result"
    }
   ],
   "source": [
    "122601/201 "
   ]
  },
  {
   "cell_type": "code",
   "execution_count": 11,
   "metadata": {
    "collapsed": false
   },
   "outputs": [
    {
     "data": {
      "text/plain": [
       "post_id\n",
       "1001350573254805     1283\n",
       "100171176808006         1\n",
       "1001769359879593      284\n",
       "1002360753153787      392\n",
       "1002737249782804     1160\n",
       "1005367706186425      469\n",
       "1006474436075752      438\n",
       "1006902082699654      457\n",
       "1006907236032472      672\n",
       "1009111585812037     1135\n",
       "1010033315719864      923\n",
       "1011463998910129      684\n",
       "1011821582207704      487\n",
       "1011997835523412      459\n",
       "1012987625424433      138\n",
       "1013086488747880      484\n",
       "101389543260237       145\n",
       "1014025208654008      850\n",
       "1014433791946483      570\n",
       "10150126653070554     125\n",
       "10150142451675725     147\n",
       "10150370919630725     414\n",
       "10150536788685725     526\n",
       "10150565134900725    1194\n",
       "10150588071420725    2274\n",
       "10150757204425725     271\n",
       "10150816231630725     571\n",
       "10150868615275725     154\n",
       "10150872796955725     153\n",
       "10150876741715725     184\n",
       "                     ... \n",
       "974472185942644       396\n",
       "976935625696300       234\n",
       "977254912331038       743\n",
       "978714835518379       733\n",
       "981858305204032       594\n",
       "981911965198666       247\n",
       "983778715011991       988\n",
       "984157698307426       252\n",
       "985100124879850       591\n",
       "985537004836162       689\n",
       "986186264771236       230\n",
       "987246321331897       232\n",
       "987870371269492       648\n",
       "988370254552837       561\n",
       "988768041179725       612\n",
       "988834517839744       688\n",
       "990629404326922       372\n",
       "991237697599426       438\n",
       "991801447543051       861\n",
       "992360210818983       111\n",
       "992362534152084        99\n",
       "993303154059547       305\n",
       "993334924056370       748\n",
       "993636410692888       859\n",
       "99410938203            72\n",
       "996565600399969       433\n",
       "996783360378193       202\n",
       "998099750246554      1868\n",
       "999242320132297       448\n",
       "999866820069847       485\n",
       "Name: id, dtype: int64"
      ]
     },
     "execution_count": 11,
     "metadata": {},
     "output_type": "execute_result"
    }
   ],
   "source": [
    "tweets.groupby('post_id').count()['id']"
   ]
  },
  {
   "cell_type": "code",
   "execution_count": null,
   "metadata": {
    "collapsed": false
   },
   "outputs": [],
   "source": [
    "#downloader.download('ner2.sco',download_dir='/root/polyglot_data')"
   ]
  },
  {
   "cell_type": "code",
   "execution_count": null,
   "metadata": {
    "collapsed": false
   },
   "outputs": [],
   "source": [
    "entities = {}"
   ]
  },
  {
   "cell_type": "code",
   "execution_count": null,
   "metadata": {
    "collapsed": false
   },
   "outputs": [],
   "source": [
    "# {for k, v tweets['entities']}"
   ]
  },
  {
   "cell_type": "code",
   "execution_count": null,
   "metadata": {
    "collapsed": false
   },
   "outputs": [],
   "source": [
    "for row_id, tweet in tweets.iterrows():\n",
    "    for ent in tweet['entities']:\n",
    "        if ent['entity'] not in entities:\n",
    "            entities.update({ent['entity']: {}})        "
   ]
  },
  {
   "cell_type": "code",
   "execution_count": null,
   "metadata": {
    "collapsed": false
   },
   "outputs": [],
   "source": [
    "for row_id, tweet in tweets.iterrows():\n",
    "    for ent in tweet['entities']:\n",
    "        if ent['entity'] not in entities:\n",
    "            entities.update({ent['entity']: {}})        "
   ]
  },
  {
   "cell_type": "code",
   "execution_count": null,
   "metadata": {
    "collapsed": true
   },
   "outputs": [],
   "source": [
    "#tweets = speeches_2016\n",
    "candidate_col = 'Actor'\n",
    "candidates = []\n",
    "for row_id, tweet in tweets.iterrows():\n",
    "   cand = tweet[candidate_col]\n",
    "   for ent in tweet['entities']:\n",
    "       e = ent['entity']\n",
    "       if check_if_candidate(e):\n",
    "           candidates.append((cand, check_if_candidate(e)))\n",
    "[x for x in candidates if x[0] != x[1]]"
   ]
  }
 ],
 "metadata": {
  "kernelspec": {
   "display_name": "Python 2",
   "language": "python",
   "name": "python2"
  },
  "language_info": {
   "codemirror_mode": {
    "name": "ipython",
    "version": 2
   },
   "file_extension": ".py",
   "mimetype": "text/x-python",
   "name": "python",
   "nbconvert_exporter": "python",
   "pygments_lexer": "ipython2",
   "version": "2.7.6"
  }
 },
 "nbformat": 4,
 "nbformat_minor": 0
}
