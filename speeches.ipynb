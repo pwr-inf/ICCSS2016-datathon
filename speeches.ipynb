{
 "cells": [
  {
   "cell_type": "code",
   "execution_count": 13,
   "metadata": {
    "collapsed": false
   },
   "outputs": [],
   "source": [
    "from glob import glob\n",
    "import simplejson as json\n",
    "import gzip\n",
    "import pandas as pd\n",
    "\n",
    "from polyglot.text import Text\n",
    "from polyglot.downloader import downloader"
   ]
  },
  {
   "cell_type": "code",
   "execution_count": 4,
   "metadata": {
    "collapsed": false
   },
   "outputs": [],
   "source": [
    "speeches_2016  = pd.read_csv('/notebooks/datasets/speeches/2016.csv_all.csv')"
   ]
  },
  {
   "cell_type": "code",
   "execution_count": 7,
   "metadata": {
    "collapsed": true
   },
   "outputs": [],
   "source": [
    "candidates = ['Hillary Clinton', 'Bernie Sanders', 'Donald Trump']"
   ]
  },
  {
   "cell_type": "code",
   "execution_count": 6,
   "metadata": {
    "collapsed": false
   },
   "outputs": [
    {
     "data": {
      "text/plain": [
       "array(['Hillary Clinton', 'Bernie Sanders', \"Martin O'Malley\",\n",
       "       'Lincoln Chafee', 'Jim Webb', 'Donald Trump', 'John Kasich',\n",
       "       'Ted Cruz', 'Marco Rubio', 'Ben Carson', 'Jeb Bush',\n",
       "       'Chris Christie', 'Carly Fiorina', 'Rick Santorum', 'Rand Paul',\n",
       "       'Mike Huckabee', 'George Pataki', 'Lindsey Graham', 'Bobby Jindal',\n",
       "       'Scott Walker', 'Rick Perry'], dtype=object)"
      ]
     },
     "execution_count": 6,
     "metadata": {},
     "output_type": "execute_result"
    }
   ],
   "source": [
    "speeches_2016.Actor.unique()"
   ]
  },
  {
   "cell_type": "code",
   "execution_count": 29,
   "metadata": {
    "collapsed": true
   },
   "outputs": [],
   "source": [
    "def get_entity_sentiment(e):\n",
    "    try:\n",
    "        pos=e.positive_sentiment\n",
    "        neg=e.negative_sentiment\n",
    "        return pos,neg\n",
    "    except:\n",
    "        return '',''\n",
    "def get_sentiment(t):\n",
    "    blob = TextBlob(t.decode('utf-8'))\n",
    "    return map(lambda s:s.sentiment.polarity,blob.sentences)\n",
    "def get_noun_phrases(t):\n",
    "    blob = TextBlob(t.decode('utf-8'))\n",
    "    return list(blob.noun_phrases)\n",
    "def map_entity(e):\n",
    "    pos,neg=get_entity_sentiment(e)\n",
    "    return {'tag':e.tag,'entity':\" \".join(e),'pos':pos,'neg':neg}\n",
    "def get_entites(text):\n",
    "    try:\n",
    "        polyglot_text=Text(text)\n",
    "        entities=polyglot_text.entities\n",
    "        return map(map_entity,entities)\n",
    "    except:\n",
    "        return []\n",
    "     \n",
    "def map_to_data(tweet):\n",
    "    user_name=tweet['user']['name']\n",
    "    text=tweet['text']\n",
    "    return {'text':text,'user':user_name,'entities':get_entites(text),'sentiment':get_sentiment(text),'noun_phrases':get_noun_phrases(text)}"
   ]
  },
  {
   "cell_type": "code",
   "execution_count": 14,
   "metadata": {
    "collapsed": true
   },
   "outputs": [],
   "source": [
    "def get_sentiment(e):\n",
    "    try:\n",
    "        pos=e.positive_sentiment\n",
    "        neg=e.negative_sentiment\n",
    "        return pos,neg\n",
    "    except:\n",
    "        return '',''\n",
    "\n",
    "def map_entity(e):\n",
    "    pos,neg=get_sentiment(e)\n",
    "    return {'tag':e.tag,'entity':\" \".join(e),'pos':pos,'neg':neg}\n",
    "def get_entites(text):\n",
    "    try:\n",
    "        polyglot_text=Text(text)\n",
    "        entities=polyglot_text.entities\n",
    "        return map(map_entity,entities)\n",
    "    except:\n",
    "        return []\n",
    "     \n",
    "def map_to_data(tweet):\n",
    "    user_name=tweet['user']['name']\n",
    "    text=tweet['text']\n",
    "    return {'text':text,'user':user_name,'entities':get_entites(text)}"
   ]
  },
  {
   "cell_type": "code",
   "execution_count": 11,
   "metadata": {
    "collapsed": false
   },
   "outputs": [
    {
     "data": {
      "text/html": [
       "<div>\n",
       "<table border=\"1\" class=\"dataframe\">\n",
       "  <thead>\n",
       "    <tr style=\"text-align: right;\">\n",
       "      <th></th>\n",
       "      <th>Unnamed: 0</th>\n",
       "      <th>url</th>\n",
       "      <th>Date</th>\n",
       "      <th>Title</th>\n",
       "      <th>Link</th>\n",
       "      <th>Actor</th>\n",
       "      <th>Texts</th>\n",
       "    </tr>\n",
       "  </thead>\n",
       "  <tbody>\n",
       "    <tr>\n",
       "      <th>0</th>\n",
       "      <td>0</td>\n",
       "      <td>http://www.presidency.ucsb.edu/2016_election_s...</td>\n",
       "      <td>April 12, 2015</td>\n",
       "      <td>Video Remarks Announcing Candidacy for President</td>\n",
       "      <td>http://www.presidency.ucsb.edu/ws/index.php?pi...</td>\n",
       "      <td>Hillary Clinton</td>\n",
       "      <td>Unidentified Female: I'm getting ready for a l...</td>\n",
       "    </tr>\n",
       "    <tr>\n",
       "      <th>1</th>\n",
       "      <td>1</td>\n",
       "      <td>http://www.presidency.ucsb.edu/2016_election_s...</td>\n",
       "      <td>April 14, 2015</td>\n",
       "      <td>Remarks in a Question and Answer Session at Ki...</td>\n",
       "      <td>http://www.presidency.ucsb.edu/ws/index.php?pi...</td>\n",
       "      <td>Hillary Clinton</td>\n",
       "      <td>[joined in progress]\\n[unknown student speaker...</td>\n",
       "    </tr>\n",
       "  </tbody>\n",
       "</table>\n",
       "</div>"
      ],
      "text/plain": [
       "   Unnamed: 0                                                url  \\\n",
       "0           0  http://www.presidency.ucsb.edu/2016_election_s...   \n",
       "1           1  http://www.presidency.ucsb.edu/2016_election_s...   \n",
       "\n",
       "             Date                                              Title  \\\n",
       "0  April 12, 2015   Video Remarks Announcing Candidacy for President   \n",
       "1  April 14, 2015  Remarks in a Question and Answer Session at Ki...   \n",
       "\n",
       "                                                Link            Actor  \\\n",
       "0  http://www.presidency.ucsb.edu/ws/index.php?pi...  Hillary Clinton   \n",
       "1  http://www.presidency.ucsb.edu/ws/index.php?pi...  Hillary Clinton   \n",
       "\n",
       "                                               Texts  \n",
       "0  Unidentified Female: I'm getting ready for a l...  \n",
       "1  [joined in progress]\\n[unknown student speaker...  "
      ]
     },
     "execution_count": 11,
     "metadata": {},
     "output_type": "execute_result"
    }
   ],
   "source": [
    "speeches_2016 = speeches_2016[speeches_2016.Actor.isin(candidates)]\n",
    "speeches_2016.head(2)"
   ]
  },
  {
   "cell_type": "code",
   "execution_count": 15,
   "metadata": {
    "collapsed": false
   },
   "outputs": [
    {
     "name": "stderr",
     "output_type": "stream",
     "text": [
      "WARNING:polyglot.detect.base:Detector is not able to detect the language reliably.\n"
     ]
    }
   ],
   "source": [
    "speeches_2016['entities']=speeches_2016['Texts'].map(get_entites)"
   ]
  },
  {
   "cell_type": "code",
   "execution_count": 40,
   "metadata": {
    "collapsed": false
   },
   "outputs": [
    {
     "data": {
      "text/plain": [
       "(1, 7)"
      ]
     },
     "execution_count": 40,
     "metadata": {},
     "output_type": "execute_result"
    }
   ],
   "source": [
    "pd.read_csv('/notebooks/datasets/speeches/2008_all.csv').shape"
   ]
  },
  {
   "cell_type": "code",
   "execution_count": 36,
   "metadata": {
    "collapsed": true
   },
   "outputs": [],
   "source": [
    "speeches_2016.to_pickle('/notebooks/datasets/speeches/2016_all_entities.pkl')"
   ]
  },
  {
   "cell_type": "code",
   "execution_count": 37,
   "metadata": {
    "collapsed": false
   },
   "outputs": [
    {
     "data": {
      "text/plain": [
       "Index([u'Unnamed: 0', u'url', u'Date', u'Title', u'Link', u'Actor', u'Texts',\n",
       "       u'entities'],\n",
       "      dtype='object')"
      ]
     },
     "execution_count": 37,
     "metadata": {},
     "output_type": "execute_result"
    }
   ],
   "source": [
    "speeches_2016.columns"
   ]
  },
  {
   "cell_type": "code",
   "execution_count": 35,
   "metadata": {
    "collapsed": false
   },
   "outputs": [
    {
     "data": {
      "text/plain": [
       "[{'entity': u\"I'm\", 'neg': 0, 'pos': 1.0, 'tag': u'I-PER'},\n",
       " {'entity': u\"I'm\", 'neg': 0, 'pos': 0.82736842105263153, 'tag': u'I-PER'},\n",
       " {'entity': u\"I'm\", 'neg': 0, 'pos': 0.78526315789473689, 'tag': u'I-PER'},\n",
       " {'entity': u\"we've\", 'neg': 0, 'pos': 0.76421052631578945, 'tag': u'I-PER'},\n",
       " {'entity': u\"I've\", 'neg': 0, 'pos': 0.71157894736842109, 'tag': u'I-PER'},\n",
       " {'entity': u'Clinton', 'neg': 0, 'pos': 0.66736842105263161, 'tag': u'I-PER'},\n",
       " {'entity': u\"I'm\", 'neg': 0, 'pos': 0.66526315789473678, 'tag': u'I-PER'},\n",
       " {'entity': u'America', 'neg': 0, 'pos': 0.58526315789473682, 'tag': u'I-LOC'},\n",
       " {'entity': u'Hillary Clinton',\n",
       "  'neg': 0,\n",
       "  'pos': 0.55368421052631578,\n",
       "  'tag': u'I-PER'},\n",
       " {'entity': u'Gerhard Peters',\n",
       "  'neg': 0,\n",
       "  'pos': 0.53368421052631576,\n",
       "  'tag': u'I-PER'},\n",
       " {'entity': u'John T', 'neg': 0, 'pos': 0.53052631578947373, 'tag': u'I-PER'},\n",
       " {'entity': u'Woolley', 'neg': 0, 'pos': 0.5273684210526316, 'tag': u'I-PER'},\n",
       " {'entity': u'American',\n",
       "  'neg': 0,\n",
       "  'pos': 0.52421052631578946,\n",
       "  'tag': u'I-ORG'}]"
      ]
     },
     "execution_count": 35,
     "metadata": {},
     "output_type": "execute_result"
    }
   ],
   "source": [
    "speeches_2016.ix[0]['entities']"
   ]
  },
  {
   "cell_type": "code",
   "execution_count": 32,
   "metadata": {
    "collapsed": false
   },
   "outputs": [
    {
     "data": {
      "text/plain": [
       "'http://www.presidency.ucsb.edu/ws/index.php?pid=110028'"
      ]
     },
     "execution_count": 32,
     "metadata": {},
     "output_type": "execute_result"
    }
   ],
   "source": [
    "speeches_2016.ix[0]['Link']"
   ]
  },
  {
   "cell_type": "code",
   "execution_count": 21,
   "metadata": {
    "collapsed": true
   },
   "outputs": [],
   "source": [
    "cands_map = {'Hillary': 'Hillary Clinton', 'Hillary Clinton': 'Hillary Clinton', 'Clinton': 'Hillary Clinton', \n",
    "            'Donald Trump': 'Donald Trump', 'Donald': 'Donald Trump', 'Trump': 'Donald Trump',\n",
    "            'Bernie Sanders': 'Bernie Sanders', 'Bernie': 'Bernie Sanders', 'Sanders': 'Bernie Sanders'}\n",
    "\n",
    "def check_if_candidate(x):\n",
    "    if x in cands_map:\n",
    "        return cands_map[x]\n",
    "    else:\n",
    "        return None"
   ]
  },
  {
   "cell_type": "code",
   "execution_count": 26,
   "metadata": {
    "collapsed": false
   },
   "outputs": [],
   "source": [
    "tweets = speeches_2016\n",
    "candidate_col = 'Actor'\n",
    "candidates = []\n",
    "for row_id, tweet in tweets.iterrows():\n",
    "    cand = tweet[candidate_col]\n",
    "    for ent in tweet['entities']:\n",
    "        e = ent['entity']\n",
    "        if check_if_candidate(e):\n",
    "            candidates.append((cand, check_if_candidate(e)))\n",
    "[x for x in candidates if x[0] != x[1]]"
   ]
  },
  {
   "cell_type": "code",
   "execution_count": 24,
   "metadata": {
    "collapsed": false
   },
   "outputs": [
    {
     "data": {
      "text/plain": [
       "9081"
      ]
     },
     "execution_count": 24,
     "metadata": {},
     "output_type": "execute_result"
    }
   ],
   "source": [
    "len(candidates)"
   ]
  },
  {
   "cell_type": "code",
   "execution_count": null,
   "metadata": {
    "collapsed": true
   },
   "outputs": [],
   "source": []
  }
 ],
 "metadata": {
  "kernelspec": {
   "display_name": "Python 2",
   "language": "python",
   "name": "python2"
  },
  "language_info": {
   "codemirror_mode": {
    "name": "ipython",
    "version": 2
   },
   "file_extension": ".py",
   "mimetype": "text/x-python",
   "name": "python",
   "nbconvert_exporter": "python",
   "pygments_lexer": "ipython2",
   "version": "2.7.6"
  }
 },
 "nbformat": 4,
 "nbformat_minor": 0
}
