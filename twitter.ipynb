{
 "cells": [
  {
   "cell_type": "code",
   "execution_count": 1,
   "metadata": {
    "collapsed": true
   },
   "outputs": [],
   "source": [
    "import twitter"
   ]
  },
  {
   "cell_type": "code",
   "execution_count": 4,
   "metadata": {
    "collapsed": true
   },
   "outputs": [],
   "source": [
    "api = twitter.Api(consumer_key='7lbsY1HMI29lywVvYXui4C2ZG',\n",
    "                      consumer_secret='lc1iSxHkCMHkDFPwiUIA4IQ0bPGj0UL9yZr2e7TVJbaZrx99KI',\n",
    "                      access_token_key='856325088-j5m9MK5LcMUeMkf8RV25Lqy5igAFOKVwnvlvKNLF',\n",
    "                      access_token_secret='Vo20nqbL31eT5gPloCHkhvB5NCKSWdYbCDHGGW6Zav3Kc')"
   ]
  },
  {
   "cell_type": "code",
   "execution_count": 5,
   "metadata": {
    "collapsed": false
   },
   "outputs": [
    {
     "name": "stdout",
     "output_type": "stream",
     "text": [
      "{\"created_at\": \"Mon Oct 01 12:56:52 +0000 2012\", \"favourites_count\": 11, \"followers_count\": 27, \"friends_count\": 75, \"geo_enabled\": true, \"id\": 856325088, \"lang\": \"pl\", \"listed_count\": 2, \"location\": \"Wroclaw\", \"name\": \"Roman Bartusiak\", \"profile_background_color\": \"131516\", \"profile_background_image_url\": \"http://abs.twimg.com/images/themes/theme14/bg.gif\", \"profile_background_tile\": true, \"profile_banner_url\": \"https://pbs.twimg.com/profile_banners/856325088/1367277073\", \"profile_image_url\": \"http://pbs.twimg.com/profile_images/3593153535/705d5c803cb5d46c2f518b5c3fa9108f_normal.jpeg\", \"profile_link_color\": \"8C8C8C\", \"profile_sidebar_fill_color\": \"EFEFEF\", \"profile_text_color\": \"333333\", \"screen_name\": \"RomanBartusiak\", \"status\": {\"created_at\": \"Fri Jun 17 17:52:03 +0000 2016\", \"favorite_count\": 1, \"hashtags\": [], \"id\": 743863794573713408, \"id_str\": \"743863794573713408\", \"lang\": \"en\", \"media\": [{\"display_url\": \"pic.twitter.com/OrA55XxUNK\", \"expanded_url\": \"http://twitter.com/RomanBartusiak/status/743863794573713408/photo/1\", \"id\": 743863790257713152, \"media_url\": \"http://pbs.twimg.com/media/ClK8LROWMAAYjDe.jpg\", \"media_url_https\": \"https://pbs.twimg.com/media/ClK8LROWMAAYjDe.jpg\", \"type\": \"photo\", \"url\": \"https://t.co/OrA55XxUNK\"}], \"retweet_count\": 1, \"source\": \"<a href=\\\"http://twitter.com\\\" rel=\\\"nofollow\\\">Twitter Web Client</a>\", \"text\": \"That is awesome! @HelloPaperspace https://t.co/OrA55XxUNK\", \"urls\": [], \"user_mentions\": [{\"id\": 2925753598, \"name\": \"Paperspace\", \"screen_name\": \"HelloPaperspace\"}]}, \"statuses_count\": 18, \"url\": \"http://t.co/bHuEChSNHl\"}\n"
     ]
    },
    {
     "name": "stderr",
     "output_type": "stream",
     "text": [
      "/usr/local/lib/python2.7/dist-packages/requests/packages/urllib3/util/ssl_.py:120: InsecurePlatformWarning: A true SSLContext object is not available. This prevents urllib3 from configuring SSL appropriately and may cause certain SSL connections to fail. For more information, see https://urllib3.readthedocs.org/en/latest/security.html#insecureplatformwarning.\n",
      "  InsecurePlatformWarning\n"
     ]
    }
   ],
   "source": [
    " print(api.VerifyCredentials())"
   ]
  },
  {
   "cell_type": "code",
   "execution_count": 8,
   "metadata": {
    "collapsed": false
   },
   "outputs": [
    {
     "name": "stderr",
     "output_type": "stream",
     "text": [
      "/usr/local/lib/python2.7/dist-packages/requests/packages/urllib3/util/ssl_.py:120: InsecurePlatformWarning: A true SSLContext object is not available. This prevents urllib3 from configuring SSL appropriately and may cause certain SSL connections to fail. For more information, see https://urllib3.readthedocs.org/en/latest/security.html#insecureplatformwarning.\n",
      "  InsecurePlatformWarning\n"
     ]
    }
   ],
   "source": [
    "statuses = api.GetUserTimeline(screen_name='realDonaldTrump')"
   ]
  },
  {
   "cell_type": "code",
   "execution_count": 7,
   "metadata": {
    "collapsed": false
   },
   "outputs": [
    {
     "name": "stdout",
     "output_type": "stream",
     "text": [
      "[u'#Imwithyou https://t.co/iY4K7Wcw3C', u\"Hillary says things can't change. I say they have to change. It's a choice between Americanism and her corrupt globalism. #Imwithyou\", u'\"@chrisboydbrew: @LouDobbs @realDonaldTrump @FoxBusiness.. Saw your interview.You are the best! Great questions, great answers\" Lou is great', u'Crooked Hillary refuses to say that she will be raising taxes beyond belief! She will be a disaster for jobs and the economy!', u'I will be interviewed by @LouDobbs tonight on @FoxBusiness 7pm ET', u'Hillary defrauded America as Secy of State. She used it as a personal hedge fund to get herself rich! Corrupt, dangerous, dishonest.', u\"If you want to know about Hillary Clinton's honesty &amp; judgment, ask the family of Ambassador Stevens.\", u'Hillary took money and did favors for regimes that enslave women and murder gays.', u'I am \"the king of debt.\"That has been great for me as a businessman, but is bad for the country. I made a fortune off of debt, will fix U.S.', u'Obama-Clinton inherited $10T in debt and turned it into nearly $20T.  They have bankrupted\\u2026 https://t.co/1COtt0RPY7', u\"Hillary Clinton's open borders immigration policies will drive down wages for all Americans - and make everyone less safe.\", u\"How can Hillary run the economy when she can't even send emails without putting entire nation at risk?\", u'Hillary Clinton surged the trade deficit with China 40% as\\nSecretary of State, costing Americans millions of jobs.', u\"Hillary says this election is about judgment.  She's right.  Her judgement has killed thousands, unleashed ISIS and wrecked the economy.\", u'I will be making a big speech tomorrow to discuss the failed policies and bad judgment of Crooked Hillary Clinton.', u'Crooked Hillary Clinton is totally unfit to be our president-really bad judgement and a temperament, according to new book, which is a mess!', u'When I said that if, within the Orlando club, you had some people with guns, I was obviously talking about additional guards or employees', u'.@DJohnsonPGA We are so proud of you Dustin. Your reaction under pressure was amazing. First of many Majors. You are a true CHAMPION!', u'\"@bfraser747: Watch out HillaryClinton \\U0001f47f Support @realDonaldTrump \\U0001f1fa\\U0001f1f8 \\U0001f1fa\\U0001f1f8 #MakeAmericaGreatAgain \\U0001f1fa\\U0001f1f8 https://t.co/UTYOLo7wGF\"', u\"Yesterday's failing @NYTimes fraudulently shows an empty room prior to my speech, when in fact, it was packed! https://t.co/iFuf8MdTEH\"]\n"
     ]
    }
   ],
   "source": [
    "print([s.text for s in statuses])"
   ]
  }
 ],
 "metadata": {
  "kernelspec": {
   "display_name": "Python 2",
   "language": "python",
   "name": "python2"
  },
  "language_info": {
   "codemirror_mode": {
    "name": "ipython",
    "version": 2
   },
   "file_extension": ".py",
   "mimetype": "text/x-python",
   "name": "python",
   "nbconvert_exporter": "python",
   "pygments_lexer": "ipython2",
   "version": "2.7.6"
  }
 },
 "nbformat": 4,
 "nbformat_minor": 0
}
